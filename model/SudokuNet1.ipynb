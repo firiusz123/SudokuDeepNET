{
 "cells": [
  {
   "cell_type": "code",
   "execution_count": 2,
   "metadata": {},
   "outputs": [],
   "source": [
    "import torch\n",
    "dataset_path = 'SudokuData/sudoku_dataset_OneHot.pt'\n",
    "sudoku_data = torch.load(dataset_path)\n",
    "\n"
   ]
  },
  {
   "cell_type": "code",
   "execution_count": 11,
   "metadata": {},
   "outputs": [],
   "source": [
    "puzzles = sudoku_data['puzzles']\n",
    "solutions = sudoku_data['solutions']\n",
    "num_holes = sudoku_data['num_holes']"
   ]
  },
  {
   "cell_type": "code",
   "execution_count": 17,
   "metadata": {},
   "outputs": [],
   "source": [
    "puzzles16 = puzzles.half()\n",
    "solutions16 = solutions.half()\n",
    "\n"
   ]
  },
  {
   "cell_type": "code",
   "execution_count": 16,
   "metadata": {},
   "outputs": [],
   "source": [
    "num_holes = torch.tensor(num_holes)\n",
    "num_holes8 = num_holes.to(torch.int8)"
   ]
  },
  {
   "cell_type": "code",
   "execution_count": 18,
   "metadata": {},
   "outputs": [
    {
     "name": "stdout",
     "output_type": "stream",
     "text": [
      "Dataset converted to float16 and saved successfully.\n"
     ]
    }
   ],
   "source": [
    "\n",
    "\n",
    "# Save the converted dataset\n",
    "\n",
    "dataset = {\n",
    "            'puzzles': puzzles16,\n",
    "            'solutions': solutions16,\n",
    "            'num_holes': num_holes8  # Save the number of holes for each puzzle\n",
    "        }\n",
    "\n",
    "        # Save the dataset as a torch object\n",
    "\n",
    "path = 'SudokuData/sudoku_dataset_OneHot_float16.pt'\n",
    "torch.save(dataset, path)\n",
    "\n",
    "print(\"Dataset converted to float16 and saved successfully.\")"
   ]
  }
 ],
 "metadata": {
  "kernelspec": {
   "display_name": "Python 3",
   "language": "python",
   "name": "python3"
  },
  "language_info": {
   "codemirror_mode": {
    "name": "ipython",
    "version": 3
   },
   "file_extension": ".py",
   "mimetype": "text/x-python",
   "name": "python",
   "nbconvert_exporter": "python",
   "pygments_lexer": "ipython3",
   "version": "3.10.8"
  }
 },
 "nbformat": 4,
 "nbformat_minor": 2
}
