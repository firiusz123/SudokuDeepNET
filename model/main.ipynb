{
 "cells": [
  {
   "cell_type": "code",
   "execution_count": 3,
   "metadata": {},
   "outputs": [
    {
     "name": "stdout",
     "output_type": "stream",
     "text": [
      "Features of the dataset:\n",
      "{'input': Sequence(feature=Sequence(feature=Value(dtype='int8', id=None), length=-1, id=None), length=-1, id=None), 'output': Sequence(feature=Sequence(feature=Value(dtype='int8', id=None), length=-1, id=None), length=-1, id=None)}\n",
      "First batch loaded successfully.\n",
      "{'input': tensor([[[0, 0, 0,  ..., 0, 0, 0],\n",
      "         [0, 0, 0,  ..., 0, 0, 0],\n",
      "         [4, 7, 6,  ..., 0, 0, 0],\n",
      "         ...,\n",
      "         [0, 0, 0,  ..., 4, 0, 0],\n",
      "         [0, 0, 0,  ..., 6, 0, 3],\n",
      "         [0, 0, 0,  ..., 0, 0, 0]],\n",
      "\n",
      "        [[6, 4, 0,  ..., 0, 0, 0],\n",
      "         [8, 2, 0,  ..., 0, 0, 0],\n",
      "         [7, 5, 0,  ..., 0, 0, 0],\n",
      "         ...,\n",
      "         [0, 0, 0,  ..., 6, 3, 8],\n",
      "         [0, 0, 0,  ..., 0, 9, 0],\n",
      "         [0, 0, 0,  ..., 4, 7, 5]],\n",
      "\n",
      "        [[5, 0, 6,  ..., 0, 0, 0],\n",
      "         [0, 0, 2,  ..., 0, 0, 0],\n",
      "         [7, 4, 8,  ..., 0, 0, 0],\n",
      "         ...,\n",
      "         [0, 0, 0,  ..., 3, 4, 0],\n",
      "         [0, 0, 0,  ..., 8, 1, 0],\n",
      "         [0, 0, 0,  ..., 0, 0, 0]],\n",
      "\n",
      "        ...,\n",
      "\n",
      "        [[6, 0, 3,  ..., 0, 0, 0],\n",
      "         [0, 5, 8,  ..., 0, 0, 0],\n",
      "         [7, 1, 0,  ..., 0, 0, 0],\n",
      "         ...,\n",
      "         [0, 0, 0,  ..., 0, 0, 4],\n",
      "         [0, 0, 0,  ..., 5, 3, 0],\n",
      "         [0, 0, 0,  ..., 0, 6, 2]],\n",
      "\n",
      "        [[3, 0, 5,  ..., 0, 0, 0],\n",
      "         [0, 8, 6,  ..., 0, 0, 0],\n",
      "         [7, 1, 4,  ..., 0, 0, 0],\n",
      "         ...,\n",
      "         [0, 0, 0,  ..., 9, 3, 0],\n",
      "         [0, 0, 0,  ..., 5, 7, 8],\n",
      "         [0, 0, 0,  ..., 4, 1, 6]],\n",
      "\n",
      "        [[3, 1, 8,  ..., 0, 0, 0],\n",
      "         [4, 2, 9,  ..., 0, 0, 0],\n",
      "         [0, 0, 6,  ..., 0, 0, 0],\n",
      "         ...,\n",
      "         [0, 0, 0,  ..., 0, 5, 9],\n",
      "         [0, 0, 0,  ..., 6, 0, 7],\n",
      "         [0, 0, 0,  ..., 0, 3, 4]]]), 'output': tensor([[[2, 9, 5,  ..., 0, 0, 0],\n",
      "         [1, 3, 8,  ..., 0, 0, 0],\n",
      "         [4, 7, 6,  ..., 0, 0, 0],\n",
      "         ...,\n",
      "         [0, 0, 0,  ..., 4, 2, 8],\n",
      "         [0, 0, 0,  ..., 6, 5, 3],\n",
      "         [0, 0, 0,  ..., 9, 7, 1]],\n",
      "\n",
      "        [[6, 4, 9,  ..., 0, 0, 0],\n",
      "         [8, 2, 1,  ..., 0, 0, 0],\n",
      "         [7, 5, 3,  ..., 0, 0, 0],\n",
      "         ...,\n",
      "         [0, 0, 0,  ..., 6, 3, 8],\n",
      "         [0, 0, 0,  ..., 2, 9, 1],\n",
      "         [0, 0, 0,  ..., 4, 7, 5]],\n",
      "\n",
      "        [[5, 1, 6,  ..., 0, 0, 0],\n",
      "         [9, 3, 2,  ..., 0, 0, 0],\n",
      "         [7, 4, 8,  ..., 0, 0, 0],\n",
      "         ...,\n",
      "         [0, 0, 0,  ..., 3, 4, 2],\n",
      "         [0, 0, 0,  ..., 8, 1, 5],\n",
      "         [0, 0, 0,  ..., 6, 7, 9]],\n",
      "\n",
      "        ...,\n",
      "\n",
      "        [[6, 9, 3,  ..., 0, 0, 0],\n",
      "         [2, 5, 8,  ..., 0, 0, 0],\n",
      "         [7, 1, 4,  ..., 0, 0, 0],\n",
      "         ...,\n",
      "         [0, 0, 0,  ..., 1, 7, 4],\n",
      "         [0, 0, 0,  ..., 5, 3, 8],\n",
      "         [0, 0, 0,  ..., 9, 6, 2]],\n",
      "\n",
      "        [[3, 2, 5,  ..., 0, 0, 0],\n",
      "         [9, 8, 6,  ..., 0, 0, 0],\n",
      "         [7, 1, 4,  ..., 0, 0, 0],\n",
      "         ...,\n",
      "         [0, 0, 0,  ..., 9, 3, 2],\n",
      "         [0, 0, 0,  ..., 5, 7, 8],\n",
      "         [0, 0, 0,  ..., 4, 1, 6]],\n",
      "\n",
      "        [[3, 1, 8,  ..., 0, 0, 0],\n",
      "         [4, 2, 9,  ..., 0, 0, 0],\n",
      "         [5, 7, 6,  ..., 0, 0, 0],\n",
      "         ...,\n",
      "         [0, 0, 0,  ..., 2, 5, 9],\n",
      "         [0, 0, 0,  ..., 6, 1, 7],\n",
      "         [0, 0, 0,  ..., 8, 3, 4]]])}\n"
     ]
    }
   ],
   "source": [
    "from datasets import load_from_disk\n",
    "from torch.utils.data import DataLoader\n",
    "\n",
    "# Load the dataset from disk and set format to 'torch' for PyTorch compatibility\n",
    "loaded_dataset = load_from_disk(\"sudoku_dataset_own_1M\").with_format(\"torch\")\n",
    "\n",
    "# Display the features of the dataset to ensure it's loaded correctly\n",
    "print(\"Features of the dataset:\")\n",
    "print(loaded_dataset.features)\n",
    "\n",
    "# Create a DataLoader for batch processing\n",
    "# Setting num_workers=4 to utilize multiple CPU cores for faster data loading\n",
    "dataloader = DataLoader(loaded_dataset, batch_size=10000, num_workers=4)\n",
    "\n",
    "# Example: Iterating over the dataloader to fetch the first batch\n",
    "for batch in dataloader:\n",
    "    print(\"First batch loaded successfully.\")\n",
    "    print(batch)  # Inspect the structure of the batch\n",
    "    break  # Remove this line to iterate over the entire dataset\n"
   ]
  },
  {
   "cell_type": "code",
   "execution_count": 8,
   "metadata": {},
   "outputs": [
    {
     "name": "stdout",
     "output_type": "stream",
     "text": [
      "Using device: cuda\n"
     ]
    },
    {
     "name": "stderr",
     "output_type": "stream",
     "text": [
      "Epoch 1/10: 100%|██████████| 7813/7813 [01:19<00:00, 98.66it/s, Loss=0.658] \n"
     ]
    },
    {
     "name": "stdout",
     "output_type": "stream",
     "text": [
      "Epoch 1/10, Average Loss: 0.9861\n"
     ]
    },
    {
     "name": "stderr",
     "output_type": "stream",
     "text": [
      "Epoch 2/10: 100%|██████████| 7813/7813 [01:19<00:00, 98.79it/s, Loss=0.692] \n"
     ]
    },
    {
     "name": "stdout",
     "output_type": "stream",
     "text": [
      "Epoch 2/10, Average Loss: 0.6785\n"
     ]
    },
    {
     "name": "stderr",
     "output_type": "stream",
     "text": [
      "Epoch 3/10: 100%|██████████| 7813/7813 [01:23<00:00, 93.02it/s, Loss=0.606] \n"
     ]
    },
    {
     "name": "stdout",
     "output_type": "stream",
     "text": [
      "Epoch 3/10, Average Loss: 0.6692\n"
     ]
    },
    {
     "name": "stderr",
     "output_type": "stream",
     "text": [
      "Epoch 4/10: 100%|██████████| 7813/7813 [01:25<00:00, 91.16it/s, Loss=0.645] \n"
     ]
    },
    {
     "name": "stdout",
     "output_type": "stream",
     "text": [
      "Epoch 4/10, Average Loss: 0.6655\n"
     ]
    },
    {
     "name": "stderr",
     "output_type": "stream",
     "text": [
      "Epoch 5/10: 100%|██████████| 7813/7813 [01:26<00:00, 90.69it/s, Loss=0.684] \n"
     ]
    },
    {
     "name": "stdout",
     "output_type": "stream",
     "text": [
      "Epoch 5/10, Average Loss: 0.6628\n"
     ]
    },
    {
     "name": "stderr",
     "output_type": "stream",
     "text": [
      "Epoch 6/10: 100%|██████████| 7813/7813 [01:15<00:00, 104.10it/s, Loss=0.669]\n"
     ]
    },
    {
     "name": "stdout",
     "output_type": "stream",
     "text": [
      "Epoch 6/10, Average Loss: 0.6604\n"
     ]
    },
    {
     "name": "stderr",
     "output_type": "stream",
     "text": [
      "Epoch 7/10: 100%|██████████| 7813/7813 [01:16<00:00, 102.10it/s, Loss=0.652]\n"
     ]
    },
    {
     "name": "stdout",
     "output_type": "stream",
     "text": [
      "Epoch 7/10, Average Loss: 0.6577\n"
     ]
    },
    {
     "name": "stderr",
     "output_type": "stream",
     "text": [
      "Epoch 8/10: 100%|██████████| 7813/7813 [01:20<00:00, 96.52it/s, Loss=0.67]  \n"
     ]
    },
    {
     "name": "stdout",
     "output_type": "stream",
     "text": [
      "Epoch 8/10, Average Loss: 0.6540\n"
     ]
    },
    {
     "name": "stderr",
     "output_type": "stream",
     "text": [
      "Epoch 9/10: 100%|██████████| 7813/7813 [01:24<00:00, 92.38it/s, Loss=0.62]  \n"
     ]
    },
    {
     "name": "stdout",
     "output_type": "stream",
     "text": [
      "Epoch 9/10, Average Loss: 0.6496\n"
     ]
    },
    {
     "name": "stderr",
     "output_type": "stream",
     "text": [
      "Epoch 10/10: 100%|██████████| 7813/7813 [01:27<00:00, 89.24it/s, Loss=0.617] "
     ]
    },
    {
     "name": "stdout",
     "output_type": "stream",
     "text": [
      "Epoch 10/10, Average Loss: 0.6457\n"
     ]
    },
    {
     "name": "stderr",
     "output_type": "stream",
     "text": [
      "\n"
     ]
    }
   ],
   "source": [
    "import torch\n",
    "import torch.nn as nn\n",
    "import torch.optim as optim\n",
    "from torch.utils.data import DataLoader\n",
    "from datasets import load_from_disk\n",
    "from tqdm import tqdm  # Import tqdm for progress bar\n",
    "\n",
    "# Check if a GPU is available\n",
    "device = torch.device('cuda' if torch.cuda.is_available() else 'cpu')\n",
    "print(f\"Using device: {device}\")\n",
    "\n",
    "# Load the dataset from disk and set format to 'torch' for PyTorch compatibility\n",
    "# Replace \"sudoku_dataset_own_1M\" with the path to your dataset if different\n",
    "loaded_dataset = load_from_disk(\"sudoku_dataset_own_1M\").with_format(\"torch\")\n",
    "\n",
    "# Create a DataLoader for batch processing\n",
    "dataloader = DataLoader(loaded_dataset, batch_size=128, shuffle=True, num_workers=4)\n",
    "\n",
    "# Define the neural network model\n",
    "class SimpleSudokuNN(nn.Module):\n",
    "    def __init__(self):\n",
    "        super(SimpleSudokuNN, self).__init__()\n",
    "        # Input layer: 81 -> Hidden layer 1: 128 -> Hidden layer 2: 128 -> Output layer: 81\n",
    "        self.model = nn.Sequential(\n",
    "            nn.Linear(81, 128),\n",
    "            nn.ReLU(),\n",
    "            nn.Linear(128, 128),\n",
    "            nn.ReLU(),\n",
    "            nn.Linear(128, 81)\n",
    "        )\n",
    "\n",
    "    def forward(self, x):\n",
    "        # Flatten the input if it is a 9x9 grid\n",
    "        x = x.view(-1, 81).float()  # Convert to float32\n",
    "        return self.model(x)\n",
    "\n",
    "# Instantiate the model, loss function, and optimizer\n",
    "model = SimpleSudokuNN().to(device)  # Move model to the GPU\n",
    "criterion = nn.MSELoss()  # Mean squared error for regression\n",
    "optimizer = optim.Adam(model.parameters(), lr=0.001)\n",
    "\n",
    "# Training the model\n",
    "num_epochs = 10  # Number of epochs to train the model\n",
    "for epoch in range(num_epochs):\n",
    "    running_loss = 0.0\n",
    "    \n",
    "    # Create a progress bar for the current epoch\n",
    "    progress_bar = tqdm(dataloader, desc=f\"Epoch {epoch+1}/{num_epochs}\")\n",
    "    \n",
    "    for batch in progress_bar:\n",
    "        # Retrieve input and output from the batch and move to GPU\n",
    "        inputs = batch['input'].float().to(device)  # Convert inputs to float32 and move to GPU\n",
    "        outputs = batch['output'].view(-1, 81).float().to(device)  # Convert outputs to float32, flatten, and move to GPU\n",
    "\n",
    "        # Zero the parameter gradients\n",
    "        optimizer.zero_grad()\n",
    "\n",
    "        # Forward pass\n",
    "        predictions = model(inputs)\n",
    "        \n",
    "        # Compute loss\n",
    "        loss = criterion(predictions, outputs)\n",
    "        \n",
    "        # Backward pass and optimize\n",
    "        loss.backward()\n",
    "        optimizer.step()\n",
    "        \n",
    "        # Accumulate running loss\n",
    "        running_loss += loss.item()\n",
    "        \n",
    "        # Update the progress bar with the current loss\n",
    "        progress_bar.set_postfix({'Loss': loss.item()})\n",
    "    \n",
    "    # Print average loss per epoch\n",
    "    print(f\"Epoch {epoch+1}/{num_epochs}, Average Loss: {running_loss/len(dataloader):.4f}\")\n"
   ]
  },
  {
   "cell_type": "code",
   "execution_count": 18,
   "metadata": {},
   "outputs": [
    {
     "name": "stdout",
     "output_type": "stream",
     "text": [
      "Using device: cuda\n"
     ]
    },
    {
     "name": "stderr",
     "output_type": "stream",
     "text": [
      "Epoch 1/4:  28%|██▊       | 4302/15625 [00:26<01:10, 161.33it/s, Loss=2.56]  \n"
     ]
    },
    {
     "ename": "KeyboardInterrupt",
     "evalue": "",
     "output_type": "error",
     "traceback": [
      "\u001b[1;31m---------------------------------------------------------------------------\u001b[0m",
      "\u001b[1;31mKeyboardInterrupt\u001b[0m                         Traceback (most recent call last)",
      "Cell \u001b[1;32mIn[18], line 68\u001b[0m\n\u001b[0;32m     65\u001b[0m predictions \u001b[38;5;241m=\u001b[39m model(inputs)\n\u001b[0;32m     67\u001b[0m \u001b[38;5;66;03m# Compute loss\u001b[39;00m\n\u001b[1;32m---> 68\u001b[0m loss \u001b[38;5;241m=\u001b[39m \u001b[43mcriterion\u001b[49m\u001b[43m(\u001b[49m\u001b[43mpredictions\u001b[49m\u001b[43m,\u001b[49m\u001b[43m \u001b[49m\u001b[43moutputs\u001b[49m\u001b[43m)\u001b[49m\n\u001b[0;32m     70\u001b[0m \u001b[38;5;66;03m# Backward pass and optimize\u001b[39;00m\n\u001b[0;32m     71\u001b[0m loss\u001b[38;5;241m.\u001b[39mbackward()\n",
      "File \u001b[1;32m~\\AppData\\Roaming\\Python\\Python310\\site-packages\\torch\\nn\\modules\\module.py:1518\u001b[0m, in \u001b[0;36mModule._wrapped_call_impl\u001b[1;34m(self, *args, **kwargs)\u001b[0m\n\u001b[0;32m   1516\u001b[0m     \u001b[38;5;28;01mreturn\u001b[39;00m \u001b[38;5;28mself\u001b[39m\u001b[38;5;241m.\u001b[39m_compiled_call_impl(\u001b[38;5;241m*\u001b[39margs, \u001b[38;5;241m*\u001b[39m\u001b[38;5;241m*\u001b[39mkwargs)  \u001b[38;5;66;03m# type: ignore[misc]\u001b[39;00m\n\u001b[0;32m   1517\u001b[0m \u001b[38;5;28;01melse\u001b[39;00m:\n\u001b[1;32m-> 1518\u001b[0m     \u001b[38;5;28;01mreturn\u001b[39;00m \u001b[38;5;28mself\u001b[39m\u001b[38;5;241m.\u001b[39m_call_impl(\u001b[38;5;241m*\u001b[39margs, \u001b[38;5;241m*\u001b[39m\u001b[38;5;241m*\u001b[39mkwargs)\n",
      "File \u001b[1;32m~\\AppData\\Roaming\\Python\\Python310\\site-packages\\torch\\nn\\modules\\module.py:1527\u001b[0m, in \u001b[0;36mModule._call_impl\u001b[1;34m(self, *args, **kwargs)\u001b[0m\n\u001b[0;32m   1522\u001b[0m \u001b[38;5;66;03m# If we don't have any hooks, we want to skip the rest of the logic in\u001b[39;00m\n\u001b[0;32m   1523\u001b[0m \u001b[38;5;66;03m# this function, and just call forward.\u001b[39;00m\n\u001b[0;32m   1524\u001b[0m \u001b[38;5;28;01mif\u001b[39;00m \u001b[38;5;129;01mnot\u001b[39;00m (\u001b[38;5;28mself\u001b[39m\u001b[38;5;241m.\u001b[39m_backward_hooks \u001b[38;5;129;01mor\u001b[39;00m \u001b[38;5;28mself\u001b[39m\u001b[38;5;241m.\u001b[39m_backward_pre_hooks \u001b[38;5;129;01mor\u001b[39;00m \u001b[38;5;28mself\u001b[39m\u001b[38;5;241m.\u001b[39m_forward_hooks \u001b[38;5;129;01mor\u001b[39;00m \u001b[38;5;28mself\u001b[39m\u001b[38;5;241m.\u001b[39m_forward_pre_hooks\n\u001b[0;32m   1525\u001b[0m         \u001b[38;5;129;01mor\u001b[39;00m _global_backward_pre_hooks \u001b[38;5;129;01mor\u001b[39;00m _global_backward_hooks\n\u001b[0;32m   1526\u001b[0m         \u001b[38;5;129;01mor\u001b[39;00m _global_forward_hooks \u001b[38;5;129;01mor\u001b[39;00m _global_forward_pre_hooks):\n\u001b[1;32m-> 1527\u001b[0m     \u001b[38;5;28;01mreturn\u001b[39;00m forward_call(\u001b[38;5;241m*\u001b[39margs, \u001b[38;5;241m*\u001b[39m\u001b[38;5;241m*\u001b[39mkwargs)\n\u001b[0;32m   1529\u001b[0m \u001b[38;5;28;01mtry\u001b[39;00m:\n\u001b[0;32m   1530\u001b[0m     result \u001b[38;5;241m=\u001b[39m \u001b[38;5;28;01mNone\u001b[39;00m\n",
      "File \u001b[1;32m~\\AppData\\Roaming\\Python\\Python310\\site-packages\\torch\\nn\\modules\\loss.py:535\u001b[0m, in \u001b[0;36mMSELoss.forward\u001b[1;34m(self, input, target)\u001b[0m\n\u001b[0;32m    534\u001b[0m \u001b[38;5;28;01mdef\u001b[39;00m \u001b[38;5;21mforward\u001b[39m(\u001b[38;5;28mself\u001b[39m, \u001b[38;5;28minput\u001b[39m: Tensor, target: Tensor) \u001b[38;5;241m-\u001b[39m\u001b[38;5;241m>\u001b[39m Tensor:\n\u001b[1;32m--> 535\u001b[0m     \u001b[38;5;28;01mreturn\u001b[39;00m \u001b[43mF\u001b[49m\u001b[38;5;241;43m.\u001b[39;49m\u001b[43mmse_loss\u001b[49m\u001b[43m(\u001b[49m\u001b[38;5;28;43minput\u001b[39;49m\u001b[43m,\u001b[49m\u001b[43m \u001b[49m\u001b[43mtarget\u001b[49m\u001b[43m,\u001b[49m\u001b[43m \u001b[49m\u001b[43mreduction\u001b[49m\u001b[38;5;241;43m=\u001b[39;49m\u001b[38;5;28;43mself\u001b[39;49m\u001b[38;5;241;43m.\u001b[39;49m\u001b[43mreduction\u001b[49m\u001b[43m)\u001b[49m\n",
      "File \u001b[1;32m~\\AppData\\Roaming\\Python\\Python310\\site-packages\\torch\\nn\\functional.py:3329\u001b[0m, in \u001b[0;36mmse_loss\u001b[1;34m(input, target, size_average, reduce, reduction)\u001b[0m\n\u001b[0;32m   3326\u001b[0m     reduction \u001b[38;5;241m=\u001b[39m _Reduction\u001b[38;5;241m.\u001b[39mlegacy_get_string(size_average, reduce)\n\u001b[0;32m   3328\u001b[0m expanded_input, expanded_target \u001b[38;5;241m=\u001b[39m torch\u001b[38;5;241m.\u001b[39mbroadcast_tensors(\u001b[38;5;28minput\u001b[39m, target)\n\u001b[1;32m-> 3329\u001b[0m \u001b[38;5;28;01mreturn\u001b[39;00m \u001b[43mtorch\u001b[49m\u001b[38;5;241;43m.\u001b[39;49m\u001b[43m_C\u001b[49m\u001b[38;5;241;43m.\u001b[39;49m\u001b[43m_nn\u001b[49m\u001b[38;5;241;43m.\u001b[39;49m\u001b[43mmse_loss\u001b[49m\u001b[43m(\u001b[49m\u001b[43mexpanded_input\u001b[49m\u001b[43m,\u001b[49m\u001b[43m \u001b[49m\u001b[43mexpanded_target\u001b[49m\u001b[43m,\u001b[49m\u001b[43m \u001b[49m\u001b[43m_Reduction\u001b[49m\u001b[38;5;241;43m.\u001b[39;49m\u001b[43mget_enum\u001b[49m\u001b[43m(\u001b[49m\u001b[43mreduction\u001b[49m\u001b[43m)\u001b[49m\u001b[43m)\u001b[49m\n",
      "\u001b[1;31mKeyboardInterrupt\u001b[0m: "
     ]
    }
   ],
   "source": [
    "import torch\n",
    "import torch.nn as nn\n",
    "import torch.optim as optim\n",
    "from torch.utils.data import DataLoader\n",
    "from datasets import load_from_disk\n",
    "from tqdm import tqdm  # Import tqdm for progress bar\n",
    "import matplotlib.pyplot as plt\n",
    "\n",
    "# Check if a GPU is available\n",
    "device = torch.device('cuda' if torch.cuda.is_available() else 'cpu')\n",
    "print(f\"Using device: {device}\")\n",
    "\n",
    "# Load the dataset from disk and set format to 'torch' for PyTorch compatibility\n",
    "# Replace \"sudoku_dataset_own_1M\" with the path to your dataset if different\n",
    "loaded_dataset = load_from_disk(\"sudoku_dataset_own_1M\").with_format(\"torch\")\n",
    "\n",
    "# Create a DataLoader for batch processing\n",
    "dataloader = DataLoader(loaded_dataset, batch_size=64, shuffle=True, num_workers=4)\n",
    "\n",
    "# Define the neural network model\n",
    "class SimpleSudokuNN(nn.Module):\n",
    "    def __init__(self):\n",
    "        super(SimpleSudokuNN, self).__init__()\n",
    "        # Input layer: 81 -> Hidden layer 1: 128 -> Hidden layer 2: 128 -> Output layer: 81\n",
    "        self.model = nn.Sequential(\n",
    "            nn.Linear(81, 128),\n",
    "            nn.LeakyReLU(),\n",
    "            nn.Linear(128, 256),\n",
    "            nn.LeakyReLU(),\n",
    "            nn.Linear(256, 128),\n",
    "            nn.LeakyReLU(),\n",
    "            nn.Linear(128, 81)\n",
    "        )\n",
    "\n",
    "    def forward(self, x):\n",
    "        # Flatten the input if it is a 9x9 grid\n",
    "        x = x.view(-1, 81).float()  # Convert to float32\n",
    "        return self.model(x)\n",
    "\n",
    "# Instantiate the model, loss function, and optimizer\n",
    "model = SimpleSudokuNN().to(device)  # Move model to the GPU\n",
    "criterion = nn.MSELoss()  # Mean squared error for regression\n",
    "optimizer = optim.Adam(model.parameters(), lr=0.1)\n",
    "\n",
    "# List to store loss values\n",
    "losses = []\n",
    "\n",
    "# Training the model\n",
    "num_epochs = 4  # Number of epochs to train the model\n",
    "for epoch in range(num_epochs):\n",
    "    running_loss = 0.0\n",
    "    \n",
    "    # Create a progress bar for the current epoch\n",
    "    progress_bar = tqdm(dataloader, desc=f\"Epoch {epoch+1}/{num_epochs}\")\n",
    "    \n",
    "    for batch in progress_bar:\n",
    "        # Retrieve input and output from the batch and move to GPU\n",
    "        inputs = batch['input'].float().to(device)  # Convert inputs to float32 and move to GPU\n",
    "        outputs = batch['output'].view(-1, 81).float().to(device)  # Convert outputs to float32, flatten, and move to GPU\n",
    "\n",
    "        # Zero the parameter gradients\n",
    "        optimizer.zero_grad()\n",
    "\n",
    "        # Forward pass\n",
    "        predictions = model(inputs)\n",
    "        \n",
    "        # Compute loss\n",
    "        loss = criterion(predictions, outputs)\n",
    "        \n",
    "        # Backward pass and optimize\n",
    "        loss.backward()\n",
    "        optimizer.step()\n",
    "        \n",
    "        # Accumulate running loss\n",
    "        running_loss += loss.item()\n",
    "        \n",
    "        # Store the loss value for plotting\n",
    "        losses.append(loss.item())\n",
    "        \n",
    "        # Update the progress bar with the current loss\n",
    "        progress_bar.set_postfix({'Loss': loss.item()})\n",
    "    \n",
    "    # Print average loss per epoch\n",
    "    print(f\"Epoch {epoch+1}/{num_epochs}, Average Loss: {running_loss/len(dataloader):.4f}\")\n",
    "\n",
    "# Calculate statistics after all epochs are completed\n",
    "loss_tensor = torch.tensor(losses, dtype=torch.float32)\n",
    "mean_loss = torch.mean(loss_tensor).item()\n",
    "std_loss = torch.std(loss_tensor).item()\n",
    "median_loss = torch.median(loss_tensor).item()\n",
    "\n",
    "# Create a final plot after all epochs\n",
    "fig, ax = plt.subplots(figsize=(12, 6))\n",
    "ax.plot(range(1, len(losses) + 1), losses, color='b', label='Loss')  # No markers\n",
    "ax.axhline(mean_loss, color='r', linestyle='--', label=f'Mean: {mean_loss:.4f}')\n",
    "ax.axhline(median_loss, color='g', linestyle='--', label=f'Median: {median_loss:.4f}')\n",
    "ax.fill_between(range(1, len(losses) + 1),\n",
    "                mean_loss - std_loss,\n",
    "                mean_loss + std_loss,\n",
    "                color='orange', alpha=0.3, label=f'Std: {std_loss:.4f}')\n",
    "\n",
    "ax.set_title('Training Loss Over Iterations')\n",
    "ax.set_xlabel('Iteration')\n",
    "ax.set_ylabel('Loss')\n",
    "ax.legend()\n",
    "ax.grid(True)\n",
    "plt.show()  # Display the final plot\n"
   ]
  },
  {
   "cell_type": "code",
   "execution_count": 1,
   "metadata": {},
   "outputs": [
    {
     "name": "stdout",
     "output_type": "stream",
     "text": [
      "Using device: cuda\n"
     ]
    },
    {
     "name": "stderr",
     "output_type": "stream",
     "text": [
      "Epoch 1/2: 100%|██████████| 15625/15625 [01:37<00:00, 161.05it/s, Loss=0.702]\n"
     ]
    },
    {
     "name": "stdout",
     "output_type": "stream",
     "text": [
      "Epoch 1/2, Average Loss: 0.8946, Accuracy: 29.93%\n"
     ]
    },
    {
     "name": "stderr",
     "output_type": "stream",
     "text": [
      "Epoch 2/2: 100%|██████████| 15625/15625 [01:41<00:00, 154.66it/s, Loss=0.647]\n"
     ]
    },
    {
     "name": "stdout",
     "output_type": "stream",
     "text": [
      "Epoch 2/2, Average Loss: 0.6811, Accuracy: 31.21%\n"
     ]
    },
    {
     "data": {
      "image/png": "[encoded data removed]",
      "text/plain": [
       "<Figure size 1200x600 with 1 Axes>"
      ]
     },
     "metadata": {},
     "output_type": "display_data"
    }
   ],
   "source": [
    "import torch\n",
    "import torch.nn as nn\n",
    "import torch.optim as optim\n",
    "from torch.utils.data import DataLoader\n",
    "from datasets import load_from_disk\n",
    "from tqdm import tqdm  # Import tqdm for progress bar\n",
    "import matplotlib.pyplot as plt\n",
    "\n",
    "# Check if a GPU is available\n",
    "device = torch.device('cuda' if torch.cuda.is_available() else 'cpu')\n",
    "print(f\"Using device: {device}\")\n",
    "\n",
    "# Load the dataset from disk\n",
    "loaded_dataset = load_from_disk(\"sudoku_dataset_own_1M\").with_format(\"torch\")\n",
    "\n",
    "# Create a DataLoader for batch processing\n",
    "dataloader = DataLoader(loaded_dataset, batch_size=64, shuffle=True, num_workers=4)\n",
    "\n",
    "# Define the neural network model\n",
    "class SimpleSudokuNN(nn.Module):\n",
    "    def __init__(self):\n",
    "        super(SimpleSudokuNN, self).__init__()\n",
    "        self.model = nn.Sequential(\n",
    "            nn.Linear(81, 128),\n",
    "            nn.LeakyReLU(),\n",
    "            nn.Linear(128, 256),\n",
    "            nn.LeakyReLU(),\n",
    "            nn.Linear(256,256),\n",
    "            nn.LeakyReLU(),\n",
    "            nn.Linear(256, 128),\n",
    "            nn.LeakyReLU(),\n",
    "            nn.Linear(128, 81)\n",
    "        )\n",
    "\n",
    "    def forward(self, x):\n",
    "        x = x.view(-1, 81).float()\n",
    "        return self.model(x)\n",
    "\n",
    "# Instantiate the model, loss function, and optimizer\n",
    "model = SimpleSudokuNN().to(device)\n",
    "criterion = nn.MSELoss()\n",
    "optimizer = optim.Adam(model.parameters(), lr=0.001)\n",
    "\n",
    "# Lists to store loss and accuracy values\n",
    "losses = []\n",
    "accuracies = []\n",
    "\n",
    "# Training the model\n",
    "num_epochs = 2\n",
    "for epoch in range(num_epochs):\n",
    "    running_loss = 0.0\n",
    "    correct_predictions = 0\n",
    "    total_predictions = 0\n",
    "    \n",
    "    progress_bar = tqdm(dataloader, desc=f\"Epoch {epoch+1}/{num_epochs}\")\n",
    "    \n",
    "    for batch in progress_bar:\n",
    "        inputs = batch['input'].float().to(device)\n",
    "        outputs = batch['output'].view(-1, 81).float().to(device)\n",
    "\n",
    "        optimizer.zero_grad()\n",
    "        predictions = model(inputs)\n",
    "        \n",
    "        loss = criterion(predictions, outputs)\n",
    "        loss.backward()\n",
    "        optimizer.step()\n",
    "        \n",
    "        running_loss += loss.item()\n",
    "        losses.append(loss.item())\n",
    "        \n",
    "        # Calculate accuracy\n",
    "        predicted_classes = torch.argmax(predictions, dim=1)\n",
    "        true_classes = torch.argmax(outputs, dim=1)\n",
    "        correct_predictions += (predicted_classes == true_classes).sum().item()\n",
    "        total_predictions += true_classes.size(0)\n",
    "\n",
    "        progress_bar.set_postfix({'Loss': loss.item()})\n",
    "    \n",
    "    # Calculate average loss and accuracy for the epoch\n",
    "    avg_loss = running_loss / len(dataloader)\n",
    "    accuracy = (correct_predictions / total_predictions) * 100\n",
    "\n",
    "    print(f\"Epoch {epoch+1}/{num_epochs}, Average Loss: {avg_loss:.4f}, Accuracy: {accuracy:.2f}%\")\n",
    "\n",
    "# Calculate statistics after all epochs\n",
    "loss_tensor = torch.tensor(losses, dtype=torch.float32)\n",
    "mean_loss = torch.mean(loss_tensor).item()\n",
    "std_loss = torch.std(loss_tensor).item()\n",
    "median_loss = torch.median(loss_tensor).item()\n",
    "\n",
    "# Create a final plot after all epochs\n",
    "fig, ax = plt.subplots(figsize=(12, 6))\n",
    "ax.plot(range(1, len(losses) + 1), losses, color='b', label='Loss')\n",
    "ax.axhline(mean_loss, color='r', linestyle='--', label=f'Mean: {mean_loss:.4f}')\n",
    "ax.axhline(median_loss, color='g', linestyle='--', label=f'Median: {median_loss:.4f}')\n",
    "ax.fill_between(range(1, len(losses) + 1),\n",
    "                mean_loss - std_loss,\n",
    "                mean_loss + std_loss,\n",
    "                color='orange', alpha=0.3, label=f'Std: {std_loss:.4f}')\n",
    "\n",
    "ax.set_title('Training Loss Over Iterations')\n",
    "ax.set_xlabel('Iteration')\n",
    "ax.set_ylabel('Loss')\n",
    "ax.legend()\n",
    "ax.grid(True)\n",
    "plt.show()  # Display the final plot\n"
   ]
  },
  {
   "cell_type": "code",
   "execution_count": 3,
   "metadata": {},
   "outputs": [
    {
     "name": "stdout",
     "output_type": "stream",
     "text": [
      "Using device: cuda\n"
     ]
    },
    {
     "name": "stderr",
     "output_type": "stream",
     "text": [
      "Epoch 1/14: 100%|██████████| 15625/15625 [01:45<00:00, 148.13it/s, Loss=0.63] \n"
     ]
    },
    {
     "name": "stdout",
     "output_type": "stream",
     "text": [
      "Epoch 1/14, Average Loss: 0.8302, Accuracy: 29.46%\n"
     ]
    },
    {
     "name": "stderr",
     "output_type": "stream",
     "text": [
      "Epoch 2/14: 100%|██████████| 15625/15625 [01:49<00:00, 142.80it/s, Loss=0.563]\n"
     ]
    },
    {
     "name": "stdout",
     "output_type": "stream",
     "text": [
      "Epoch 2/14, Average Loss: 0.6346, Accuracy: 31.12%\n"
     ]
    },
    {
     "name": "stderr",
     "output_type": "stream",
     "text": [
      "Epoch 3/14: 100%|██████████| 15625/15625 [01:50<00:00, 141.12it/s, Loss=0.523]\n"
     ]
    },
    {
     "name": "stdout",
     "output_type": "stream",
     "text": [
      "Epoch 3/14, Average Loss: 0.6098, Accuracy: 31.24%\n"
     ]
    },
    {
     "name": "stderr",
     "output_type": "stream",
     "text": [
      "Epoch 4/14: 100%|██████████| 15625/15625 [01:49<00:00, 142.05it/s, Loss=0.545]\n"
     ]
    },
    {
     "name": "stdout",
     "output_type": "stream",
     "text": [
      "Epoch 4/14, Average Loss: 0.5969, Accuracy: 31.41%\n"
     ]
    },
    {
     "name": "stderr",
     "output_type": "stream",
     "text": [
      "Epoch 5/14: 100%|██████████| 15625/15625 [02:53<00:00, 89.85it/s, Loss=0.613]\n"
     ]
    },
    {
     "name": "stdout",
     "output_type": "stream",
     "text": [
      "Epoch 5/14, Average Loss: 0.5875, Accuracy: 32.05%\n"
     ]
    },
    {
     "name": "stderr",
     "output_type": "stream",
     "text": [
      "Epoch 6/14: 100%|██████████| 15625/15625 [03:37<00:00, 71.83it/s, Loss=0.56] \n"
     ]
    },
    {
     "name": "stdout",
     "output_type": "stream",
     "text": [
      "Epoch 6/14, Average Loss: 0.5805, Accuracy: 32.14%\n"
     ]
    },
    {
     "name": "stderr",
     "output_type": "stream",
     "text": [
      "Epoch 7/14: 100%|██████████| 15625/15625 [03:38<00:00, 71.46it/s, Loss=0.562]\n"
     ]
    },
    {
     "name": "stdout",
     "output_type": "stream",
     "text": [
      "Epoch 7/14, Average Loss: 0.5753, Accuracy: 32.08%\n"
     ]
    },
    {
     "name": "stderr",
     "output_type": "stream",
     "text": [
      "Epoch 8/14: 100%|██████████| 15625/15625 [03:34<00:00, 72.95it/s, Loss=0.615]\n"
     ]
    },
    {
     "name": "stdout",
     "output_type": "stream",
     "text": [
      "Epoch 8/14, Average Loss: 0.5716, Accuracy: 31.95%\n"
     ]
    },
    {
     "name": "stderr",
     "output_type": "stream",
     "text": [
      "Epoch 9/14: 100%|██████████| 15625/15625 [03:36<00:00, 72.20it/s, Loss=0.537]\n"
     ]
    },
    {
     "name": "stdout",
     "output_type": "stream",
     "text": [
      "Epoch 9/14, Average Loss: 0.5691, Accuracy: 31.93%\n"
     ]
    },
    {
     "name": "stderr",
     "output_type": "stream",
     "text": [
      "Epoch 10/14: 100%|██████████| 15625/15625 [03:37<00:00, 71.84it/s, Loss=0.449]\n"
     ]
    },
    {
     "name": "stdout",
     "output_type": "stream",
     "text": [
      "Epoch 10/14, Average Loss: 0.5674, Accuracy: 31.96%\n"
     ]
    },
    {
     "name": "stderr",
     "output_type": "stream",
     "text": [
      "Epoch 11/14: 100%|██████████| 15625/15625 [03:38<00:00, 71.49it/s, Loss=0.613]\n"
     ]
    },
    {
     "name": "stdout",
     "output_type": "stream",
     "text": [
      "Epoch 11/14, Average Loss: 0.5661, Accuracy: 32.10%\n"
     ]
    },
    {
     "name": "stderr",
     "output_type": "stream",
     "text": [
      "Epoch 12/14: 100%|██████████| 15625/15625 [01:50<00:00, 141.68it/s, Loss=0.517]\n"
     ]
    },
    {
     "name": "stdout",
     "output_type": "stream",
     "text": [
      "Epoch 12/14, Average Loss: 0.5648, Accuracy: 32.22%\n"
     ]
    },
    {
     "name": "stderr",
     "output_type": "stream",
     "text": [
      "Epoch 13/14: 100%|██████████| 15625/15625 [01:49<00:00, 142.47it/s, Loss=0.498]\n"
     ]
    },
    {
     "name": "stdout",
     "output_type": "stream",
     "text": [
      "Epoch 13/14, Average Loss: 0.5638, Accuracy: 32.35%\n"
     ]
    },
    {
     "name": "stderr",
     "output_type": "stream",
     "text": [
      "Epoch 14/14: 100%|██████████| 15625/15625 [01:51<00:00, 140.42it/s, Loss=0.572]\n"
     ]
    },
    {
     "name": "stdout",
     "output_type": "stream",
     "text": [
      "Epoch 14/14, Average Loss: 0.5629, Accuracy: 32.34%\n"
     ]
    },
    {
     "data": {
      "image/png": "[encoded data removed]",
      "text/plain": [
       "<Figure size 1200x600 with 1 Axes>"
      ]
     },
     "metadata": {},
     "output_type": "display_data"
    }
   ],
   "source": [
    "import torch\n",
    "import torch.nn as nn\n",
    "import torch.optim as optim\n",
    "from torch.utils.data import DataLoader\n",
    "from datasets import load_from_disk\n",
    "from tqdm import tqdm \n",
    "import matplotlib.pyplot as plt\n",
    "\n",
    "# get the cuda for faster calculation\n",
    "device = torch.device('cuda' if torch.cuda.is_available() else 'cpu')\n",
    "print(f\"Using device: {device}\")\n",
    "\n",
    "# Load the generate dataset from the disk (unfortunately i cannot add this set to github)\n",
    "loaded_dataset = load_from_disk(\"sudoku_dataset_own_1M\").with_format(\"torch\")\n",
    "#For now the sudoku set comes with numbers 0 - 9 and 0 denotes unknowns , i might change it later to one - hot encoding whitch i guess might be better for CNN \n",
    "\n",
    "#Get the batches in order, the set has milion sudokus so the learning might be long \n",
    "dataloader = DataLoader(loaded_dataset, batch_size=64, shuffle=True, num_workers=4)\n",
    "\n",
    "#CNN Model \n",
    "class SudokuCNN(nn.Module):\n",
    "    def __init__(self):\n",
    "        super(SudokuCNN, self).__init__()\n",
    "        self.conv_layers = nn.Sequential(\n",
    "            nn.Conv2d(1, 32, kernel_size=3, padding=1),  # Input: 1 channel (from0 to 9 , 0 denotes unkown), Output: 32 channels\n",
    "            nn.ReLU(),\n",
    "            nn.MaxPool2d(kernel_size=2, stride=2),  # Downsample by a factor of 2\n",
    "            nn.Conv2d(32, 64, kernel_size=3, padding=1),  # Input: 32 channels, Output: 64 channels\n",
    "            nn.ReLU(),\n",
    "            nn.Conv2d(64, 128, kernel_size=3, padding=1),  # Input: 64 channels, Output: 128  channels\n",
    "            nn.ReLU(),\n",
    "            nn.MaxPool2d(kernel_size=2, stride=2)  # Downsample by a factor of 2\n",
    "        )\n",
    "        self.fc_layers = nn.Sequential(\n",
    "            nn.Linear(128 * 2 * 2, 256),  # Adjust this according to the output size after conv layers\n",
    "            nn.ReLU(),\n",
    "            nn.Linear(256, 81)  # Output: 81 values for Sudoku\n",
    "        )\n",
    "\n",
    "    def forward(self, x):\n",
    "        x = x.view(-1, 1, 9, 9)  # Reshape input to (batch_size, channels, height, width)\n",
    "        x = self.conv_layers(x)\n",
    "        x = x.view(x.size(0), -1)  # Flatten for fully connected layers\n",
    "        x = self.fc_layers(x)\n",
    "        return x\n",
    "\n",
    "# Instantiate the model, loss function, and optimizer\n",
    "model = SudokuCNN().to(device)\n",
    "criterion = nn.MSELoss()\n",
    "optimizer = optim.Adam(model.parameters(), lr=0.001)\n",
    "\n",
    "# Lists to store loss and accuracy values\n",
    "losses = []\n",
    "accuracies = []\n",
    "\n",
    "# Training the model\n",
    "num_epochs = 14\n",
    "for epoch in range(num_epochs):\n",
    "    running_loss = 0.0\n",
    "    correct_predictions = 0\n",
    "    total_predictions = 0\n",
    "    \n",
    "    progress_bar = tqdm(dataloader, desc=f\"Epoch {epoch+1}/{num_epochs}\")\n",
    "    \n",
    "    for batch in progress_bar:\n",
    "        inputs = batch['input'].float().to(device)\n",
    "        outputs = batch['output'].view(-1, 81).float().to(device)\n",
    "\n",
    "        optimizer.zero_grad()\n",
    "        predictions = model(inputs)\n",
    "        \n",
    "        loss = criterion(predictions, outputs)\n",
    "        loss.backward()\n",
    "        optimizer.step()\n",
    "        \n",
    "        running_loss += loss.item()\n",
    "        losses.append(loss.item())\n",
    "        \n",
    "        # Calculate accuracy\n",
    "        predicted_classes = torch.argmax(predictions, dim=1)\n",
    "        true_classes = torch.argmax(outputs, dim=1)\n",
    "        correct_predictions += (predicted_classes == true_classes).sum().item()\n",
    "        total_predictions += true_classes.size(0)\n",
    "\n",
    "        progress_bar.set_postfix({'Loss': loss.item()})\n",
    "    \n",
    "    # Calculate average loss and accuracy for the epoch\n",
    "    avg_loss = running_loss / len(dataloader)\n",
    "    accuracy = (correct_predictions / total_predictions) * 100\n",
    "\n",
    "    print(f\"Epoch {epoch+1}/{num_epochs}, Average Loss: {avg_loss:.4f}, Accuracy: {accuracy:.2f}%\")\n",
    "\n",
    "# Calculate statistics after all epochs\n",
    "loss_tensor = torch.tensor(losses, dtype=torch.float32)\n",
    "mean_loss = torch.mean(loss_tensor).item()\n",
    "std_loss = torch.std(loss_tensor).item()\n",
    "median_loss = torch.median(loss_tensor).item()\n",
    "\n",
    "# Create a final plot after all epochs\n",
    "fig, ax = plt.subplots(figsize=(12, 6))\n",
    "ax.plot(range(1, len(losses) + 1), losses, color='b', label='Loss')\n",
    "ax.axhline(mean_loss, color='r', linestyle='--', label=f'Mean: {mean_loss:.4f}')\n",
    "ax.axhline(median_loss, color='g', linestyle='--', label=f'Median: {median_loss:.4f}')\n",
    "ax.fill_between(range(1, len(losses) + 1),\n",
    "                mean_loss - std_loss,\n",
    "                mean_loss + std_loss,\n",
    "                color='orange', alpha=0.3, label=f'Std: {std_loss:.4f}')\n",
    "\n",
    "ax.set_title('Training Loss Over Iterations')\n",
    "ax.set_xlabel('Iteration')\n",
    "ax.set_ylabel('Loss')\n",
    "ax.legend()\n",
    "ax.grid(True)\n",
    "plt.show()  # Display the final plot\n"
   ]
  },
  {
   "cell_type": "code",
   "execution_count": 31,
   "metadata": {},
   "outputs": [
    {
     "name": "stdout",
     "output_type": "stream",
     "text": [
      "Using device: cuda\n"
     ]
    },
    {
     "name": "stderr",
     "output_type": "stream",
     "text": [
      "Epoch 1/2: 100%|██████████| 15625/15625 [01:34<00:00, 165.24it/s, Loss=0.757]\n"
     ]
    },
    {
     "name": "stdout",
     "output_type": "stream",
     "text": [
      "Epoch 1/2, Average Loss: 0.8953, Accuracy: 31.13%\n"
     ]
    },
    {
     "name": "stderr",
     "output_type": "stream",
     "text": [
      "Epoch 2/2: 100%|██████████| 15625/15625 [01:33<00:00, 166.24it/s, Loss=0.597]\n"
     ]
    },
    {
     "name": "stdout",
     "output_type": "stream",
     "text": [
      "Epoch 2/2, Average Loss: 0.6758, Accuracy: 32.04%\n"
     ]
    },
    {
     "data": {
      "image/png": "[encoded data removed]",
      "text/plain": [
       "<Figure size 1200x600 with 1 Axes>"
      ]
     },
     "metadata": {},
     "output_type": "display_data"
    }
   ],
   "source": [
    "import torch\n",
    "import torch.nn as nn\n",
    "import torch.optim as optim\n",
    "import torch.nn.functional as F\n",
    "from torch.utils.data import DataLoader\n",
    "from datasets import load_from_disk\n",
    "from tqdm import tqdm\n",
    "import matplotlib.pyplot as plt\n",
    "\n",
    "# Check if a GPU is available\n",
    "device = torch.device('cuda' if torch.cuda.is_available() else 'cpu')\n",
    "print(f\"Using device: {device}\")\n",
    "\n",
    "# Load the dataset from disk\n",
    "loaded_dataset = load_from_disk(\"sudoku_dataset_own_1M\").with_format(\"torch\")\n",
    "\n",
    "# Create a DataLoader for batch processing\n",
    "dataloader = DataLoader(loaded_dataset, batch_size=64, shuffle=True, num_workers=4)\n",
    "\n",
    "# Define the CNN model\n",
    "class SudokuCNN(nn.Module):\n",
    "    def __init__(self):\n",
    "        super(SudokuCNN, self).__init__()\n",
    "        self.conv1 = nn.Conv2d(1, 32, kernel_size=3, stride=1, padding=1)  # Input: 1 channel (grayscale), Output: 32 channels\n",
    "        self.pool = nn.MaxPool2d(kernel_size=2, stride=2)  # Pooling layer\n",
    "        self.conv2 = nn.Conv2d(32, 64, kernel_size=3, stride=1, padding=1)  # Input: 32 channels, Output: 64 channels\n",
    "        \n",
    "        # After two pooling operations on 9x9 input:\n",
    "        # 9 -> 4 after first pooling\n",
    "        # 4 -> 2 after second pooling\n",
    "        self.fc1 = nn.Linear(64 * 2 * 2, 128)  # Adjust for 64 channels, 2x2 size after pooling\n",
    "        self.fc2 = nn.Linear(128, 81)  # Output size remains 81 for the Sudoku grid\n",
    "\n",
    "    def forward(self, x):\n",
    "        x = x.unsqueeze(1)  # Add channel dimension (1 for grayscale)\n",
    "        x = self.pool(F.relu(self.conv1(x)))  # After conv1 and pool: (32, 9, 9) -> (32, 4, 4)\n",
    "        x = self.pool(F.relu(self.conv2(x)))  # After conv2 and pool: (64, 4, 4) -> (64, 2, 2)\n",
    "        x = x.view(x.size(0), -1)  # Flatten for fully connected layers\n",
    "        x = F.relu(self.fc1(x))\n",
    "        return self.fc2(x)\n",
    "\n",
    "# Instantiate the model, loss function, and optimizer\n",
    "model = SudokuCNN().to(device)\n",
    "criterion = nn.MSELoss()\n",
    "optimizer = optim.Adam(model.parameters(), lr=0.001)\n",
    "\n",
    "# Lists to store loss and accuracy values\n",
    "losses = []\n",
    "accuracies = []\n",
    "\n",
    "# Training the model\n",
    "num_epochs = 2\n",
    "for epoch in range(num_epochs):\n",
    "    running_loss = 0.0\n",
    "    correct_predictions = 0\n",
    "    total_predictions = 0\n",
    "    \n",
    "    progress_bar = tqdm(dataloader, desc=f\"Epoch {epoch+1}/{num_epochs}\")\n",
    "    \n",
    "    for batch in progress_bar:\n",
    "        inputs = batch['input'].float().to(device)\n",
    "        outputs = batch['output'].view(-1, 81).float().to(device)\n",
    "\n",
    "        optimizer.zero_grad()\n",
    "        predictions = model(inputs)\n",
    "        \n",
    "        loss = criterion(predictions, outputs)\n",
    "        loss.backward()\n",
    "        optimizer.step()\n",
    "        \n",
    "        running_loss += loss.item()\n",
    "        losses.append(loss.item())\n",
    "        \n",
    "        # Calculate accuracy\n",
    "        predicted_classes = torch.argmax(predictions, dim=1)\n",
    "        true_classes = torch.argmax(outputs, dim=1)\n",
    "        correct_predictions += (predicted_classes == true_classes).sum().item()\n",
    "        total_predictions += true_classes.size(0)\n",
    "\n",
    "        progress_bar.set_postfix({'Loss': loss.item()})\n",
    "    \n",
    "    # Calculate average loss and accuracy for the epoch\n",
    "    avg_loss = running_loss / len(dataloader)\n",
    "    accuracy = (correct_predictions / total_predictions) * 100\n",
    "\n",
    "    print(f\"Epoch {epoch+1}/{num_epochs}, Average Loss: {avg_loss:.4f}, Accuracy: {accuracy:.2f}%\")\n",
    "\n",
    "# Calculate statistics after all epochs\n",
    "loss_tensor = torch.tensor(losses, dtype=torch.float32)\n",
    "mean_loss = torch.mean(loss_tensor).item()\n",
    "std_loss = torch.std(loss_tensor).item()\n",
    "median_loss = torch.median(loss_tensor).item()\n",
    "\n",
    "# Create a final plot after all epochs\n",
    "fig, ax = plt.subplots(figsize=(12, 6))\n",
    "ax.plot(range(1, len(losses) + 1), losses, color='b', label='Loss')\n",
    "ax.axhline(mean_loss, color='r', linestyle='--', label=f'Mean: {mean_loss:.4f}')\n",
    "ax.axhline(median_loss, color='g', linestyle='--', label=f'Median: {median_loss:.4f}')\n",
    "ax.fill_between(range(1, len(losses) + 1),\n",
    "                mean_loss - std_loss,\n",
    "                mean_loss + std_loss,\n",
    "                color='orange', alpha=0.3, label=f'Std: {std_loss:.4f}')\n",
    "\n",
    "ax.set_title('Training Loss Over Iterations')\n",
    "ax.set_xlabel('Iteration')\n",
    "ax.set_ylabel('Loss')\n",
    "ax.legend()\n",
    "ax.grid(True)\n",
    "plt.show()  # Display the final plot\n"
   ]
  },
  {
   "cell_type": "code",
   "execution_count": 8,
   "metadata": {},
   "outputs": [
    {
     "name": "stdout",
     "output_type": "stream",
     "text": [
      "Using device: cuda\n"
     ]
    },
    {
     "name": "stderr",
     "output_type": "stream",
     "text": [
      "Epoch 1/5:   0%|          | 0/15625 [00:04<?, ?it/s]\n"
     ]
    },
    {
     "ename": "NameError",
     "evalue": "name 'F' is not defined",
     "output_type": "error",
     "traceback": [
      "\u001b[1;31m---------------------------------------------------------------------------\u001b[0m",
      "\u001b[1;31mNameError\u001b[0m                                 Traceback (most recent call last)",
      "Cell \u001b[1;32mIn[8], line 62\u001b[0m\n\u001b[0;32m     59\u001b[0m outputs \u001b[38;5;241m=\u001b[39m batch[\u001b[38;5;124m'\u001b[39m\u001b[38;5;124moutput\u001b[39m\u001b[38;5;124m'\u001b[39m]\u001b[38;5;241m.\u001b[39mview(\u001b[38;5;241m-\u001b[39m\u001b[38;5;241m1\u001b[39m, \u001b[38;5;241m81\u001b[39m)\u001b[38;5;241m.\u001b[39mfloat()\u001b[38;5;241m.\u001b[39mto(device)\n\u001b[0;32m     61\u001b[0m optimizer\u001b[38;5;241m.\u001b[39mzero_grad()\n\u001b[1;32m---> 62\u001b[0m predictions \u001b[38;5;241m=\u001b[39m \u001b[43mmodel\u001b[49m\u001b[43m(\u001b[49m\u001b[43minputs\u001b[49m\u001b[43m)\u001b[49m\n\u001b[0;32m     64\u001b[0m loss \u001b[38;5;241m=\u001b[39m criterion(predictions, outputs)\n\u001b[0;32m     65\u001b[0m loss\u001b[38;5;241m.\u001b[39mbackward()\n",
      "File \u001b[1;32m~\\AppData\\Roaming\\Python\\Python310\\site-packages\\torch\\nn\\modules\\module.py:1518\u001b[0m, in \u001b[0;36mModule._wrapped_call_impl\u001b[1;34m(self, *args, **kwargs)\u001b[0m\n\u001b[0;32m   1516\u001b[0m     \u001b[38;5;28;01mreturn\u001b[39;00m \u001b[38;5;28mself\u001b[39m\u001b[38;5;241m.\u001b[39m_compiled_call_impl(\u001b[38;5;241m*\u001b[39margs, \u001b[38;5;241m*\u001b[39m\u001b[38;5;241m*\u001b[39mkwargs)  \u001b[38;5;66;03m# type: ignore[misc]\u001b[39;00m\n\u001b[0;32m   1517\u001b[0m \u001b[38;5;28;01melse\u001b[39;00m:\n\u001b[1;32m-> 1518\u001b[0m     \u001b[38;5;28;01mreturn\u001b[39;00m \u001b[38;5;28mself\u001b[39m\u001b[38;5;241m.\u001b[39m_call_impl(\u001b[38;5;241m*\u001b[39margs, \u001b[38;5;241m*\u001b[39m\u001b[38;5;241m*\u001b[39mkwargs)\n",
      "File \u001b[1;32m~\\AppData\\Roaming\\Python\\Python310\\site-packages\\torch\\nn\\modules\\module.py:1527\u001b[0m, in \u001b[0;36mModule._call_impl\u001b[1;34m(self, *args, **kwargs)\u001b[0m\n\u001b[0;32m   1522\u001b[0m \u001b[38;5;66;03m# If we don't have any hooks, we want to skip the rest of the logic in\u001b[39;00m\n\u001b[0;32m   1523\u001b[0m \u001b[38;5;66;03m# this function, and just call forward.\u001b[39;00m\n\u001b[0;32m   1524\u001b[0m \u001b[38;5;28;01mif\u001b[39;00m \u001b[38;5;129;01mnot\u001b[39;00m (\u001b[38;5;28mself\u001b[39m\u001b[38;5;241m.\u001b[39m_backward_hooks \u001b[38;5;129;01mor\u001b[39;00m \u001b[38;5;28mself\u001b[39m\u001b[38;5;241m.\u001b[39m_backward_pre_hooks \u001b[38;5;129;01mor\u001b[39;00m \u001b[38;5;28mself\u001b[39m\u001b[38;5;241m.\u001b[39m_forward_hooks \u001b[38;5;129;01mor\u001b[39;00m \u001b[38;5;28mself\u001b[39m\u001b[38;5;241m.\u001b[39m_forward_pre_hooks\n\u001b[0;32m   1525\u001b[0m         \u001b[38;5;129;01mor\u001b[39;00m _global_backward_pre_hooks \u001b[38;5;129;01mor\u001b[39;00m _global_backward_hooks\n\u001b[0;32m   1526\u001b[0m         \u001b[38;5;129;01mor\u001b[39;00m _global_forward_hooks \u001b[38;5;129;01mor\u001b[39;00m _global_forward_pre_hooks):\n\u001b[1;32m-> 1527\u001b[0m     \u001b[38;5;28;01mreturn\u001b[39;00m forward_call(\u001b[38;5;241m*\u001b[39margs, \u001b[38;5;241m*\u001b[39m\u001b[38;5;241m*\u001b[39mkwargs)\n\u001b[0;32m   1529\u001b[0m \u001b[38;5;28;01mtry\u001b[39;00m:\n\u001b[0;32m   1530\u001b[0m     result \u001b[38;5;241m=\u001b[39m \u001b[38;5;28;01mNone\u001b[39;00m\n",
      "Cell \u001b[1;32mIn[8], line 36\u001b[0m, in \u001b[0;36mSudokuCNN.forward\u001b[1;34m(self, x)\u001b[0m\n\u001b[0;32m     34\u001b[0m \u001b[38;5;28;01mdef\u001b[39;00m \u001b[38;5;21mforward\u001b[39m(\u001b[38;5;28mself\u001b[39m, x):\n\u001b[0;32m     35\u001b[0m     x \u001b[38;5;241m=\u001b[39m x\u001b[38;5;241m.\u001b[39munsqueeze(\u001b[38;5;241m1\u001b[39m)  \u001b[38;5;66;03m# Add channel dimension\u001b[39;00m\n\u001b[1;32m---> 36\u001b[0m     x \u001b[38;5;241m=\u001b[39m \u001b[38;5;28mself\u001b[39m\u001b[38;5;241m.\u001b[39mpool(\u001b[43mF\u001b[49m\u001b[38;5;241m.\u001b[39mrelu(\u001b[38;5;28mself\u001b[39m\u001b[38;5;241m.\u001b[39mbn1(\u001b[38;5;28mself\u001b[39m\u001b[38;5;241m.\u001b[39mconv1(x))))\n\u001b[0;32m     37\u001b[0m     x \u001b[38;5;241m=\u001b[39m \u001b[38;5;28mself\u001b[39m\u001b[38;5;241m.\u001b[39mpool(F\u001b[38;5;241m.\u001b[39mrelu(\u001b[38;5;28mself\u001b[39m\u001b[38;5;241m.\u001b[39mbn2(\u001b[38;5;28mself\u001b[39m\u001b[38;5;241m.\u001b[39mconv2(x))))\n\u001b[0;32m     38\u001b[0m     x \u001b[38;5;241m=\u001b[39m x\u001b[38;5;241m.\u001b[39mview(x\u001b[38;5;241m.\u001b[39msize(\u001b[38;5;241m0\u001b[39m), \u001b[38;5;241m-\u001b[39m\u001b[38;5;241m1\u001b[39m)  \u001b[38;5;66;03m# Flatten the tensor\u001b[39;00m\n",
      "\u001b[1;31mNameError\u001b[0m: name 'F' is not defined"
     ]
    }
   ],
   "source": [
    "import torch\n",
    "import torch.nn as nn\n",
    "import torch.optim as optim\n",
    "from torch.utils.data import DataLoader\n",
    "from datasets import load_from_disk\n",
    "from tqdm import tqdm  # Import tqdm for progress bar\n",
    "import matplotlib.pyplot as plt\n",
    "\n",
    "# Check if a GPU is available\n",
    "device = torch.device('cuda' if torch.cuda.is_available() else 'cpu')\n",
    "print(f\"Using device: {device}\")\n",
    "\n",
    "# Load the dataset from disk\n",
    "loaded_dataset = load_from_disk(\"sudoku_dataset_own_1M\").with_format(\"torch\")\n",
    "\n",
    "# Create a DataLoader for batch processing\n",
    "dataloader = DataLoader(loaded_dataset, batch_size=64, shuffle=True, num_workers=4)\n",
    "\n",
    "# Define the neural network model\n",
    "class SudokuCNN(nn.Module):\n",
    "    def __init__(self):\n",
    "        super(SudokuCNN, self).__init__()\n",
    "        self.conv1 = nn.Conv2d(1, 32, kernel_size=3, stride=1, padding=1)\n",
    "        self.bn1 = nn.BatchNorm2d(32)\n",
    "        self.pool = nn.MaxPool2d(kernel_size=2, stride=2)\n",
    "        self.conv2 = nn.Conv2d(32, 64, kernel_size=3, stride=1, padding=1)\n",
    "        self.bn2 = nn.BatchNorm2d(64)\n",
    "        self.dropout = nn.Dropout(p=0.5)\n",
    "\n",
    "        # Calculate the size after convolution and pooling\n",
    "        self.fc1 = nn.Linear(64 * 2 * 2, 128)  # Update based on your input size\n",
    "        self.fc2 = nn.Linear(128, 81)\n",
    "\n",
    "    def forward(self, x):\n",
    "        x = x.unsqueeze(1)  # Add channel dimension\n",
    "        x = self.pool(F.relu(self.bn1(self.conv1(x))))\n",
    "        x = self.pool(F.relu(self.bn2(self.conv2(x))))\n",
    "        x = x.view(x.size(0), -1)  # Flatten the tensor\n",
    "        x = self.dropout(F.relu(self.fc1(x)))\n",
    "        return self.fc2(x)\n",
    "\n",
    "# Instantiate the model, loss function, and optimizer\n",
    "model = SudokuCNN().to(device)\n",
    "criterion = nn.MSELoss()\n",
    "optimizer = optim.Adam(model.parameters(), lr=0.0001)\n",
    "\n",
    "# Lists to store loss values\n",
    "losses = []\n",
    "\n",
    "# Training the model\n",
    "num_epochs = 5  # Increase as needed\n",
    "for epoch in range(num_epochs):\n",
    "    running_loss = 0.0\n",
    "    \n",
    "    progress_bar = tqdm(dataloader, desc=f\"Epoch {epoch+1}/{num_epochs}\")\n",
    "    \n",
    "    for batch in progress_bar:\n",
    "        inputs = batch['input'].float().to(device)\n",
    "        outputs = batch['output'].view(-1, 81).float().to(device)\n",
    "\n",
    "        optimizer.zero_grad()\n",
    "        predictions = model(inputs)\n",
    "        \n",
    "        loss = criterion(predictions, outputs)\n",
    "        loss.backward()\n",
    "        optimizer.step()\n",
    "        \n",
    "        running_loss += loss.item()\n",
    "        losses.append(loss.item())\n",
    "        \n",
    "        progress_bar.set_postfix({'Loss': loss.item()})\n",
    "    \n",
    "    # Print average loss per epoch\n",
    "    avg_loss = running_loss / len(dataloader)\n",
    "    print(f\"Epoch {epoch+1}/{num_epochs}, Average Loss: {avg_loss:.4f}\")\n",
    "\n",
    "# Calculate statistics after all epochs\n",
    "loss_tensor = torch.tensor(losses, dtype=torch.float32)\n",
    "mean_loss = torch.mean(loss_tensor).item()\n",
    "std_loss = torch.std(loss_tensor).item()\n",
    "median_loss = torch.median(loss_tensor).item()\n",
    "\n",
    "# Create a final plot after all epochs\n",
    "fig, ax = plt.subplots(figsize=(12, 6))\n",
    "ax.plot(range(1, len(losses) + 1), losses, color='b', label='Loss')\n",
    "ax.axhline(mean_loss, color='r', linestyle='--', label=f'Mean: {mean_loss:.4f}')\n",
    "ax.axhline(median_loss, color='g', linestyle='--', label=f'Median: {median_loss:.4f}')\n",
    "ax.fill_between(range(1, len(losses) + 1),\n",
    "                mean_loss - std_loss,\n",
    "                mean_loss + std_loss,\n",
    "                color='orange', alpha=0.3, label=f'Std: {std_loss:.4f}')\n",
    "\n",
    "ax.set_title('Training Loss Over Iterations')\n",
    "ax.set_xlabel('Iteration')\n",
    "ax.set_ylabel('Loss')\n",
    "ax.legend()\n",
    "ax.grid(True)\n",
    "plt.show()  # Display the final plot\n"
   ]
  },
  {
   "cell_type": "code",
   "execution_count": 9,
   "metadata": {},
   "outputs": [
    {
     "name": "stdout",
     "output_type": "stream",
     "text": [
      "Using device: cuda\n"
     ]
    },
    {
     "name": "stderr",
     "output_type": "stream",
     "text": [
      "Training Epoch 1/2:   0%|          | 0/7813 [00:13<?, ?it/s]\n"
     ]
    },
    {
     "ename": "TypeError",
     "evalue": "max_pool2d(): argument 'input' (position 1) must be Tensor, not ReLU",
     "output_type": "error",
     "traceback": [
      "\u001b[1;31m---------------------------------------------------------------------------\u001b[0m",
      "\u001b[1;31mTypeError\u001b[0m                                 Traceback (most recent call last)",
      "Cell \u001b[1;32mIn[9], line 74\u001b[0m\n\u001b[0;32m     71\u001b[0m outputs \u001b[38;5;241m=\u001b[39m batch[\u001b[38;5;124m'\u001b[39m\u001b[38;5;124moutput\u001b[39m\u001b[38;5;124m'\u001b[39m]\u001b[38;5;241m.\u001b[39mview(\u001b[38;5;241m-\u001b[39m\u001b[38;5;241m1\u001b[39m, \u001b[38;5;241m81\u001b[39m)\u001b[38;5;241m.\u001b[39mfloat()\u001b[38;5;241m.\u001b[39mto(device)\n\u001b[0;32m     73\u001b[0m optimizer\u001b[38;5;241m.\u001b[39mzero_grad()\n\u001b[1;32m---> 74\u001b[0m predictions \u001b[38;5;241m=\u001b[39m \u001b[43mmodel\u001b[49m\u001b[43m(\u001b[49m\u001b[43minputs\u001b[49m\u001b[43m)\u001b[49m\n\u001b[0;32m     76\u001b[0m loss \u001b[38;5;241m=\u001b[39m criterion(predictions, outputs)\n\u001b[0;32m     77\u001b[0m loss\u001b[38;5;241m.\u001b[39mbackward()\n",
      "File \u001b[1;32m~\\AppData\\Roaming\\Python\\Python310\\site-packages\\torch\\nn\\modules\\module.py:1518\u001b[0m, in \u001b[0;36mModule._wrapped_call_impl\u001b[1;34m(self, *args, **kwargs)\u001b[0m\n\u001b[0;32m   1516\u001b[0m     \u001b[38;5;28;01mreturn\u001b[39;00m \u001b[38;5;28mself\u001b[39m\u001b[38;5;241m.\u001b[39m_compiled_call_impl(\u001b[38;5;241m*\u001b[39margs, \u001b[38;5;241m*\u001b[39m\u001b[38;5;241m*\u001b[39mkwargs)  \u001b[38;5;66;03m# type: ignore[misc]\u001b[39;00m\n\u001b[0;32m   1517\u001b[0m \u001b[38;5;28;01melse\u001b[39;00m:\n\u001b[1;32m-> 1518\u001b[0m     \u001b[38;5;28;01mreturn\u001b[39;00m \u001b[38;5;28mself\u001b[39m\u001b[38;5;241m.\u001b[39m_call_impl(\u001b[38;5;241m*\u001b[39margs, \u001b[38;5;241m*\u001b[39m\u001b[38;5;241m*\u001b[39mkwargs)\n",
      "File \u001b[1;32m~\\AppData\\Roaming\\Python\\Python310\\site-packages\\torch\\nn\\modules\\module.py:1527\u001b[0m, in \u001b[0;36mModule._call_impl\u001b[1;34m(self, *args, **kwargs)\u001b[0m\n\u001b[0;32m   1522\u001b[0m \u001b[38;5;66;03m# If we don't have any hooks, we want to skip the rest of the logic in\u001b[39;00m\n\u001b[0;32m   1523\u001b[0m \u001b[38;5;66;03m# this function, and just call forward.\u001b[39;00m\n\u001b[0;32m   1524\u001b[0m \u001b[38;5;28;01mif\u001b[39;00m \u001b[38;5;129;01mnot\u001b[39;00m (\u001b[38;5;28mself\u001b[39m\u001b[38;5;241m.\u001b[39m_backward_hooks \u001b[38;5;129;01mor\u001b[39;00m \u001b[38;5;28mself\u001b[39m\u001b[38;5;241m.\u001b[39m_backward_pre_hooks \u001b[38;5;129;01mor\u001b[39;00m \u001b[38;5;28mself\u001b[39m\u001b[38;5;241m.\u001b[39m_forward_hooks \u001b[38;5;129;01mor\u001b[39;00m \u001b[38;5;28mself\u001b[39m\u001b[38;5;241m.\u001b[39m_forward_pre_hooks\n\u001b[0;32m   1525\u001b[0m         \u001b[38;5;129;01mor\u001b[39;00m _global_backward_pre_hooks \u001b[38;5;129;01mor\u001b[39;00m _global_backward_hooks\n\u001b[0;32m   1526\u001b[0m         \u001b[38;5;129;01mor\u001b[39;00m _global_forward_hooks \u001b[38;5;129;01mor\u001b[39;00m _global_forward_pre_hooks):\n\u001b[1;32m-> 1527\u001b[0m     \u001b[38;5;28;01mreturn\u001b[39;00m forward_call(\u001b[38;5;241m*\u001b[39margs, \u001b[38;5;241m*\u001b[39m\u001b[38;5;241m*\u001b[39mkwargs)\n\u001b[0;32m   1529\u001b[0m \u001b[38;5;28;01mtry\u001b[39;00m:\n\u001b[0;32m   1530\u001b[0m     result \u001b[38;5;241m=\u001b[39m \u001b[38;5;28;01mNone\u001b[39;00m\n",
      "Cell \u001b[1;32mIn[9], line 45\u001b[0m, in \u001b[0;36mSudokuCNN.forward\u001b[1;34m(self, x)\u001b[0m\n\u001b[0;32m     43\u001b[0m \u001b[38;5;28;01mdef\u001b[39;00m \u001b[38;5;21mforward\u001b[39m(\u001b[38;5;28mself\u001b[39m, x):\n\u001b[0;32m     44\u001b[0m     x \u001b[38;5;241m=\u001b[39m x\u001b[38;5;241m.\u001b[39munsqueeze(\u001b[38;5;241m1\u001b[39m)  \u001b[38;5;66;03m# Add channel dimension\u001b[39;00m\n\u001b[1;32m---> 45\u001b[0m     x \u001b[38;5;241m=\u001b[39m \u001b[38;5;28;43mself\u001b[39;49m\u001b[38;5;241;43m.\u001b[39;49m\u001b[43mpool\u001b[49m\u001b[43m(\u001b[49m\u001b[43mnn\u001b[49m\u001b[38;5;241;43m.\u001b[39;49m\u001b[43mReLU\u001b[49m\u001b[43m(\u001b[49m\u001b[38;5;28;43mself\u001b[39;49m\u001b[38;5;241;43m.\u001b[39;49m\u001b[43mbn1\u001b[49m\u001b[43m(\u001b[49m\u001b[38;5;28;43mself\u001b[39;49m\u001b[38;5;241;43m.\u001b[39;49m\u001b[43mconv1\u001b[49m\u001b[43m(\u001b[49m\u001b[43mx\u001b[49m\u001b[43m)\u001b[49m\u001b[43m)\u001b[49m\u001b[43m)\u001b[49m\u001b[43m)\u001b[49m\n\u001b[0;32m     46\u001b[0m     x \u001b[38;5;241m=\u001b[39m \u001b[38;5;28mself\u001b[39m\u001b[38;5;241m.\u001b[39mpool(nn\u001b[38;5;241m.\u001b[39mReLu(\u001b[38;5;28mself\u001b[39m\u001b[38;5;241m.\u001b[39mbn2(\u001b[38;5;28mself\u001b[39m\u001b[38;5;241m.\u001b[39mconv2(x))))\n\u001b[0;32m     47\u001b[0m     x \u001b[38;5;241m=\u001b[39m \u001b[38;5;28mself\u001b[39m\u001b[38;5;241m.\u001b[39mpool(nn\u001b[38;5;241m.\u001b[39mReLu(\u001b[38;5;28mself\u001b[39m\u001b[38;5;241m.\u001b[39mbn2(\u001b[38;5;28mself\u001b[39m\u001b[38;5;241m.\u001b[39mconv3(x))))\n",
      "File \u001b[1;32m~\\AppData\\Roaming\\Python\\Python310\\site-packages\\torch\\nn\\modules\\module.py:1518\u001b[0m, in \u001b[0;36mModule._wrapped_call_impl\u001b[1;34m(self, *args, **kwargs)\u001b[0m\n\u001b[0;32m   1516\u001b[0m     \u001b[38;5;28;01mreturn\u001b[39;00m \u001b[38;5;28mself\u001b[39m\u001b[38;5;241m.\u001b[39m_compiled_call_impl(\u001b[38;5;241m*\u001b[39margs, \u001b[38;5;241m*\u001b[39m\u001b[38;5;241m*\u001b[39mkwargs)  \u001b[38;5;66;03m# type: ignore[misc]\u001b[39;00m\n\u001b[0;32m   1517\u001b[0m \u001b[38;5;28;01melse\u001b[39;00m:\n\u001b[1;32m-> 1518\u001b[0m     \u001b[38;5;28;01mreturn\u001b[39;00m \u001b[38;5;28mself\u001b[39m\u001b[38;5;241m.\u001b[39m_call_impl(\u001b[38;5;241m*\u001b[39margs, \u001b[38;5;241m*\u001b[39m\u001b[38;5;241m*\u001b[39mkwargs)\n",
      "File \u001b[1;32m~\\AppData\\Roaming\\Python\\Python310\\site-packages\\torch\\nn\\modules\\module.py:1527\u001b[0m, in \u001b[0;36mModule._call_impl\u001b[1;34m(self, *args, **kwargs)\u001b[0m\n\u001b[0;32m   1522\u001b[0m \u001b[38;5;66;03m# If we don't have any hooks, we want to skip the rest of the logic in\u001b[39;00m\n\u001b[0;32m   1523\u001b[0m \u001b[38;5;66;03m# this function, and just call forward.\u001b[39;00m\n\u001b[0;32m   1524\u001b[0m \u001b[38;5;28;01mif\u001b[39;00m \u001b[38;5;129;01mnot\u001b[39;00m (\u001b[38;5;28mself\u001b[39m\u001b[38;5;241m.\u001b[39m_backward_hooks \u001b[38;5;129;01mor\u001b[39;00m \u001b[38;5;28mself\u001b[39m\u001b[38;5;241m.\u001b[39m_backward_pre_hooks \u001b[38;5;129;01mor\u001b[39;00m \u001b[38;5;28mself\u001b[39m\u001b[38;5;241m.\u001b[39m_forward_hooks \u001b[38;5;129;01mor\u001b[39;00m \u001b[38;5;28mself\u001b[39m\u001b[38;5;241m.\u001b[39m_forward_pre_hooks\n\u001b[0;32m   1525\u001b[0m         \u001b[38;5;129;01mor\u001b[39;00m _global_backward_pre_hooks \u001b[38;5;129;01mor\u001b[39;00m _global_backward_hooks\n\u001b[0;32m   1526\u001b[0m         \u001b[38;5;129;01mor\u001b[39;00m _global_forward_hooks \u001b[38;5;129;01mor\u001b[39;00m _global_forward_pre_hooks):\n\u001b[1;32m-> 1527\u001b[0m     \u001b[38;5;28;01mreturn\u001b[39;00m forward_call(\u001b[38;5;241m*\u001b[39margs, \u001b[38;5;241m*\u001b[39m\u001b[38;5;241m*\u001b[39mkwargs)\n\u001b[0;32m   1529\u001b[0m \u001b[38;5;28;01mtry\u001b[39;00m:\n\u001b[0;32m   1530\u001b[0m     result \u001b[38;5;241m=\u001b[39m \u001b[38;5;28;01mNone\u001b[39;00m\n",
      "File \u001b[1;32m~\\AppData\\Roaming\\Python\\Python310\\site-packages\\torch\\nn\\modules\\pooling.py:166\u001b[0m, in \u001b[0;36mMaxPool2d.forward\u001b[1;34m(self, input)\u001b[0m\n\u001b[0;32m    165\u001b[0m \u001b[38;5;28;01mdef\u001b[39;00m \u001b[38;5;21mforward\u001b[39m(\u001b[38;5;28mself\u001b[39m, \u001b[38;5;28minput\u001b[39m: Tensor):\n\u001b[1;32m--> 166\u001b[0m     \u001b[38;5;28;01mreturn\u001b[39;00m \u001b[43mF\u001b[49m\u001b[38;5;241;43m.\u001b[39;49m\u001b[43mmax_pool2d\u001b[49m\u001b[43m(\u001b[49m\u001b[38;5;28;43minput\u001b[39;49m\u001b[43m,\u001b[49m\u001b[43m \u001b[49m\u001b[38;5;28;43mself\u001b[39;49m\u001b[38;5;241;43m.\u001b[39;49m\u001b[43mkernel_size\u001b[49m\u001b[43m,\u001b[49m\u001b[43m \u001b[49m\u001b[38;5;28;43mself\u001b[39;49m\u001b[38;5;241;43m.\u001b[39;49m\u001b[43mstride\u001b[49m\u001b[43m,\u001b[49m\n\u001b[0;32m    167\u001b[0m \u001b[43m                        \u001b[49m\u001b[38;5;28;43mself\u001b[39;49m\u001b[38;5;241;43m.\u001b[39;49m\u001b[43mpadding\u001b[49m\u001b[43m,\u001b[49m\u001b[43m \u001b[49m\u001b[38;5;28;43mself\u001b[39;49m\u001b[38;5;241;43m.\u001b[39;49m\u001b[43mdilation\u001b[49m\u001b[43m,\u001b[49m\u001b[43m \u001b[49m\u001b[43mceil_mode\u001b[49m\u001b[38;5;241;43m=\u001b[39;49m\u001b[38;5;28;43mself\u001b[39;49m\u001b[38;5;241;43m.\u001b[39;49m\u001b[43mceil_mode\u001b[49m\u001b[43m,\u001b[49m\n\u001b[0;32m    168\u001b[0m \u001b[43m                        \u001b[49m\u001b[43mreturn_indices\u001b[49m\u001b[38;5;241;43m=\u001b[39;49m\u001b[38;5;28;43mself\u001b[39;49m\u001b[38;5;241;43m.\u001b[39;49m\u001b[43mreturn_indices\u001b[49m\u001b[43m)\u001b[49m\n",
      "File \u001b[1;32m~\\AppData\\Roaming\\Python\\Python310\\site-packages\\torch\\_jit_internal.py:488\u001b[0m, in \u001b[0;36mboolean_dispatch.<locals>.fn\u001b[1;34m(*args, **kwargs)\u001b[0m\n\u001b[0;32m    486\u001b[0m     \u001b[38;5;28;01mreturn\u001b[39;00m if_true(\u001b[38;5;241m*\u001b[39margs, \u001b[38;5;241m*\u001b[39m\u001b[38;5;241m*\u001b[39mkwargs)\n\u001b[0;32m    487\u001b[0m \u001b[38;5;28;01melse\u001b[39;00m:\n\u001b[1;32m--> 488\u001b[0m     \u001b[38;5;28;01mreturn\u001b[39;00m if_false(\u001b[38;5;241m*\u001b[39margs, \u001b[38;5;241m*\u001b[39m\u001b[38;5;241m*\u001b[39mkwargs)\n",
      "File \u001b[1;32m~\\AppData\\Roaming\\Python\\Python310\\site-packages\\torch\\nn\\functional.py:791\u001b[0m, in \u001b[0;36m_max_pool2d\u001b[1;34m(input, kernel_size, stride, padding, dilation, ceil_mode, return_indices)\u001b[0m\n\u001b[0;32m    789\u001b[0m \u001b[38;5;28;01mif\u001b[39;00m stride \u001b[38;5;129;01mis\u001b[39;00m \u001b[38;5;28;01mNone\u001b[39;00m:\n\u001b[0;32m    790\u001b[0m     stride \u001b[38;5;241m=\u001b[39m torch\u001b[38;5;241m.\u001b[39mjit\u001b[38;5;241m.\u001b[39mannotate(List[\u001b[38;5;28mint\u001b[39m], [])\n\u001b[1;32m--> 791\u001b[0m \u001b[38;5;28;01mreturn\u001b[39;00m \u001b[43mtorch\u001b[49m\u001b[38;5;241;43m.\u001b[39;49m\u001b[43mmax_pool2d\u001b[49m\u001b[43m(\u001b[49m\u001b[38;5;28;43minput\u001b[39;49m\u001b[43m,\u001b[49m\u001b[43m \u001b[49m\u001b[43mkernel_size\u001b[49m\u001b[43m,\u001b[49m\u001b[43m \u001b[49m\u001b[43mstride\u001b[49m\u001b[43m,\u001b[49m\u001b[43m \u001b[49m\u001b[43mpadding\u001b[49m\u001b[43m,\u001b[49m\u001b[43m \u001b[49m\u001b[43mdilation\u001b[49m\u001b[43m,\u001b[49m\u001b[43m \u001b[49m\u001b[43mceil_mode\u001b[49m\u001b[43m)\u001b[49m\n",
      "\u001b[1;31mTypeError\u001b[0m: max_pool2d(): argument 'input' (position 1) must be Tensor, not ReLU"
     ]
    }
   ],
   "source": [
    "import torch\n",
    "import torch.nn as nn\n",
    "import torch.optim as optim\n",
    "from torch.utils.data import DataLoader, random_split\n",
    "from datasets import load_from_disk\n",
    "from tqdm import tqdm  # Import tqdm for progress bar\n",
    "import matplotlib.pyplot as plt\n",
    "\n",
    "# Check if a GPU is available\n",
    "device = torch.device('cuda' if torch.cuda.is_available() else 'cpu')\n",
    "print(f\"Using device: {device}\")\n",
    "\n",
    "# Load the dataset from disk\n",
    "loaded_dataset = load_from_disk(\"sudoku_dataset_own_1M\").with_format(\"torch\")\n",
    "\n",
    "# Split the dataset into training, validation, and test sets\n",
    "train_size = int(0.5 * len(loaded_dataset))\n",
    "val_size = int(0.25 * len(loaded_dataset))\n",
    "test_size = len(loaded_dataset) - train_size - val_size\n",
    "train_dataset, val_dataset, test_dataset = random_split(loaded_dataset, [train_size, val_size, test_size])\n",
    "\n",
    "# Create DataLoaders for batch processing\n",
    "train_dataloader = DataLoader(train_dataset, batch_size=64, shuffle=True, num_workers=4)\n",
    "val_dataloader = DataLoader(val_dataset, batch_size=64, shuffle=False, num_workers=4)\n",
    "test_dataloader = DataLoader(test_dataset, batch_size=64, shuffle=False, num_workers=4)\n",
    "\n",
    "# Define the neural network model\n",
    "class SudokuCNN(nn.Module):\n",
    "    def __init__(self):\n",
    "        super(SudokuCNN, self).__init__()\n",
    "        self.conv1 = nn.Conv2d(1, 32, kernel_size=3, stride=1, padding=1)\n",
    "        self.bn1 = nn.BatchNorm2d(32)\n",
    "        self.pool = nn.MaxPool2d(kernel_size=2, stride=2)\n",
    "        self.conv2 = nn.Conv2d(32, 64, kernel_size=3, stride=1, padding=1)\n",
    "        self.bn2 = nn.BatchNorm2d(64)\n",
    "        self.conv3 = nn.Conv2d(64, 128, kernel_size=3, stride=1, padding=1)\n",
    "        self.bn2 = nn.BatchNorm2d(128)\n",
    "        self.dropout = nn.Dropout(p=0.5)\n",
    "\n",
    "        self.fc1 = nn.Linear(128 * 2 * 2, 128)  # Update based on your input size\n",
    "        self.fc2 = nn.Linear(128, 81)\n",
    "\n",
    "    def forward(self, x):\n",
    "        x = x.unsqueeze(1)  # Add channel dimension\n",
    "        x = self.pool(nn.ReLU(self.bn1(self.conv1(x))))\n",
    "        x = self.pool(nn.ReLu(self.bn2(self.conv2(x))))\n",
    "        x = self.pool(nn.ReLu(self.bn2(self.conv3(x))))\n",
    "        x = x.view(x.size(0), -1)  # Flatten the tensor\n",
    "        x = self.dropout(nn.ReLu(self.fc1(x)))\n",
    "        return self.fc2(x)\n",
    "\n",
    "# Instantiate the model, loss function, and optimizer\n",
    "model = SudokuCNN().to(device)\n",
    "criterion = nn.MSELoss()\n",
    "optimizer = optim.Adam(model.parameters(), lr=0.001)\n",
    "\n",
    "# Lists to store loss values\n",
    "train_losses = []\n",
    "val_losses = []\n",
    "\n",
    "# Training the model\n",
    "num_epochs = 2  # Increase as needed\n",
    "for epoch in range(num_epochs):\n",
    "    model.train()  # Set the model to training mode\n",
    "    running_loss = 0.0\n",
    "    \n",
    "    progress_bar = tqdm(train_dataloader, desc=f\"Training Epoch {epoch+1}/{num_epochs}\")\n",
    "    \n",
    "    for batch in progress_bar:\n",
    "        inputs = batch['input'].float().to(device)\n",
    "        outputs = batch['output'].view(-1, 81).float().to(device)\n",
    "\n",
    "        optimizer.zero_grad()\n",
    "        predictions = model(inputs)\n",
    "        \n",
    "        loss = criterion(predictions, outputs)\n",
    "        loss.backward()\n",
    "        optimizer.step()\n",
    "        \n",
    "        running_loss += loss.item()\n",
    "        train_losses.append(loss.item())\n",
    "        \n",
    "        progress_bar.set_postfix({'Loss': loss.item()})\n",
    "    \n",
    "    avg_train_loss = running_loss / len(train_dataloader)\n",
    "    print(f\"Epoch {epoch+1}/{num_epochs}, Average Training Loss: {avg_train_loss:.4f}\")\n",
    "\n",
    "    # Validation phase\n",
    "    model.eval()  # Set the model to evaluation mode\n",
    "    running_val_loss = 0.0\n",
    "    \n",
    "    with torch.no_grad():  # Disable gradient computation\n",
    "        for val_batch in val_dataloader:\n",
    "            val_inputs = val_batch['input'].float().to(device)\n",
    "            val_outputs = val_batch['output'].view(-1, 81).float().to(device)\n",
    "\n",
    "            val_predictions = model(val_inputs)\n",
    "            val_loss = criterion(val_predictions, val_outputs)\n",
    "            running_val_loss += val_loss.item()\n",
    "            val_losses.append(val_loss.item())\n",
    "    \n",
    "    avg_val_loss = running_val_loss / len(val_dataloader)\n",
    "    print(f\"Average Validation Loss: {avg_val_loss:.4f}\")\n",
    "\n",
    "# Calculate statistics after all epochs\n",
    "train_loss_tensor = torch.tensor(train_losses, dtype=torch.float32)\n",
    "val_loss_tensor = torch.tensor(val_losses, dtype=torch.float32)\n",
    "mean_train_loss = torch.mean(train_loss_tensor).item()\n",
    "mean_val_loss = torch.mean(val_loss_tensor).item()\n",
    "\n",
    "# Create a final plot after all epochs\n",
    "fig, ax = plt.subplots(figsize=(12, 6))\n",
    "ax.plot(range(1, len(train_losses) + 1), train_losses, color='b', label='Training Loss')\n",
    "ax.plot(range(1, len(val_losses) + 1), val_losses, color='orange', label='Validation Loss')\n",
    "ax.axhline(mean_train_loss, color='r', linestyle='--', label=f'Mean Train Loss: {mean_train_loss:.4f}')\n",
    "ax.axhline(mean_val_loss, color='g', linestyle='--', label=f'Mean Val Loss: {mean_val_loss:.4f}')\n",
    "\n",
    "ax.set_title('Training and Validation Loss Over Iterations')\n",
    "ax.set_xlabel('Iteration')\n",
    "ax.set_ylabel('Loss')\n",
    "ax.legend()\n",
    "ax.grid(True)\n",
    "plt.show()  # Display the final plot\n"
   ]
  },
  {
   "cell_type": "code",
   "execution_count": 11,
   "metadata": {},
   "outputs": [
    {
     "name": "stdout",
     "output_type": "stream",
     "text": [
      "Using device: cuda\n"
     ]
    },
    {
     "name": "stderr",
     "output_type": "stream",
     "text": [
      "Epoch 1/2 - Training:   0%|          | 0/10469 [00:00<?, ?it/s]"
     ]
    }
   ],
   "source": [
    "import torch\n",
    "import torch.nn as nn\n",
    "import torch.optim as optim\n",
    "from torch.utils.data import DataLoader, Dataset\n",
    "import torchvision.transforms as transforms\n",
    "from datasets import load_from_disk\n",
    "from tqdm import tqdm\n",
    "import matplotlib.pyplot as plt\n",
    "\n",
    "# Check if a GPU is available\n",
    "device = torch.device('cuda' if torch.cuda.is_available() else 'cpu')\n",
    "print(f\"Using device: {device}\")\n",
    "\n",
    "# Load the dataset from disk\n",
    "loaded_dataset = load_from_disk(\"sudoku_dataset_own_1M\").with_format(\"torch\")\n",
    "\n",
    "# Define the transform: normalization by dividing each number by 9\n",
    "transform = transforms.Compose([\n",
    "    transforms.Lambda(lambda x: x.float().view(1, 9, 9) / 9.0),  # Reshape and normalize to [0, 1] range\n",
    "    transforms.Normalize(mean=[0.5], std=[0.3])  # Adjust mean and std based on your normalized data\n",
    "])\n",
    "\n",
    "# Define a custom dataset class with transforms\n",
    "class SudokuDataset(Dataset):\n",
    "    def __init__(self, dataset, transform=None):\n",
    "        self.dataset = dataset\n",
    "        self.transform = transform\n",
    "\n",
    "    def __len__(self):\n",
    "        return len(self.dataset)\n",
    "\n",
    "    def __getitem__(self, idx):\n",
    "        sample = self.dataset[idx]\n",
    "        input_grid = sample['input']\n",
    "        output_grid = sample['output']\n",
    "\n",
    "        if self.transform:\n",
    "            input_grid = self.transform(input_grid)\n",
    "            output_grid = self.transform(output_grid)\n",
    "\n",
    "        return {'input': input_grid, 'output': output_grid}\n",
    "\n",
    "# Split into training and validation sets\n",
    "train_size = int(0.67 * len(loaded_dataset))\n",
    "val_size = len(loaded_dataset) - train_size\n",
    "\n",
    "train_dataset, val_dataset = torch.utils.data.random_split(loaded_dataset, [train_size, val_size])\n",
    "\n",
    "# Create the DataLoader with the transform\n",
    "train_dataloader = DataLoader(SudokuDataset(train_dataset, transform=transform), batch_size=64, shuffle=True, num_workers=4)\n",
    "val_dataloader = DataLoader(SudokuDataset(val_dataset, transform=transform), batch_size=64, shuffle=False, num_workers=4)\n",
    "\n",
    "# Define the CNN model\n",
    "class SudokuCNN(nn.Module):\n",
    "    def __init__(self):\n",
    "        super(SudokuCNN, self).__init__()\n",
    "        self.conv_layers = nn.Sequential(\n",
    "            nn.Conv2d(1, 64, kernel_size=3, padding=1),\n",
    "            nn.ReLU(),\n",
    "            nn.Conv2d(64, 128, kernel_size=3, padding=1),\n",
    "            nn.ReLU(),\n",
    "            nn.Conv2d(128, 64, kernel_size=3, padding=1),\n",
    "            nn.ReLU()\n",
    "        )\n",
    "        self.fc_layers = nn.Sequential(\n",
    "            nn.Flatten(),\n",
    "            nn.Linear(64 * 9 * 9, 256),  # Adjusting the size according to the input image size\n",
    "            nn.ReLU(),\n",
    "            nn.Linear(256, 81)  # Output is flattened 9x9 Sudoku grid\n",
    "        )\n",
    "\n",
    "    def forward(self, x):\n",
    "        x = self.conv_layers(x)\n",
    "        x = self.fc_layers(x)\n",
    "        return x\n",
    "\n",
    "# Instantiate the model, loss function, and optimizer\n",
    "model = SudokuCNN().to(device)\n",
    "criterion = nn.MSELoss()\n",
    "optimizer = optim.Adam(model.parameters(), lr=0.001)\n",
    "\n",
    "# Lists to store loss values for training and validation\n",
    "train_losses = []\n",
    "val_losses = []\n",
    "\n",
    "# Training the model\n",
    "num_epochs = 2\n",
    "for epoch in range(num_epochs):\n",
    "    running_loss = 0.0\n",
    "    val_running_loss = 0.0\n",
    "    \n",
    "    # Training phase\n",
    "    model.train()\n",
    "    progress_bar = tqdm(train_dataloader, desc=f\"Epoch {epoch+1}/{num_epochs} - Training\")\n",
    "    for batch in progress_bar:\n",
    "        inputs = batch['input'].to(device)\n",
    "        outputs = batch['output'].view(-1, 81).to(device)\n",
    "\n",
    "        optimizer.zero_grad()\n",
    "        predictions = model(inputs)\n",
    "        \n",
    "        loss = criterion(predictions, outputs)\n",
    "        loss.backward()\n",
    "        optimizer.step()\n",
    "        \n",
    "        running_loss += loss.item()\n",
    "        train_losses.append(loss.item())\n",
    "        \n",
    "        progress_bar.set_postfix({'Loss': loss.item()})\n",
    "    \n",
    "    # Validation phase\n",
    "    model.eval()\n",
    "    with torch.no_grad():\n",
    "        for batch in val_dataloader:\n",
    "            inputs = batch['input'].to(device)\n",
    "            outputs = batch['output'].view(-1, 81).to(device)\n",
    "\n",
    "            predictions = model(inputs)\n",
    "            val_loss = criterion(predictions, outputs)\n",
    "            \n",
    "            val_running_loss += val_loss.item()\n",
    "            val_losses.append(val_loss.item())\n",
    "\n",
    "    # Calculate and print average losses\n",
    "    avg_train_loss = running_loss / len(train_dataloader)\n",
    "    avg_val_loss = val_running_loss / len(val_dataloader)\n",
    "    print(f\"Epoch {epoch+1}/{num_epochs}, Training Loss: {avg_train_loss:.4f}, Validation Loss: {avg_val_loss:.4f}\")\n",
    "\n",
    "# Create a plot for the training and validation loss\n",
    "fig, ax = plt.subplots(figsize=(12, 6))\n",
    "ax.plot(train_losses, color='b', label='Training Loss')\n",
    "ax.plot(val_losses, color='orange', label='Validation Loss')\n",
    "ax.set_title('Training and Validation Loss Over Iterations')\n",
    "ax.set_xlabel('Iteration')\n",
    "ax.set_ylabel('Loss')\n",
    "ax.legend()\n",
    "ax.grid(True)\n",
    "plt.show()\n"
   ]
  },
  {
   "cell_type": "code",
   "execution_count": 1,
   "metadata": {},
   "outputs": [
    {
     "name": "stdout",
     "output_type": "stream",
     "text": [
      "Using device: cuda\n"
     ]
    },
    {
     "name": "stderr",
     "output_type": "stream",
     "text": [
      "Epoch 1/5 [Training]:   0%|          | 0/15625 [00:00<?, ?it/s]"
     ]
    }
   ],
   "source": [
    "import torch\n",
    "import torch.nn as nn\n",
    "import torch.optim as optim\n",
    "from torch.utils.data import DataLoader, random_split\n",
    "from torchvision import transforms\n",
    "from datasets import load_from_disk\n",
    "from tqdm import tqdm\n",
    "import matplotlib.pyplot as plt\n",
    "\n",
    "# Check if a GPU is available\n",
    "device = torch.device('cuda' if torch.cuda.is_available() else 'cpu')\n",
    "print(f\"Using device: {device}\")\n",
    "\n",
    "# Load the dataset from disk and set format to 'torch' for PyTorch compatibility\n",
    "loaded_dataset = load_from_disk(\"sudoku_dataset_own_1M\").with_format(\"torch\")\n",
    "\n",
    "# Define transform for normalization using torchvision.transforms\n",
    "transform = transforms.Compose([\n",
    "    transforms.Lambda(lambda x: x / 9)  # Normalize by dividing by 9\n",
    "])\n",
    "\n",
    "# Create training and validation datasets (50% each)\n",
    "train_size = int(0.5 * len(loaded_dataset))\n",
    "val_size = len(loaded_dataset) - train_size\n",
    "train_dataset, val_dataset = random_split(loaded_dataset, [train_size, val_size])\n",
    "\n",
    "# Custom Dataset class to apply transformation\n",
    "class SudokuDataset(torch.utils.data.Dataset):\n",
    "    def __init__(self, dataset, transform=None):\n",
    "        self.dataset = dataset\n",
    "        self.transform = transform\n",
    "\n",
    "    def __len__(self):\n",
    "        return len(self.dataset)\n",
    "\n",
    "    def __getitem__(self, idx):\n",
    "        sample = self.dataset[idx]\n",
    "        input_data = sample['input']\n",
    "        output_data = sample['output']\n",
    "\n",
    "        if self.transform:\n",
    "            input_data = self.transform(input_data)\n",
    "            output_data = self.transform(output_data)\n",
    "\n",
    "        return {'input': input_data, 'output': output_data}\n",
    "\n",
    "# Create DataLoader for training and validation sets\n",
    "train_dataloader = DataLoader(SudokuDataset(train_dataset, transform=transform), batch_size=32, shuffle=True, num_workers=4)\n",
    "val_dataloader = DataLoader(SudokuDataset(val_dataset, transform=transform), batch_size=32, shuffle=False, num_workers=4)\n",
    "\n",
    "# Define a CNN model for Sudoku\n",
    "class SudokuCNN(nn.Module):\n",
    "    def __init__(self):\n",
    "        super(SudokuCNN, self).__init__()\n",
    "        self.conv_layers = nn.Sequential(\n",
    "            nn.Conv2d(1, 32, kernel_size=3, padding=1),  # 1 input channel, 32 output channels, 3x3 kernel\n",
    "            nn.ReLU(),\n",
    "            nn.Conv2d(32, 64, kernel_size=3, padding=1),  # 64 output channels\n",
    "            nn.ReLU(),\n",
    "            nn.Conv2d(64, 128, kernel_size=3, padding=1),  # 128 output channels\n",
    "            nn.ReLU(),\n",
    "            nn.MaxPool2d(2, 2)  # Reduce dimension by pooling\n",
    "        )\n",
    "        self.fc_layers = nn.Sequential(\n",
    "            nn.Linear(128 * 4 * 4, 512),  # Flattening dimension\n",
    "            nn.ReLU(),\n",
    "            nn.Linear(512, 81)  # Output 81 numbers\n",
    "        )\n",
    "\n",
    "    def forward(self, x):\n",
    "        x = x.view(-1, 1, 9, 9)  # Reshape to (batch_size, channels, height, width)\n",
    "        x = self.conv_layers(x)\n",
    "        x = x.view(-1, 128 * 4 * 4)  # Flatten the tensor\n",
    "        x = self.fc_layers(x)\n",
    "        return x\n",
    "\n",
    "# Instantiate the model, loss function, and optimizer\n",
    "model = SudokuCNN().to(device)\n",
    "criterion = nn.MSELoss()\n",
    "optimizer = optim.Adam(model.parameters(), lr=0.001)\n",
    "\n",
    "# Lists to store loss values\n",
    "train_losses = []\n",
    "val_losses = []\n",
    "\n",
    "# Training the model\n",
    "num_epochs = 5  # Number of epochs to train the model\n",
    "for epoch in range(num_epochs):\n",
    "    running_loss = 0.0\n",
    "    \n",
    "    # Training phase\n",
    "    model.train()\n",
    "    progress_bar = tqdm(train_dataloader, desc=f\"Epoch {epoch+1}/{num_epochs} [Training]\")\n",
    "    for batch in progress_bar:\n",
    "        inputs = batch['input'].float().to(device)\n",
    "        outputs = batch['output'].view(-1, 81).float().to(device)\n",
    "\n",
    "        optimizer.zero_grad()\n",
    "        predictions = model(inputs)\n",
    "        \n",
    "        loss = criterion(predictions, outputs)\n",
    "        loss.backward()\n",
    "        optimizer.step()\n",
    "        \n",
    "        running_loss += loss.item()\n",
    "        train_losses.append(loss.item())\n",
    "        progress_bar.set_postfix({'Training Loss': loss.item()})\n",
    "\n",
    "    # Validation phase\n",
    "    model.eval()\n",
    "    val_running_loss = 0.0\n",
    "    with torch.no_grad():\n",
    "        progress_bar = tqdm(val_dataloader, desc=f\"Epoch {epoch+1}/{num_epochs} [Validation]\")\n",
    "        for batch in progress_bar:\n",
    "            inputs = batch['input'].float().to(device)\n",
    "            outputs = batch['output'].view(-1, 81).float().to(device)\n",
    "\n",
    "            predictions = model(inputs)\n",
    "            loss = criterion(predictions, outputs)\n",
    "            val_running_loss += loss.item()\n",
    "            val_losses.append(loss.item())\n",
    "            progress_bar.set_postfix({'Validation Loss': loss.item()})\n",
    "\n",
    "    # Print average loss per epoch\n",
    "    avg_train_loss = running_loss / len(train_dataloader)\n",
    "    avg_val_loss = val_running_loss / len(val_dataloader)\n",
    "    print(f\"Epoch {epoch+1}/{num_epochs}, Average Training Loss: {avg_train_loss:.4f}, Average Validation Loss: {avg_val_loss:.4f}\")\n",
    "\n",
    "# Plot training and validation losses\n",
    "fig, ax = plt.subplots(figsize=(12, 6))\n",
    "ax.plot(range(1, len(train_losses) + 1), train_losses, color='b', label='Training Loss')\n",
    "ax.plot(range(1, len(val_losses) + 1), val_losses, color='r', label='Validation Loss')\n",
    "ax.set_title('Training and Validation Loss Over Iterations')\n",
    "ax.set_xlabel('Iteration')\n",
    "ax.set_ylabel('Loss')\n",
    "ax.legend()\n",
    "ax.grid(True)\n",
    "plt.show()  # Display the final plot\n"
   ]
  },
  {
   "cell_type": "code",
   "execution_count": 9,
   "metadata": {},
   "outputs": [
    {
     "name": "stdout",
     "output_type": "stream",
     "text": [
      "tensor([[0, 0, 0, 0, 0, 0, 0, 0, 0],\n",
      "        [0, 0, 0, 0, 0, 0, 0, 0, 0],\n",
      "        [4, 7, 6, 0, 0, 0, 0, 0, 0],\n",
      "        [0, 0, 0, 0, 0, 9, 0, 0, 0],\n",
      "        [0, 0, 0, 0, 0, 0, 0, 0, 0],\n",
      "        [0, 0, 0, 8, 0, 5, 0, 0, 0],\n",
      "        [0, 0, 0, 0, 0, 0, 4, 0, 0],\n",
      "        [0, 0, 0, 0, 0, 0, 6, 0, 3],\n",
      "        [0, 0, 0, 0, 0, 0, 0, 0, 0]])\n",
      "tensor([[2, 9, 5, 0, 0, 0, 0, 0, 0],\n",
      "        [1, 3, 8, 0, 0, 0, 0, 0, 0],\n",
      "        [4, 7, 6, 0, 0, 0, 0, 0, 0],\n",
      "        [0, 0, 0, 7, 2, 9, 0, 0, 0],\n",
      "        [0, 0, 0, 4, 1, 6, 0, 0, 0],\n",
      "        [0, 0, 0, 8, 3, 5, 0, 0, 0],\n",
      "        [0, 0, 0, 0, 0, 0, 4, 2, 8],\n",
      "        [0, 0, 0, 0, 0, 0, 6, 5, 3],\n",
      "        [0, 0, 0, 0, 0, 0, 9, 7, 1]])\n"
     ]
    },
    {
     "data": {
      "image/png": "[encoded data removed]",
      "text/plain": [
       "<Figure size 640x480 with 2 Axes>"
      ]
     },
     "metadata": {},
     "output_type": "display_data"
    },
    {
     "name": "stdout",
     "output_type": "stream",
     "text": [
      "tensor([[6, 4, 0, 0, 0, 0, 0, 0, 0],\n",
      "        [8, 2, 0, 0, 0, 0, 0, 0, 0],\n",
      "        [7, 5, 0, 0, 0, 0, 0, 0, 0],\n",
      "        [0, 0, 0, 9, 0, 0, 0, 0, 0],\n",
      "        [0, 0, 0, 1, 4, 2, 0, 0, 0],\n",
      "        [0, 0, 0, 0, 0, 0, 0, 0, 0],\n",
      "        [0, 0, 0, 0, 0, 0, 6, 3, 8],\n",
      "        [0, 0, 0, 0, 0, 0, 0, 9, 0],\n",
      "        [0, 0, 0, 0, 0, 0, 4, 7, 5]])\n",
      "tensor([[6, 4, 9, 0, 0, 0, 0, 0, 0],\n",
      "        [8, 2, 1, 0, 0, 0, 0, 0, 0],\n",
      "        [7, 5, 3, 0, 0, 0, 0, 0, 0],\n",
      "        [0, 0, 0, 9, 7, 8, 0, 0, 0],\n",
      "        [0, 0, 0, 1, 4, 2, 0, 0, 0],\n",
      "        [0, 0, 0, 5, 3, 6, 0, 0, 0],\n",
      "        [0, 0, 0, 0, 0, 0, 6, 3, 8],\n",
      "        [0, 0, 0, 0, 0, 0, 2, 9, 1],\n",
      "        [0, 0, 0, 0, 0, 0, 4, 7, 5]])\n"
     ]
    },
    {
     "data": {
      "image/png": "[encoded data removed]",
      "text/plain": [
       "<Figure size 640x480 with 2 Axes>"
      ]
     },
     "metadata": {},
     "output_type": "display_data"
    },
    {
     "name": "stdout",
     "output_type": "stream",
     "text": [
      "tensor([[5, 0, 6, 0, 0, 0, 0, 0, 0],\n",
      "        [0, 0, 2, 0, 0, 0, 0, 0, 0],\n",
      "        [7, 4, 8, 0, 0, 0, 0, 0, 0],\n",
      "        [0, 0, 0, 0, 0, 9, 0, 0, 0],\n",
      "        [0, 0, 0, 0, 0, 3, 0, 0, 0],\n",
      "        [0, 0, 0, 6, 7, 0, 0, 0, 0],\n",
      "        [0, 0, 0, 0, 0, 0, 3, 4, 0],\n",
      "        [0, 0, 0, 0, 0, 0, 8, 1, 0],\n",
      "        [0, 0, 0, 0, 0, 0, 0, 0, 0]])\n",
      "tensor([[5, 1, 6, 0, 0, 0, 0, 0, 0],\n",
      "        [9, 3, 2, 0, 0, 0, 0, 0, 0],\n",
      "        [7, 4, 8, 0, 0, 0, 0, 0, 0],\n",
      "        [0, 0, 0, 4, 2, 9, 0, 0, 0],\n",
      "        [0, 0, 0, 8, 5, 3, 0, 0, 0],\n",
      "        [0, 0, 0, 6, 7, 1, 0, 0, 0],\n",
      "        [0, 0, 0, 0, 0, 0, 3, 4, 2],\n",
      "        [0, 0, 0, 0, 0, 0, 8, 1, 5],\n",
      "        [0, 0, 0, 0, 0, 0, 6, 7, 9]])\n"
     ]
    },
    {
     "data": {
      "image/png": "[encoded data removed]",
      "text/plain": [
       "<Figure size 640x480 with 2 Axes>"
      ]
     },
     "metadata": {},
     "output_type": "display_data"
    },
    {
     "name": "stdout",
     "output_type": "stream",
     "text": [
      "tensor([[3, 0, 8, 0, 0, 0, 0, 0, 0],\n",
      "        [5, 6, 7, 0, 0, 0, 0, 0, 0],\n",
      "        [0, 4, 1, 0, 0, 0, 0, 0, 0],\n",
      "        [0, 0, 0, 3, 0, 0, 0, 0, 0],\n",
      "        [0, 0, 0, 0, 6, 2, 0, 0, 0],\n",
      "        [0, 0, 0, 8, 0, 0, 0, 0, 0],\n",
      "        [0, 0, 0, 0, 0, 0, 0, 9, 2],\n",
      "        [0, 0, 0, 0, 0, 0, 0, 0, 5],\n",
      "        [0, 0, 0, 0, 0, 0, 6, 7, 1]])\n",
      "tensor([[3, 2, 8, 0, 0, 0, 0, 0, 0],\n",
      "        [5, 6, 7, 0, 0, 0, 0, 0, 0],\n",
      "        [9, 4, 1, 0, 0, 0, 0, 0, 0],\n",
      "        [0, 0, 0, 3, 5, 9, 0, 0, 0],\n",
      "        [0, 0, 0, 7, 6, 2, 0, 0, 0],\n",
      "        [0, 0, 0, 8, 4, 1, 0, 0, 0],\n",
      "        [0, 0, 0, 0, 0, 0, 3, 9, 2],\n",
      "        [0, 0, 0, 0, 0, 0, 8, 4, 5],\n",
      "        [0, 0, 0, 0, 0, 0, 6, 7, 1]])\n"
     ]
    },
    {
     "data": {
      "image/png": "[encoded data removed]",
      "text/plain": [
       "<Figure size 640x480 with 2 Axes>"
      ]
     },
     "metadata": {},
     "output_type": "display_data"
    },
    {
     "name": "stdout",
     "output_type": "stream",
     "text": [
      "tensor([[6, 1, 5, 0, 0, 0, 0, 0, 0],\n",
      "        [9, 4, 8, 0, 0, 0, 0, 0, 0],\n",
      "        [3, 0, 7, 0, 0, 0, 0, 0, 0],\n",
      "        [0, 0, 0, 9, 1, 7, 0, 0, 0],\n",
      "        [0, 0, 0, 2, 0, 0, 0, 0, 0],\n",
      "        [0, 0, 0, 6, 0, 5, 0, 0, 0],\n",
      "        [0, 0, 0, 0, 0, 0, 0, 1, 0],\n",
      "        [0, 0, 0, 0, 0, 0, 0, 0, 0],\n",
      "        [0, 0, 0, 0, 0, 0, 0, 4, 6]])\n",
      "tensor([[6, 1, 5, 0, 0, 0, 0, 0, 0],\n",
      "        [9, 4, 8, 0, 0, 0, 0, 0, 0],\n",
      "        [3, 2, 7, 0, 0, 0, 0, 0, 0],\n",
      "        [0, 0, 0, 9, 1, 7, 0, 0, 0],\n",
      "        [0, 0, 0, 2, 4, 8, 0, 0, 0],\n",
      "        [0, 0, 0, 6, 3, 5, 0, 0, 0],\n",
      "        [0, 0, 0, 0, 0, 0, 8, 1, 5],\n",
      "        [0, 0, 0, 0, 0, 0, 3, 7, 9],\n",
      "        [0, 0, 0, 0, 0, 0, 2, 4, 6]])\n"
     ]
    },
    {
     "data": {
      "image/png": "[encoded data removed]",
      "text/plain": [
       "<Figure size 640x480 with 2 Axes>"
      ]
     },
     "metadata": {},
     "output_type": "display_data"
    }
   ],
   "source": [
    "import matplotlib.pyplot as plt\n",
    "from datasets import load_from_disk\n",
    "\n",
    "# Load the dataset from disk and set the format to 'torch'\n",
    "loaded_dataset = load_from_disk(\"sudoku_dataset_own_1M\").with_format(\"torch\")\n",
    "\n",
    "# Function to display a single Sudoku puzzle\n",
    "def show_sudoku(data, title=\"Sudoku Puzzle\"):\n",
    "    # Reshape the data to a 9x9 grid (since it's normalized)\n",
    "    puzzle = data.view(9, 9)\n",
    "    \n",
    "    plt.imshow(puzzle, cmap='gray', vmin=0, vmax=1)  # Display the puzzle\n",
    "    plt.colorbar()  # Optional: display a color bar\n",
    "    plt.title(title)\n",
    "    plt.show()\n",
    "\n",
    "# Display a few examples from the dataset\n",
    "num_examples = 5  # Number of examples to show\n",
    "for i in range(num_examples):\n",
    "    # Extract puzzle and solution\n",
    "    puzzle = loaded_dataset[i]['input']  # Assuming 'input_ids' holds the puzzle data\n",
    "    solution = loaded_dataset[i]['output']    # Assuming 'label' holds the solution\n",
    "    print(puzzle)\n",
    "    print(solution)\n",
    "    \n",
    "    # Display the Sudoku puzzle\n",
    "    show_sudoku(solution, title=f\"Sudoku Puzzle {i+1}\")\n"
   ]
  }
 ],
 "metadata": {
  "kernelspec": {
   "display_name": "Python 3",
   "language": "python",
   "name": "python3"
  },
  "language_info": {
   "codemirror_mode": {
    "name": "ipython",
    "version": 3
   },
   "file_extension": ".py",
   "mimetype": "text/x-python",
   "name": "python",
   "nbconvert_exporter": "python",
   "pygments_lexer": "ipython3",
   "version": "3.10.8"
  }
 },
 "nbformat": 4,
 "nbformat_minor": 2
}
