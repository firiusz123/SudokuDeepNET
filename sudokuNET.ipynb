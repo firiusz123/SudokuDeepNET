{
 "cells": [
  {
   "cell_type": "code",
   "execution_count": 27,
   "metadata": {},
   "outputs": [
    {
     "name": "stdout",
     "output_type": "stream",
     "text": [
      "Epoch [1/40]\n"
     ]
    },
    {
     "name": "stderr",
     "output_type": "stream",
     "text": [
      "                                                           \r"
     ]
    },
    {
     "name": "stdout",
     "output_type": "stream",
     "text": [
      "Training Loss: 0.0823, Testing Loss: 0.0737\n",
      "Epoch [2/40]\n"
     ]
    },
    {
     "name": "stderr",
     "output_type": "stream",
     "text": [
      "                                                           \r"
     ]
    },
    {
     "name": "stdout",
     "output_type": "stream",
     "text": [
      "Training Loss: 0.0709, Testing Loss: 0.0686\n",
      "Epoch [3/40]\n"
     ]
    },
    {
     "name": "stderr",
     "output_type": "stream",
     "text": [
      "                                                           \r"
     ]
    },
    {
     "name": "stdout",
     "output_type": "stream",
     "text": [
      "Training Loss: 0.0669, Testing Loss: 0.0657\n",
      "Epoch [4/40]\n"
     ]
    },
    {
     "name": "stderr",
     "output_type": "stream",
     "text": [
      "                                                           \r"
     ]
    },
    {
     "name": "stdout",
     "output_type": "stream",
     "text": [
      "Training Loss: 0.0645, Testing Loss: 0.0637\n",
      "Epoch [5/40]\n"
     ]
    },
    {
     "name": "stderr",
     "output_type": "stream",
     "text": [
      "                                                           \r"
     ]
    },
    {
     "name": "stdout",
     "output_type": "stream",
     "text": [
      "Training Loss: 0.0623, Testing Loss: 0.0609\n",
      "Epoch [6/40]\n"
     ]
    },
    {
     "name": "stderr",
     "output_type": "stream",
     "text": [
      "                                                           \r"
     ]
    },
    {
     "name": "stdout",
     "output_type": "stream",
     "text": [
      "Training Loss: 0.0593, Testing Loss: 0.0579\n",
      "Epoch [7/40]\n"
     ]
    },
    {
     "name": "stderr",
     "output_type": "stream",
     "text": [
      "                                                           \r"
     ]
    },
    {
     "name": "stdout",
     "output_type": "stream",
     "text": [
      "Training Loss: 0.0564, Testing Loss: 0.0549\n",
      "Epoch [8/40]\n"
     ]
    },
    {
     "name": "stderr",
     "output_type": "stream",
     "text": [
      "                                                           \r"
     ]
    },
    {
     "name": "stdout",
     "output_type": "stream",
     "text": [
      "Training Loss: 0.0538, Testing Loss: 0.0526\n",
      "Epoch [9/40]\n"
     ]
    },
    {
     "name": "stderr",
     "output_type": "stream",
     "text": [
      "                                                           \r"
     ]
    },
    {
     "name": "stdout",
     "output_type": "stream",
     "text": [
      "Training Loss: 0.0514, Testing Loss: 0.0506\n",
      "Epoch [10/40]\n"
     ]
    },
    {
     "name": "stderr",
     "output_type": "stream",
     "text": [
      "                                                           \r"
     ]
    },
    {
     "name": "stdout",
     "output_type": "stream",
     "text": [
      "Training Loss: 0.0496, Testing Loss: 0.0490\n",
      "Epoch [11/40]\n"
     ]
    },
    {
     "name": "stderr",
     "output_type": "stream",
     "text": [
      "                                                           \r"
     ]
    },
    {
     "name": "stdout",
     "output_type": "stream",
     "text": [
      "Training Loss: 0.0483, Testing Loss: 0.0476\n",
      "Epoch [12/40]\n"
     ]
    },
    {
     "name": "stderr",
     "output_type": "stream",
     "text": [
      "                                                           \r"
     ]
    },
    {
     "name": "stdout",
     "output_type": "stream",
     "text": [
      "Training Loss: 0.0471, Testing Loss: 0.0463\n",
      "Epoch [13/40]\n"
     ]
    },
    {
     "name": "stderr",
     "output_type": "stream",
     "text": [
      "                                                           \r"
     ]
    },
    {
     "name": "stdout",
     "output_type": "stream",
     "text": [
      "Training Loss: 0.0462, Testing Loss: 0.0460\n",
      "Epoch [14/40]\n"
     ]
    },
    {
     "name": "stderr",
     "output_type": "stream",
     "text": [
      "                                                           \r"
     ]
    },
    {
     "name": "stdout",
     "output_type": "stream",
     "text": [
      "Training Loss: 0.0456, Testing Loss: 0.0452\n",
      "Epoch [15/40]\n"
     ]
    },
    {
     "name": "stderr",
     "output_type": "stream",
     "text": [
      "                                                           \r"
     ]
    },
    {
     "name": "stdout",
     "output_type": "stream",
     "text": [
      "Training Loss: 0.0450, Testing Loss: 0.0449\n",
      "Epoch [16/40]\n"
     ]
    },
    {
     "name": "stderr",
     "output_type": "stream",
     "text": [
      "                                                           \r"
     ]
    },
    {
     "name": "stdout",
     "output_type": "stream",
     "text": [
      "Training Loss: 0.0446, Testing Loss: 0.0445\n",
      "Epoch [17/40]\n"
     ]
    },
    {
     "name": "stderr",
     "output_type": "stream",
     "text": [
      "                                                           \r"
     ]
    },
    {
     "name": "stdout",
     "output_type": "stream",
     "text": [
      "Training Loss: 0.0442, Testing Loss: 0.0443\n",
      "Epoch [18/40]\n"
     ]
    },
    {
     "name": "stderr",
     "output_type": "stream",
     "text": [
      "                                                           \r"
     ]
    },
    {
     "name": "stdout",
     "output_type": "stream",
     "text": [
      "Training Loss: 0.0440, Testing Loss: 0.0440\n",
      "Epoch [19/40]\n"
     ]
    },
    {
     "name": "stderr",
     "output_type": "stream",
     "text": [
      "                                                           \r"
     ]
    },
    {
     "name": "stdout",
     "output_type": "stream",
     "text": [
      "Training Loss: 0.0438, Testing Loss: 0.0435\n",
      "Epoch [20/40]\n"
     ]
    },
    {
     "name": "stderr",
     "output_type": "stream",
     "text": [
      "                                                           \r"
     ]
    },
    {
     "name": "stdout",
     "output_type": "stream",
     "text": [
      "Training Loss: 0.0436, Testing Loss: 0.0439\n",
      "Epoch [21/40]\n"
     ]
    },
    {
     "name": "stderr",
     "output_type": "stream",
     "text": [
      "                                                           \r"
     ]
    },
    {
     "name": "stdout",
     "output_type": "stream",
     "text": [
      "Training Loss: 0.0434, Testing Loss: 0.0433\n",
      "Epoch [22/40]\n"
     ]
    },
    {
     "name": "stderr",
     "output_type": "stream",
     "text": [
      "                                                           \r"
     ]
    },
    {
     "name": "stdout",
     "output_type": "stream",
     "text": [
      "Training Loss: 0.0433, Testing Loss: 0.0430\n",
      "Epoch [23/40]\n"
     ]
    },
    {
     "name": "stderr",
     "output_type": "stream",
     "text": [
      "                                                           \r"
     ]
    },
    {
     "name": "stdout",
     "output_type": "stream",
     "text": [
      "Training Loss: 0.0432, Testing Loss: 0.0430\n",
      "Epoch [24/40]\n"
     ]
    },
    {
     "name": "stderr",
     "output_type": "stream",
     "text": [
      "                                                           \r"
     ]
    },
    {
     "name": "stdout",
     "output_type": "stream",
     "text": [
      "Training Loss: 0.0431, Testing Loss: 0.0431\n",
      "Epoch [25/40]\n"
     ]
    },
    {
     "name": "stderr",
     "output_type": "stream",
     "text": [
      "                                                           \r"
     ]
    },
    {
     "name": "stdout",
     "output_type": "stream",
     "text": [
      "Training Loss: 0.0430, Testing Loss: 0.0428\n",
      "Epoch [26/40]\n"
     ]
    },
    {
     "name": "stderr",
     "output_type": "stream",
     "text": [
      "                                                           \r"
     ]
    },
    {
     "name": "stdout",
     "output_type": "stream",
     "text": [
      "Training Loss: 0.0430, Testing Loss: 0.0433\n",
      "Epoch [27/40]\n"
     ]
    },
    {
     "name": "stderr",
     "output_type": "stream",
     "text": [
      "                                                           \r"
     ]
    },
    {
     "name": "stdout",
     "output_type": "stream",
     "text": [
      "Training Loss: 0.0429, Testing Loss: 0.0427\n",
      "Epoch [28/40]\n"
     ]
    },
    {
     "name": "stderr",
     "output_type": "stream",
     "text": [
      "                                                           \r"
     ]
    },
    {
     "name": "stdout",
     "output_type": "stream",
     "text": [
      "Training Loss: 0.0428, Testing Loss: 0.0425\n",
      "Epoch [29/40]\n"
     ]
    },
    {
     "name": "stderr",
     "output_type": "stream",
     "text": [
      "                                                           \r"
     ]
    },
    {
     "name": "stdout",
     "output_type": "stream",
     "text": [
      "Training Loss: 0.0427, Testing Loss: 0.0431\n",
      "Epoch [30/40]\n"
     ]
    },
    {
     "name": "stderr",
     "output_type": "stream",
     "text": [
      "                                                           \r"
     ]
    },
    {
     "name": "stdout",
     "output_type": "stream",
     "text": [
      "Training Loss: 0.0427, Testing Loss: 0.0427\n",
      "Epoch [31/40]\n"
     ]
    },
    {
     "name": "stderr",
     "output_type": "stream",
     "text": [
      "                                                           \r"
     ]
    },
    {
     "name": "stdout",
     "output_type": "stream",
     "text": [
      "Training Loss: 0.0426, Testing Loss: 0.0424\n",
      "Epoch [32/40]\n"
     ]
    },
    {
     "name": "stderr",
     "output_type": "stream",
     "text": [
      "                                                           \r"
     ]
    },
    {
     "name": "stdout",
     "output_type": "stream",
     "text": [
      "Training Loss: 0.0426, Testing Loss: 0.0424\n",
      "Epoch [33/40]\n"
     ]
    },
    {
     "name": "stderr",
     "output_type": "stream",
     "text": [
      "                                                           \r"
     ]
    },
    {
     "name": "stdout",
     "output_type": "stream",
     "text": [
      "Training Loss: 0.0425, Testing Loss: 0.0426\n",
      "Epoch [34/40]\n"
     ]
    },
    {
     "name": "stderr",
     "output_type": "stream",
     "text": [
      "                                                           \r"
     ]
    },
    {
     "name": "stdout",
     "output_type": "stream",
     "text": [
      "Training Loss: 0.0424, Testing Loss: 0.0427\n",
      "Epoch [35/40]\n"
     ]
    },
    {
     "name": "stderr",
     "output_type": "stream",
     "text": [
      "                                                           \r"
     ]
    },
    {
     "name": "stdout",
     "output_type": "stream",
     "text": [
      "Training Loss: 0.0424, Testing Loss: 0.0429\n",
      "Epoch [36/40]\n"
     ]
    },
    {
     "name": "stderr",
     "output_type": "stream",
     "text": [
      "                                                           \r"
     ]
    },
    {
     "name": "stdout",
     "output_type": "stream",
     "text": [
      "Training Loss: 0.0424, Testing Loss: 0.0421\n",
      "Epoch [37/40]\n"
     ]
    },
    {
     "name": "stderr",
     "output_type": "stream",
     "text": [
      "                                                           \r"
     ]
    },
    {
     "name": "stdout",
     "output_type": "stream",
     "text": [
      "Training Loss: 0.0423, Testing Loss: 0.0424\n",
      "Epoch [38/40]\n"
     ]
    },
    {
     "name": "stderr",
     "output_type": "stream",
     "text": [
      "                                                           \r"
     ]
    },
    {
     "name": "stdout",
     "output_type": "stream",
     "text": [
      "Training Loss: 0.0422, Testing Loss: 0.0422\n",
      "Epoch [39/40]\n"
     ]
    },
    {
     "name": "stderr",
     "output_type": "stream",
     "text": [
      "                                                           \r"
     ]
    },
    {
     "name": "stdout",
     "output_type": "stream",
     "text": [
      "Training Loss: 0.0422, Testing Loss: 0.0421\n",
      "Epoch [40/40]\n"
     ]
    },
    {
     "name": "stderr",
     "output_type": "stream",
     "text": [
      "                                                           \r"
     ]
    },
    {
     "name": "stdout",
     "output_type": "stream",
     "text": [
      "Training Loss: 0.0421, Testing Loss: 0.0419\n"
     ]
    },
    {
     "data": {
      "image/png": "[encoded data removed]",
      "text/plain": [
       "<Figure size 1000x500 with 1 Axes>"
      ]
     },
     "metadata": {},
     "output_type": "display_data"
    }
   ],
   "source": [
    "import torch\n",
    "import torch.nn as nn\n",
    "import torch.optim as optim\n",
    "from torch.utils.data import DataLoader, Dataset, random_split\n",
    "import matplotlib.pyplot as plt\n",
    "from tqdm import tqdm\n",
    "\n",
    "# Define the Sudoku dataset class\n",
    "class SudokuDataset(Dataset):\n",
    "    def __init__(self, puzzles, solutions):\n",
    "        self.puzzles = puzzles\n",
    "        self.solutions = solutions\n",
    "    \n",
    "    def __len__(self):\n",
    "        return len(self.puzzles)\n",
    "    \n",
    "    def __getitem__(self, idx):\n",
    "        puzzle = self.puzzles[idx]\n",
    "        solution = self.solutions[idx]\n",
    "        return puzzle, solution\n",
    "\n",
    "# Load the dataset from the .pt file\n",
    "dataset_path = 'SudokuData/sudoku_dataset.pt'\n",
    "sudoku_data = torch.load(dataset_path)\n",
    "\n",
    "# Extract puzzles and solutions from the dataset\n",
    "puzzles = sudoku_data['puzzles']\n",
    "solutions = sudoku_data['solutions']\n",
    "\n",
    "# Create the dataset and split into training and testing sets (80% training, 20% testing)\n",
    "dataset = SudokuDataset(puzzles, solutions)\n",
    "train_size = int(0.8 * len(dataset))\n",
    "test_size = len(dataset) - train_size\n",
    "train_dataset, test_dataset = random_split(dataset, [train_size, test_size])\n",
    "\n",
    "train_loader = DataLoader(train_dataset, batch_size=1000, shuffle=True)\n",
    "test_loader = DataLoader(test_dataset, batch_size=1000, shuffle=False)\n",
    "\n",
    "# Define a simple fully connected neural network\n",
    "class SimpleSudokuNet(nn.Module):\n",
    "    def __init__(self):\n",
    "        super(SimpleSudokuNet, self).__init__()\n",
    "        # Input is 81 (9x9), output is 81 (solved 9x9)\n",
    "        self.fc1 = nn.Linear(81, 128)  # Fully connected layer with 128 units\n",
    "        self.fc2 = nn.Linear(128, 128)  # Hidden layer with 64 units\n",
    "        self.fc3 = nn.Linear(128, 256)\n",
    "        self.fc4 = nn.Linear(256, 512)\n",
    "        self.fc5 = nn.Linear(512, 256)\n",
    "        self.fc6 = nn.Linear(256, 128)\n",
    "        self.fc7 = nn.Linear(128, 81)   # Output layer with 81 units (9x9)\n",
    "        self.relu = nn.ReLU()          # Activation function\n",
    "\n",
    "    def forward(self, x):\n",
    "        x = x.view(-1, 81)  # Flatten the 9x9 puzzle into 81 elements\n",
    "        x = self.relu(self.fc1(x))  # First layer with ReLU\n",
    "        x = self.relu(self.fc2(x))  # Second layer with ReLU\n",
    "        x = self.relu(self.fc3(x))             # Output layer (no activation for regression)\n",
    "        x = self.relu(self.fc4(x))  \n",
    "        x = self.relu(self.fc5(x)) \n",
    "        x = self.relu(self.fc6(x)) \n",
    "        x = self.fc7(x)\n",
    "        return x.view(-1, 9, 9)     # Reshape output to 9x9 grid\n",
    "\n",
    "# Instantiate the model, define loss function and optimizer\n",
    "model = SimpleSudokuNet()\n",
    "criterion = nn.MSELoss()  # Mean Squared Error Loss for regression\n",
    "optimizer = optim.Adam(model.parameters(), lr=0.001)\n",
    "\n",
    "# Lists to track the loss for plotting\n",
    "train_losses = []\n",
    "test_losses = []\n",
    "\n",
    "# Training and Testing loop with loading bar and loss visualization\n",
    "num_epochs = 40\n",
    "for epoch in range(num_epochs):\n",
    "    print(f'Epoch [{epoch+1}/{num_epochs}]')\n",
    "\n",
    "    # Training Phase\n",
    "    model.train()  # Set the model to training mode\n",
    "    train_loss = 0.0\n",
    "    for batch_puzzles, batch_solutions in tqdm(train_loader, desc=\"Training\", leave=False):\n",
    "        # Flatten and normalize the puzzles\n",
    "        batch_puzzles = batch_puzzles.view(-1, 81).float() / 9\n",
    "        batch_solutions = batch_solutions.view(-1, 81).float() / 9\n",
    "        \n",
    "        # Forward pass through the model\n",
    "        outputs = model(batch_puzzles)\n",
    "        loss = criterion(outputs, batch_solutions.view(-1, 9, 9))\n",
    "        \n",
    "        # Backward pass and optimization\n",
    "        optimizer.zero_grad()\n",
    "        loss.backward()\n",
    "        optimizer.step()\n",
    "\n",
    "        train_loss += loss.item() * batch_puzzles.size(0)  # Accumulate loss\n",
    "\n",
    "    # Average train loss for the epoch\n",
    "    train_loss /= len(train_loader.dataset)\n",
    "    train_losses.append(train_loss)\n",
    "\n",
    "    # Testing Phase\n",
    "    model.eval()  # Set the model to evaluation mode\n",
    "    test_loss = 0.0\n",
    "    with torch.no_grad():  # No need to track gradients during testing\n",
    "        for batch_puzzles, batch_solutions in tqdm(test_loader, desc=\"Testing\", leave=False):\n",
    "            batch_puzzles = batch_puzzles.view(-1, 81).float() / 9\n",
    "            batch_solutions = batch_solutions.view(-1, 81).float() / 9\n",
    "\n",
    "            # Forward pass\n",
    "            outputs = model(batch_puzzles)\n",
    "            loss = criterion(outputs, batch_solutions.view(-1, 9, 9))\n",
    "\n",
    "            test_loss += loss.item() * batch_puzzles.size(0)  # Accumulate test loss\n",
    "\n",
    "    # Average test loss for the epoch\n",
    "    test_loss /= len(test_loader.dataset)\n",
    "    test_losses.append(test_loss)\n",
    "\n",
    "    # Print losses for the epoch\n",
    "    print(f'Training Loss: {train_loss:.4f}, Testing Loss: {test_loss:.4f}')\n",
    "\n",
    "# Plot the loss curves for training and testing\n",
    "plt.figure(figsize=(10,5))\n",
    "plt.plot(train_losses, label='Training Loss', color='blue')\n",
    "plt.plot(test_losses, label='Testing Loss', color='red')\n",
    "plt.xlabel('Epochs')\n",
    "plt.ylabel('Loss')\n",
    "plt.title('Training and Testing Loss Over Time')\n",
    "plt.legend()\n",
    "plt.grid(True)\n",
    "plt.show()\n"
   ]
  },
  {
   "cell_type": "code",
   "execution_count": 30,
   "metadata": {},
   "outputs": [
    {
     "name": "stdout",
     "output_type": "stream",
     "text": [
      "Test Accuracy on 1000 samples: 41.07%\n"
     ]
    }
   ],
   "source": [
    "import torch\n",
    "import torch.nn as nn\n",
    "from torch.utils.data import DataLoader\n",
    "\n",
    "# Assuming you already have the SimpleSudokuNet and SudokuDataset from the previous code\n",
    "\n",
    "# Function to test the model on n samples from the test dataset\n",
    "def test_model(model, test_loader, n):\n",
    "    model.eval()  # Set model to evaluation mode\n",
    "    total_correct = 0\n",
    "    total_cells = 0\n",
    "\n",
    "    with torch.no_grad():  # No need to compute gradients during testing\n",
    "        for i, (puzzles, solutions) in enumerate(test_loader):\n",
    "            if i * puzzles.size(0) >= n:\n",
    "                break  # Stop when we've tested n samples\n",
    "            \n",
    "            # Normalize puzzles and solutions\n",
    "            puzzles = puzzles.view(-1, 81).float() / 9  # Normalized between 0 and 1\n",
    "            solutions = solutions.view(-1, 81).float()  # Original solutions\n",
    "            \n",
    "            # Forward pass\n",
    "            outputs = model(puzzles)  # Model prediction\n",
    "            outputs = outputs.view(-1, 81)  # Flatten output to (batch_size, 81)\n",
    "            \n",
    "            # De-normalize and round predictions\n",
    "            predicted = torch.round(outputs * 9).clamp(0, 9)  # Round and clip between 0-9\n",
    "            true_values = solutions.view(-1, 81)  # Flatten true solutions\n",
    "            \n",
    "            # Calculate number of correct guesses (element-wise comparison)\n",
    "            correct = (predicted == true_values).sum().item()  # Count correct guesses\n",
    "            total_correct += correct\n",
    "            total_cells += predicted.numel()  # Total number of cells processed\n",
    "\n",
    "    # Calculate accuracy as a percentage of correct guesses\n",
    "    accuracy = (total_correct / total_cells) * 100\n",
    "    print(f\"Test Accuracy on {n} samples: {accuracy:.2f}%\")\n",
    "    return accuracy\n",
    "\n",
    "# Example usage of the test_model function\n",
    "# Set the number of samples to test (n)\n",
    "n_samples_to_test = 1000  # Adjust this as needed\n",
    "\n",
    "# Load the dataset (replace with actual DataLoader object)\n",
    "test_loader = DataLoader(test_dataset, batch_size=1000, shuffle=False)\n",
    "\n",
    "# Assuming your model is already trained, now test it\n",
    "test_accuracy = test_model(model, test_loader, n_samples_to_test)\n"
   ]
  },
  {
   "cell_type": "code",
   "execution_count": 1,
   "metadata": {},
   "outputs": [
    {
     "name": "stdout",
     "output_type": "stream",
     "text": [
      "Using device: cuda\n",
      "Epoch [1/250]\n"
     ]
    },
    {
     "name": "stderr",
     "output_type": "stream",
     "text": [
      "                                                           \r"
     ]
    },
    {
     "name": "stdout",
     "output_type": "stream",
     "text": [
      "Training Loss: 0.0858, Testing Loss: 0.0824\n",
      "Epoch [2/250]\n"
     ]
    },
    {
     "name": "stderr",
     "output_type": "stream",
     "text": [
      "                                                           \r"
     ]
    },
    {
     "name": "stdout",
     "output_type": "stream",
     "text": [
      "Training Loss: 0.0821, Testing Loss: 0.0820\n",
      "Epoch [3/250]\n"
     ]
    },
    {
     "name": "stderr",
     "output_type": "stream",
     "text": [
      "                                                           \r"
     ]
    },
    {
     "name": "stdout",
     "output_type": "stream",
     "text": [
      "Training Loss: 0.0812, Testing Loss: 0.0801\n",
      "Epoch [4/250]\n"
     ]
    },
    {
     "name": "stderr",
     "output_type": "stream",
     "text": [
      "                                                           \r"
     ]
    },
    {
     "name": "stdout",
     "output_type": "stream",
     "text": [
      "Training Loss: 0.0789, Testing Loss: 0.0776\n",
      "Epoch [5/250]\n"
     ]
    },
    {
     "name": "stderr",
     "output_type": "stream",
     "text": [
      "                                                           \r"
     ]
    },
    {
     "name": "stdout",
     "output_type": "stream",
     "text": [
      "Training Loss: 0.0758, Testing Loss: 0.0749\n",
      "Epoch [6/250]\n"
     ]
    },
    {
     "name": "stderr",
     "output_type": "stream",
     "text": [
      "                                                           \r"
     ]
    },
    {
     "name": "stdout",
     "output_type": "stream",
     "text": [
      "Training Loss: 0.0739, Testing Loss: 0.0734\n",
      "Epoch [7/250]\n"
     ]
    },
    {
     "name": "stderr",
     "output_type": "stream",
     "text": [
      "                                                           \r"
     ]
    },
    {
     "name": "stdout",
     "output_type": "stream",
     "text": [
      "Training Loss: 0.0727, Testing Loss: 0.0719\n",
      "Epoch [8/250]\n"
     ]
    },
    {
     "name": "stderr",
     "output_type": "stream",
     "text": [
      "                                                           \r"
     ]
    },
    {
     "name": "stdout",
     "output_type": "stream",
     "text": [
      "Training Loss: 0.0717, Testing Loss: 0.0717\n",
      "Epoch [9/250]\n"
     ]
    },
    {
     "name": "stderr",
     "output_type": "stream",
     "text": [
      "                                                           \r"
     ]
    },
    {
     "name": "stdout",
     "output_type": "stream",
     "text": [
      "Training Loss: 0.0714, Testing Loss: 0.0711\n",
      "Epoch [10/250]\n"
     ]
    },
    {
     "name": "stderr",
     "output_type": "stream",
     "text": [
      "                                                           \r"
     ]
    },
    {
     "name": "stdout",
     "output_type": "stream",
     "text": [
      "Training Loss: 0.0706, Testing Loss: 0.0700\n",
      "Epoch [11/250]\n"
     ]
    },
    {
     "name": "stderr",
     "output_type": "stream",
     "text": [
      "                                                           \r"
     ]
    },
    {
     "name": "stdout",
     "output_type": "stream",
     "text": [
      "Training Loss: 0.0697, Testing Loss: 0.0695\n",
      "Epoch [12/250]\n"
     ]
    },
    {
     "name": "stderr",
     "output_type": "stream",
     "text": [
      "                                                           \r"
     ]
    },
    {
     "name": "stdout",
     "output_type": "stream",
     "text": [
      "Training Loss: 0.0693, Testing Loss: 0.0691\n",
      "Epoch [13/250]\n"
     ]
    },
    {
     "name": "stderr",
     "output_type": "stream",
     "text": [
      "                                                           \r"
     ]
    },
    {
     "name": "stdout",
     "output_type": "stream",
     "text": [
      "Training Loss: 0.0689, Testing Loss: 0.0687\n",
      "Epoch [14/250]\n"
     ]
    },
    {
     "name": "stderr",
     "output_type": "stream",
     "text": [
      "                                                           \r"
     ]
    },
    {
     "name": "stdout",
     "output_type": "stream",
     "text": [
      "Training Loss: 0.0686, Testing Loss: 0.0684\n",
      "Epoch [15/250]\n"
     ]
    },
    {
     "name": "stderr",
     "output_type": "stream",
     "text": [
      "                                                           \r"
     ]
    },
    {
     "name": "stdout",
     "output_type": "stream",
     "text": [
      "Training Loss: 0.0682, Testing Loss: 0.0680\n",
      "Epoch [16/250]\n"
     ]
    },
    {
     "name": "stderr",
     "output_type": "stream",
     "text": [
      "                                                           \r"
     ]
    },
    {
     "name": "stdout",
     "output_type": "stream",
     "text": [
      "Training Loss: 0.0676, Testing Loss: 0.0675\n",
      "Epoch [17/250]\n"
     ]
    },
    {
     "name": "stderr",
     "output_type": "stream",
     "text": [
      "                                                           \r"
     ]
    },
    {
     "name": "stdout",
     "output_type": "stream",
     "text": [
      "Training Loss: 0.0675, Testing Loss: 0.0675\n",
      "Epoch [18/250]\n"
     ]
    },
    {
     "name": "stderr",
     "output_type": "stream",
     "text": [
      "                                                           \r"
     ]
    },
    {
     "name": "stdout",
     "output_type": "stream",
     "text": [
      "Training Loss: 0.0671, Testing Loss: 0.0666\n",
      "Epoch [19/250]\n"
     ]
    },
    {
     "name": "stderr",
     "output_type": "stream",
     "text": [
      "                                                           \r"
     ]
    },
    {
     "name": "stdout",
     "output_type": "stream",
     "text": [
      "Training Loss: 0.0664, Testing Loss: 0.0663\n",
      "Epoch [20/250]\n"
     ]
    },
    {
     "name": "stderr",
     "output_type": "stream",
     "text": [
      "                                                           \r"
     ]
    },
    {
     "name": "stdout",
     "output_type": "stream",
     "text": [
      "Training Loss: 0.0663, Testing Loss: 0.0664\n",
      "Epoch [21/250]\n"
     ]
    },
    {
     "name": "stderr",
     "output_type": "stream",
     "text": [
      "                                                           \r"
     ]
    },
    {
     "name": "stdout",
     "output_type": "stream",
     "text": [
      "Training Loss: 0.0663, Testing Loss: 0.0662\n",
      "Epoch [22/250]\n"
     ]
    },
    {
     "name": "stderr",
     "output_type": "stream",
     "text": [
      "                                                           \r"
     ]
    },
    {
     "name": "stdout",
     "output_type": "stream",
     "text": [
      "Training Loss: 0.0659, Testing Loss: 0.0655\n",
      "Epoch [23/250]\n"
     ]
    },
    {
     "name": "stderr",
     "output_type": "stream",
     "text": [
      "                                                           \r"
     ]
    },
    {
     "name": "stdout",
     "output_type": "stream",
     "text": [
      "Training Loss: 0.0651, Testing Loss: 0.0650\n",
      "Epoch [24/250]\n"
     ]
    },
    {
     "name": "stderr",
     "output_type": "stream",
     "text": [
      "                                                           \r"
     ]
    },
    {
     "name": "stdout",
     "output_type": "stream",
     "text": [
      "Training Loss: 0.0648, Testing Loss: 0.0647\n",
      "Epoch [25/250]\n"
     ]
    },
    {
     "name": "stderr",
     "output_type": "stream",
     "text": [
      "                                                           \r"
     ]
    },
    {
     "name": "stdout",
     "output_type": "stream",
     "text": [
      "Training Loss: 0.0648, Testing Loss: 0.0648\n",
      "Epoch [26/250]\n"
     ]
    },
    {
     "name": "stderr",
     "output_type": "stream",
     "text": [
      "                                                           \r"
     ]
    },
    {
     "name": "stdout",
     "output_type": "stream",
     "text": [
      "Training Loss: 0.0646, Testing Loss: 0.0643\n",
      "Epoch [27/250]\n"
     ]
    },
    {
     "name": "stderr",
     "output_type": "stream",
     "text": [
      "                                                           \r"
     ]
    },
    {
     "name": "stdout",
     "output_type": "stream",
     "text": [
      "Training Loss: 0.0640, Testing Loss: 0.0638\n",
      "Epoch [28/250]\n"
     ]
    },
    {
     "name": "stderr",
     "output_type": "stream",
     "text": [
      "                                                           \r"
     ]
    },
    {
     "name": "stdout",
     "output_type": "stream",
     "text": [
      "Training Loss: 0.0637, Testing Loss: 0.0636\n",
      "Epoch [29/250]\n"
     ]
    },
    {
     "name": "stderr",
     "output_type": "stream",
     "text": [
      "                                                           \r"
     ]
    },
    {
     "name": "stdout",
     "output_type": "stream",
     "text": [
      "Training Loss: 0.0635, Testing Loss: 0.0636\n",
      "Epoch [30/250]\n"
     ]
    },
    {
     "name": "stderr",
     "output_type": "stream",
     "text": [
      "                                                           \r"
     ]
    },
    {
     "name": "stdout",
     "output_type": "stream",
     "text": [
      "Training Loss: 0.0635, Testing Loss: 0.0638\n",
      "Epoch [31/250]\n"
     ]
    },
    {
     "name": "stderr",
     "output_type": "stream",
     "text": [
      "                                                           \r"
     ]
    },
    {
     "name": "stdout",
     "output_type": "stream",
     "text": [
      "Training Loss: 0.0634, Testing Loss: 0.0637\n",
      "Epoch [32/250]\n"
     ]
    },
    {
     "name": "stderr",
     "output_type": "stream",
     "text": [
      "                                                           \r"
     ]
    },
    {
     "name": "stdout",
     "output_type": "stream",
     "text": [
      "Training Loss: 0.0634, Testing Loss: 0.0641\n",
      "Epoch [33/250]\n"
     ]
    },
    {
     "name": "stderr",
     "output_type": "stream",
     "text": [
      "                                                           \r"
     ]
    },
    {
     "name": "stdout",
     "output_type": "stream",
     "text": [
      "Training Loss: 0.0630, Testing Loss: 0.0627\n",
      "Epoch [34/250]\n"
     ]
    },
    {
     "name": "stderr",
     "output_type": "stream",
     "text": [
      "                                                           \r"
     ]
    },
    {
     "name": "stdout",
     "output_type": "stream",
     "text": [
      "Training Loss: 0.0628, Testing Loss: 0.0627\n",
      "Epoch [35/250]\n"
     ]
    },
    {
     "name": "stderr",
     "output_type": "stream",
     "text": [
      "                                                           \r"
     ]
    },
    {
     "name": "stdout",
     "output_type": "stream",
     "text": [
      "Training Loss: 0.0627, Testing Loss: 0.0627\n",
      "Epoch [36/250]\n"
     ]
    },
    {
     "name": "stderr",
     "output_type": "stream",
     "text": [
      "                                                           \r"
     ]
    },
    {
     "name": "stdout",
     "output_type": "stream",
     "text": [
      "Training Loss: 0.0627, Testing Loss: 0.0628\n",
      "Epoch [37/250]\n"
     ]
    },
    {
     "name": "stderr",
     "output_type": "stream",
     "text": [
      "                                                           \r"
     ]
    },
    {
     "name": "stdout",
     "output_type": "stream",
     "text": [
      "Training Loss: 0.0626, Testing Loss: 0.0627\n",
      "Epoch [38/250]\n"
     ]
    },
    {
     "name": "stderr",
     "output_type": "stream",
     "text": [
      "                                                           \r"
     ]
    },
    {
     "name": "stdout",
     "output_type": "stream",
     "text": [
      "Training Loss: 0.0626, Testing Loss: 0.0627\n",
      "Epoch [39/250]\n"
     ]
    },
    {
     "name": "stderr",
     "output_type": "stream",
     "text": [
      "                                                           \r"
     ]
    },
    {
     "name": "stdout",
     "output_type": "stream",
     "text": [
      "Training Loss: 0.0626, Testing Loss: 0.0626\n",
      "Epoch [40/250]\n"
     ]
    },
    {
     "name": "stderr",
     "output_type": "stream",
     "text": [
      "                                                           \r"
     ]
    },
    {
     "name": "stdout",
     "output_type": "stream",
     "text": [
      "Training Loss: 0.0626, Testing Loss: 0.0626\n",
      "Epoch [41/250]\n"
     ]
    },
    {
     "name": "stderr",
     "output_type": "stream",
     "text": [
      "                                                           \r"
     ]
    },
    {
     "name": "stdout",
     "output_type": "stream",
     "text": [
      "Training Loss: 0.0625, Testing Loss: 0.0622\n",
      "Epoch [42/250]\n"
     ]
    },
    {
     "name": "stderr",
     "output_type": "stream",
     "text": [
      "                                                           \r"
     ]
    },
    {
     "name": "stdout",
     "output_type": "stream",
     "text": [
      "Training Loss: 0.0623, Testing Loss: 0.0623\n",
      "Epoch [43/250]\n"
     ]
    },
    {
     "name": "stderr",
     "output_type": "stream",
     "text": [
      "                                                           \r"
     ]
    },
    {
     "name": "stdout",
     "output_type": "stream",
     "text": [
      "Training Loss: 0.0622, Testing Loss: 0.0623\n",
      "Epoch [44/250]\n"
     ]
    },
    {
     "name": "stderr",
     "output_type": "stream",
     "text": [
      "                                                           \r"
     ]
    },
    {
     "name": "stdout",
     "output_type": "stream",
     "text": [
      "Training Loss: 0.0622, Testing Loss: 0.0626\n",
      "Epoch [45/250]\n"
     ]
    },
    {
     "name": "stderr",
     "output_type": "stream",
     "text": [
      "                                                           \r"
     ]
    },
    {
     "name": "stdout",
     "output_type": "stream",
     "text": [
      "Training Loss: 0.0621, Testing Loss: 0.0619\n",
      "Epoch [46/250]\n"
     ]
    },
    {
     "name": "stderr",
     "output_type": "stream",
     "text": [
      "                                                           \r"
     ]
    },
    {
     "name": "stdout",
     "output_type": "stream",
     "text": [
      "Training Loss: 0.0619, Testing Loss: 0.0619\n",
      "Epoch [47/250]\n"
     ]
    },
    {
     "name": "stderr",
     "output_type": "stream",
     "text": [
      "                                                           \r"
     ]
    },
    {
     "name": "stdout",
     "output_type": "stream",
     "text": [
      "Training Loss: 0.0618, Testing Loss: 0.0618\n",
      "Epoch [48/250]\n"
     ]
    },
    {
     "name": "stderr",
     "output_type": "stream",
     "text": [
      "                                                           \r"
     ]
    },
    {
     "name": "stdout",
     "output_type": "stream",
     "text": [
      "Training Loss: 0.0617, Testing Loss: 0.0615\n",
      "Epoch [49/250]\n"
     ]
    },
    {
     "name": "stderr",
     "output_type": "stream",
     "text": [
      "                                                           \r"
     ]
    },
    {
     "name": "stdout",
     "output_type": "stream",
     "text": [
      "Training Loss: 0.0616, Testing Loss: 0.0614\n",
      "Epoch [50/250]\n"
     ]
    },
    {
     "name": "stderr",
     "output_type": "stream",
     "text": [
      "                                                           \r"
     ]
    },
    {
     "name": "stdout",
     "output_type": "stream",
     "text": [
      "Training Loss: 0.0614, Testing Loss: 0.0613\n",
      "Epoch [51/250]\n"
     ]
    },
    {
     "name": "stderr",
     "output_type": "stream",
     "text": [
      "                                                           \r"
     ]
    },
    {
     "name": "stdout",
     "output_type": "stream",
     "text": [
      "Training Loss: 0.0614, Testing Loss: 0.0615\n",
      "Epoch [52/250]\n"
     ]
    },
    {
     "name": "stderr",
     "output_type": "stream",
     "text": [
      "                                                           \r"
     ]
    },
    {
     "name": "stdout",
     "output_type": "stream",
     "text": [
      "Training Loss: 0.0613, Testing Loss: 0.0618\n",
      "Epoch [53/250]\n"
     ]
    },
    {
     "name": "stderr",
     "output_type": "stream",
     "text": [
      "                                                           \r"
     ]
    },
    {
     "name": "stdout",
     "output_type": "stream",
     "text": [
      "Training Loss: 0.0613, Testing Loss: 0.0614\n",
      "Epoch [54/250]\n"
     ]
    },
    {
     "name": "stderr",
     "output_type": "stream",
     "text": [
      "                                                           \r"
     ]
    },
    {
     "name": "stdout",
     "output_type": "stream",
     "text": [
      "Training Loss: 0.0614, Testing Loss: 0.0613\n",
      "Epoch [55/250]\n"
     ]
    },
    {
     "name": "stderr",
     "output_type": "stream",
     "text": [
      "                                                           \r"
     ]
    },
    {
     "name": "stdout",
     "output_type": "stream",
     "text": [
      "Training Loss: 0.0615, Testing Loss: 0.0615\n",
      "Epoch [56/250]\n"
     ]
    },
    {
     "name": "stderr",
     "output_type": "stream",
     "text": [
      "                                                           \r"
     ]
    },
    {
     "name": "stdout",
     "output_type": "stream",
     "text": [
      "Training Loss: 0.0614, Testing Loss: 0.0615\n",
      "Epoch [57/250]\n"
     ]
    },
    {
     "name": "stderr",
     "output_type": "stream",
     "text": [
      "                                                           \r"
     ]
    },
    {
     "name": "stdout",
     "output_type": "stream",
     "text": [
      "Training Loss: 0.0612, Testing Loss: 0.0610\n",
      "Epoch [58/250]\n"
     ]
    },
    {
     "name": "stderr",
     "output_type": "stream",
     "text": [
      "                                                           \r"
     ]
    },
    {
     "name": "stdout",
     "output_type": "stream",
     "text": [
      "Training Loss: 0.0610, Testing Loss: 0.0609\n",
      "Epoch [59/250]\n"
     ]
    },
    {
     "name": "stderr",
     "output_type": "stream",
     "text": [
      "                                                           \r"
     ]
    },
    {
     "name": "stdout",
     "output_type": "stream",
     "text": [
      "Training Loss: 0.0609, Testing Loss: 0.0608\n",
      "Epoch [60/250]\n"
     ]
    },
    {
     "name": "stderr",
     "output_type": "stream",
     "text": [
      "                                                           \r"
     ]
    },
    {
     "name": "stdout",
     "output_type": "stream",
     "text": [
      "Training Loss: 0.0606, Testing Loss: 0.0610\n",
      "Epoch [61/250]\n"
     ]
    },
    {
     "name": "stderr",
     "output_type": "stream",
     "text": [
      "                                                           \r"
     ]
    },
    {
     "name": "stdout",
     "output_type": "stream",
     "text": [
      "Training Loss: 0.0606, Testing Loss: 0.0605\n",
      "Epoch [62/250]\n"
     ]
    },
    {
     "name": "stderr",
     "output_type": "stream",
     "text": [
      "                                                           \r"
     ]
    },
    {
     "name": "stdout",
     "output_type": "stream",
     "text": [
      "Training Loss: 0.0603, Testing Loss: 0.0602\n",
      "Epoch [63/250]\n"
     ]
    },
    {
     "name": "stderr",
     "output_type": "stream",
     "text": [
      "                                                           \r"
     ]
    },
    {
     "name": "stdout",
     "output_type": "stream",
     "text": [
      "Training Loss: 0.0598, Testing Loss: 0.0595\n",
      "Epoch [64/250]\n"
     ]
    },
    {
     "name": "stderr",
     "output_type": "stream",
     "text": [
      "                                                           \r"
     ]
    },
    {
     "name": "stdout",
     "output_type": "stream",
     "text": [
      "Training Loss: 0.0593, Testing Loss: 0.0592\n",
      "Epoch [65/250]\n"
     ]
    },
    {
     "name": "stderr",
     "output_type": "stream",
     "text": [
      "                                                           \r"
     ]
    },
    {
     "name": "stdout",
     "output_type": "stream",
     "text": [
      "Training Loss: 0.0589, Testing Loss: 0.0588\n",
      "Epoch [66/250]\n"
     ]
    },
    {
     "name": "stderr",
     "output_type": "stream",
     "text": [
      "                                                           \r"
     ]
    },
    {
     "name": "stdout",
     "output_type": "stream",
     "text": [
      "Training Loss: 0.0587, Testing Loss: 0.0591\n",
      "Epoch [67/250]\n"
     ]
    },
    {
     "name": "stderr",
     "output_type": "stream",
     "text": [
      "                                                           \r"
     ]
    },
    {
     "name": "stdout",
     "output_type": "stream",
     "text": [
      "Training Loss: 0.0587, Testing Loss: 0.0586\n",
      "Epoch [68/250]\n"
     ]
    },
    {
     "name": "stderr",
     "output_type": "stream",
     "text": [
      "                                                           \r"
     ]
    },
    {
     "name": "stdout",
     "output_type": "stream",
     "text": [
      "Training Loss: 0.0586, Testing Loss: 0.0586\n",
      "Epoch [69/250]\n"
     ]
    },
    {
     "name": "stderr",
     "output_type": "stream",
     "text": [
      "                                                           \r"
     ]
    },
    {
     "name": "stdout",
     "output_type": "stream",
     "text": [
      "Training Loss: 0.0586, Testing Loss: 0.0586\n",
      "Epoch [70/250]\n"
     ]
    },
    {
     "name": "stderr",
     "output_type": "stream",
     "text": [
      "                                                           \r"
     ]
    },
    {
     "name": "stdout",
     "output_type": "stream",
     "text": [
      "Training Loss: 0.0582, Testing Loss: 0.0584\n",
      "Epoch [71/250]\n"
     ]
    },
    {
     "name": "stderr",
     "output_type": "stream",
     "text": [
      "                                                           \r"
     ]
    },
    {
     "name": "stdout",
     "output_type": "stream",
     "text": [
      "Training Loss: 0.0583, Testing Loss: 0.0584\n",
      "Epoch [72/250]\n"
     ]
    },
    {
     "name": "stderr",
     "output_type": "stream",
     "text": [
      "                                                           \r"
     ]
    },
    {
     "name": "stdout",
     "output_type": "stream",
     "text": [
      "Training Loss: 0.0582, Testing Loss: 0.0583\n",
      "Epoch [73/250]\n"
     ]
    },
    {
     "name": "stderr",
     "output_type": "stream",
     "text": [
      "                                                           \r"
     ]
    },
    {
     "name": "stdout",
     "output_type": "stream",
     "text": [
      "Training Loss: 0.0582, Testing Loss: 0.0583\n",
      "Epoch [74/250]\n"
     ]
    },
    {
     "name": "stderr",
     "output_type": "stream",
     "text": [
      "                                                           \r"
     ]
    },
    {
     "name": "stdout",
     "output_type": "stream",
     "text": [
      "Training Loss: 0.0582, Testing Loss: 0.0582\n",
      "Epoch [75/250]\n"
     ]
    },
    {
     "name": "stderr",
     "output_type": "stream",
     "text": [
      "                                                           \r"
     ]
    },
    {
     "name": "stdout",
     "output_type": "stream",
     "text": [
      "Training Loss: 0.0582, Testing Loss: 0.0584\n",
      "Epoch [76/250]\n"
     ]
    },
    {
     "name": "stderr",
     "output_type": "stream",
     "text": [
      "                                                           \r"
     ]
    },
    {
     "name": "stdout",
     "output_type": "stream",
     "text": [
      "Training Loss: 0.0581, Testing Loss: 0.0581\n",
      "Epoch [77/250]\n"
     ]
    },
    {
     "name": "stderr",
     "output_type": "stream",
     "text": [
      "                                                           \r"
     ]
    },
    {
     "name": "stdout",
     "output_type": "stream",
     "text": [
      "Training Loss: 0.0580, Testing Loss: 0.0583\n",
      "Epoch [78/250]\n"
     ]
    },
    {
     "name": "stderr",
     "output_type": "stream",
     "text": [
      "                                                           \r"
     ]
    },
    {
     "name": "stdout",
     "output_type": "stream",
     "text": [
      "Training Loss: 0.0581, Testing Loss: 0.0582\n",
      "Epoch [79/250]\n"
     ]
    },
    {
     "name": "stderr",
     "output_type": "stream",
     "text": [
      "                                                           \r"
     ]
    },
    {
     "name": "stdout",
     "output_type": "stream",
     "text": [
      "Training Loss: 0.0578, Testing Loss: 0.0583\n",
      "Epoch [80/250]\n"
     ]
    },
    {
     "name": "stderr",
     "output_type": "stream",
     "text": [
      "                                                           \r"
     ]
    },
    {
     "name": "stdout",
     "output_type": "stream",
     "text": [
      "Training Loss: 0.0576, Testing Loss: 0.0576\n",
      "Epoch [81/250]\n"
     ]
    },
    {
     "name": "stderr",
     "output_type": "stream",
     "text": [
      "                                                           \r"
     ]
    },
    {
     "name": "stdout",
     "output_type": "stream",
     "text": [
      "Training Loss: 0.0573, Testing Loss: 0.0574\n",
      "Epoch [82/250]\n"
     ]
    },
    {
     "name": "stderr",
     "output_type": "stream",
     "text": [
      "                                                           \r"
     ]
    },
    {
     "name": "stdout",
     "output_type": "stream",
     "text": [
      "Training Loss: 0.0571, Testing Loss: 0.0573\n",
      "Epoch [83/250]\n"
     ]
    },
    {
     "name": "stderr",
     "output_type": "stream",
     "text": [
      "                                                           \r"
     ]
    },
    {
     "name": "stdout",
     "output_type": "stream",
     "text": [
      "Training Loss: 0.0570, Testing Loss: 0.0572\n",
      "Epoch [84/250]\n"
     ]
    },
    {
     "name": "stderr",
     "output_type": "stream",
     "text": [
      "                                                           \r"
     ]
    },
    {
     "name": "stdout",
     "output_type": "stream",
     "text": [
      "Training Loss: 0.0569, Testing Loss: 0.0576\n",
      "Epoch [85/250]\n"
     ]
    },
    {
     "name": "stderr",
     "output_type": "stream",
     "text": [
      "                                                           \r"
     ]
    },
    {
     "name": "stdout",
     "output_type": "stream",
     "text": [
      "Training Loss: 0.0569, Testing Loss: 0.0570\n",
      "Epoch [86/250]\n"
     ]
    },
    {
     "name": "stderr",
     "output_type": "stream",
     "text": [
      "                                                           \r"
     ]
    },
    {
     "name": "stdout",
     "output_type": "stream",
     "text": [
      "Training Loss: 0.0571, Testing Loss: 0.0571\n",
      "Epoch [87/250]\n"
     ]
    },
    {
     "name": "stderr",
     "output_type": "stream",
     "text": [
      "                                                           \r"
     ]
    },
    {
     "name": "stdout",
     "output_type": "stream",
     "text": [
      "Training Loss: 0.0569, Testing Loss: 0.0570\n",
      "Epoch [88/250]\n"
     ]
    },
    {
     "name": "stderr",
     "output_type": "stream",
     "text": [
      "                                                           \r"
     ]
    },
    {
     "name": "stdout",
     "output_type": "stream",
     "text": [
      "Training Loss: 0.0570, Testing Loss: 0.0572\n",
      "Epoch [89/250]\n"
     ]
    },
    {
     "name": "stderr",
     "output_type": "stream",
     "text": [
      "                                                           \r"
     ]
    },
    {
     "name": "stdout",
     "output_type": "stream",
     "text": [
      "Training Loss: 0.0571, Testing Loss: 0.0572\n",
      "Epoch [90/250]\n"
     ]
    },
    {
     "name": "stderr",
     "output_type": "stream",
     "text": [
      "                                                           \r"
     ]
    },
    {
     "name": "stdout",
     "output_type": "stream",
     "text": [
      "Training Loss: 0.0571, Testing Loss: 0.0574\n",
      "Epoch [91/250]\n"
     ]
    },
    {
     "name": "stderr",
     "output_type": "stream",
     "text": [
      "                                                           \r"
     ]
    },
    {
     "name": "stdout",
     "output_type": "stream",
     "text": [
      "Training Loss: 0.0572, Testing Loss: 0.0586\n",
      "Epoch [92/250]\n"
     ]
    },
    {
     "name": "stderr",
     "output_type": "stream",
     "text": [
      "                                                           \r"
     ]
    },
    {
     "name": "stdout",
     "output_type": "stream",
     "text": [
      "Training Loss: 0.0571, Testing Loss: 0.0574\n",
      "Epoch [93/250]\n"
     ]
    },
    {
     "name": "stderr",
     "output_type": "stream",
     "text": [
      "                                                           \r"
     ]
    },
    {
     "name": "stdout",
     "output_type": "stream",
     "text": [
      "Training Loss: 0.0568, Testing Loss: 0.0573\n",
      "Epoch [94/250]\n"
     ]
    },
    {
     "name": "stderr",
     "output_type": "stream",
     "text": [
      "                                                           \r"
     ]
    },
    {
     "name": "stdout",
     "output_type": "stream",
     "text": [
      "Training Loss: 0.0573, Testing Loss: 0.0580\n",
      "Epoch [95/250]\n"
     ]
    },
    {
     "name": "stderr",
     "output_type": "stream",
     "text": [
      "                                                           \r"
     ]
    },
    {
     "name": "stdout",
     "output_type": "stream",
     "text": [
      "Training Loss: 0.0569, Testing Loss: 0.0568\n",
      "Epoch [96/250]\n"
     ]
    },
    {
     "name": "stderr",
     "output_type": "stream",
     "text": [
      "                                                           \r"
     ]
    },
    {
     "name": "stdout",
     "output_type": "stream",
     "text": [
      "Training Loss: 0.0569, Testing Loss: 0.0568\n",
      "Epoch [97/250]\n"
     ]
    },
    {
     "name": "stderr",
     "output_type": "stream",
     "text": [
      "                                                           \r"
     ]
    },
    {
     "name": "stdout",
     "output_type": "stream",
     "text": [
      "Training Loss: 0.0565, Testing Loss: 0.0565\n",
      "Epoch [98/250]\n"
     ]
    },
    {
     "name": "stderr",
     "output_type": "stream",
     "text": [
      "                                                           \r"
     ]
    },
    {
     "name": "stdout",
     "output_type": "stream",
     "text": [
      "Training Loss: 0.0565, Testing Loss: 0.0566\n",
      "Epoch [99/250]\n"
     ]
    },
    {
     "name": "stderr",
     "output_type": "stream",
     "text": [
      "                                                           \r"
     ]
    },
    {
     "name": "stdout",
     "output_type": "stream",
     "text": [
      "Training Loss: 0.0565, Testing Loss: 0.0567\n",
      "Epoch [100/250]\n"
     ]
    },
    {
     "name": "stderr",
     "output_type": "stream",
     "text": [
      "                                                           \r"
     ]
    },
    {
     "name": "stdout",
     "output_type": "stream",
     "text": [
      "Training Loss: 0.0564, Testing Loss: 0.0566\n",
      "Epoch [101/250]\n"
     ]
    },
    {
     "name": "stderr",
     "output_type": "stream",
     "text": [
      "                                                           \r"
     ]
    },
    {
     "name": "stdout",
     "output_type": "stream",
     "text": [
      "Training Loss: 0.0567, Testing Loss: 0.0570\n",
      "Epoch [102/250]\n"
     ]
    },
    {
     "name": "stderr",
     "output_type": "stream",
     "text": [
      "                                                           \r"
     ]
    },
    {
     "name": "stdout",
     "output_type": "stream",
     "text": [
      "Training Loss: 0.0565, Testing Loss: 0.0565\n",
      "Epoch [103/250]\n"
     ]
    },
    {
     "name": "stderr",
     "output_type": "stream",
     "text": [
      "                                                           \r"
     ]
    },
    {
     "name": "stdout",
     "output_type": "stream",
     "text": [
      "Training Loss: 0.0561, Testing Loss: 0.0561\n",
      "Epoch [104/250]\n"
     ]
    },
    {
     "name": "stderr",
     "output_type": "stream",
     "text": [
      "                                                           \r"
     ]
    },
    {
     "name": "stdout",
     "output_type": "stream",
     "text": [
      "Training Loss: 0.0560, Testing Loss: 0.0564\n",
      "Epoch [105/250]\n"
     ]
    },
    {
     "name": "stderr",
     "output_type": "stream",
     "text": [
      "                                                           \r"
     ]
    },
    {
     "name": "stdout",
     "output_type": "stream",
     "text": [
      "Training Loss: 0.0558, Testing Loss: 0.0559\n",
      "Epoch [106/250]\n"
     ]
    },
    {
     "name": "stderr",
     "output_type": "stream",
     "text": [
      "                                                           \r"
     ]
    },
    {
     "name": "stdout",
     "output_type": "stream",
     "text": [
      "Training Loss: 0.0557, Testing Loss: 0.0561\n",
      "Epoch [107/250]\n"
     ]
    },
    {
     "name": "stderr",
     "output_type": "stream",
     "text": [
      "                                                           \r"
     ]
    },
    {
     "name": "stdout",
     "output_type": "stream",
     "text": [
      "Training Loss: 0.0556, Testing Loss: 0.0556\n",
      "Epoch [108/250]\n"
     ]
    },
    {
     "name": "stderr",
     "output_type": "stream",
     "text": [
      "                                                           \r"
     ]
    },
    {
     "name": "stdout",
     "output_type": "stream",
     "text": [
      "Training Loss: 0.0555, Testing Loss: 0.0562\n",
      "Epoch [109/250]\n"
     ]
    },
    {
     "name": "stderr",
     "output_type": "stream",
     "text": [
      "                                                           \r"
     ]
    },
    {
     "name": "stdout",
     "output_type": "stream",
     "text": [
      "Training Loss: 0.0552, Testing Loss: 0.0557\n",
      "Epoch [110/250]\n"
     ]
    },
    {
     "name": "stderr",
     "output_type": "stream",
     "text": [
      "                                                           \r"
     ]
    },
    {
     "name": "stdout",
     "output_type": "stream",
     "text": [
      "Training Loss: 0.0547, Testing Loss: 0.0547\n",
      "Epoch [111/250]\n"
     ]
    },
    {
     "name": "stderr",
     "output_type": "stream",
     "text": [
      "                                                           \r"
     ]
    },
    {
     "name": "stdout",
     "output_type": "stream",
     "text": [
      "Training Loss: 0.0546, Testing Loss: 0.0546\n",
      "Epoch [112/250]\n"
     ]
    },
    {
     "name": "stderr",
     "output_type": "stream",
     "text": [
      "                                                           \r"
     ]
    },
    {
     "name": "stdout",
     "output_type": "stream",
     "text": [
      "Training Loss: 0.0544, Testing Loss: 0.0544\n",
      "Epoch [113/250]\n"
     ]
    },
    {
     "name": "stderr",
     "output_type": "stream",
     "text": [
      "                                                           \r"
     ]
    },
    {
     "name": "stdout",
     "output_type": "stream",
     "text": [
      "Training Loss: 0.0544, Testing Loss: 0.0543\n",
      "Epoch [114/250]\n"
     ]
    },
    {
     "name": "stderr",
     "output_type": "stream",
     "text": [
      "                                                           \r"
     ]
    },
    {
     "name": "stdout",
     "output_type": "stream",
     "text": [
      "Training Loss: 0.0541, Testing Loss: 0.0542\n",
      "Epoch [115/250]\n"
     ]
    },
    {
     "name": "stderr",
     "output_type": "stream",
     "text": [
      "                                                           \r"
     ]
    },
    {
     "name": "stdout",
     "output_type": "stream",
     "text": [
      "Training Loss: 0.0541, Testing Loss: 0.0544\n",
      "Epoch [116/250]\n"
     ]
    },
    {
     "name": "stderr",
     "output_type": "stream",
     "text": [
      "                                                           \r"
     ]
    },
    {
     "name": "stdout",
     "output_type": "stream",
     "text": [
      "Training Loss: 0.0541, Testing Loss: 0.0542\n",
      "Epoch [117/250]\n"
     ]
    },
    {
     "name": "stderr",
     "output_type": "stream",
     "text": [
      "                                                           \r"
     ]
    },
    {
     "name": "stdout",
     "output_type": "stream",
     "text": [
      "Training Loss: 0.0541, Testing Loss: 0.0540\n",
      "Epoch [118/250]\n"
     ]
    },
    {
     "name": "stderr",
     "output_type": "stream",
     "text": [
      "                                                           \r"
     ]
    },
    {
     "name": "stdout",
     "output_type": "stream",
     "text": [
      "Training Loss: 0.0539, Testing Loss: 0.0539\n",
      "Epoch [119/250]\n"
     ]
    },
    {
     "name": "stderr",
     "output_type": "stream",
     "text": [
      "                                                           \r"
     ]
    },
    {
     "name": "stdout",
     "output_type": "stream",
     "text": [
      "Training Loss: 0.0539, Testing Loss: 0.0540\n",
      "Epoch [120/250]\n"
     ]
    },
    {
     "name": "stderr",
     "output_type": "stream",
     "text": [
      "                                                           \r"
     ]
    },
    {
     "name": "stdout",
     "output_type": "stream",
     "text": [
      "Training Loss: 0.0538, Testing Loss: 0.0546\n",
      "Epoch [121/250]\n"
     ]
    },
    {
     "name": "stderr",
     "output_type": "stream",
     "text": [
      "                                                           \r"
     ]
    },
    {
     "name": "stdout",
     "output_type": "stream",
     "text": [
      "Training Loss: 0.0538, Testing Loss: 0.0538\n",
      "Epoch [122/250]\n"
     ]
    },
    {
     "name": "stderr",
     "output_type": "stream",
     "text": [
      "                                                           \r"
     ]
    },
    {
     "name": "stdout",
     "output_type": "stream",
     "text": [
      "Training Loss: 0.0538, Testing Loss: 0.0540\n",
      "Epoch [123/250]\n"
     ]
    },
    {
     "name": "stderr",
     "output_type": "stream",
     "text": [
      "                                                           \r"
     ]
    },
    {
     "name": "stdout",
     "output_type": "stream",
     "text": [
      "Training Loss: 0.0538, Testing Loss: 0.0539\n",
      "Epoch [124/250]\n"
     ]
    },
    {
     "name": "stderr",
     "output_type": "stream",
     "text": [
      "                                                           \r"
     ]
    },
    {
     "name": "stdout",
     "output_type": "stream",
     "text": [
      "Training Loss: 0.0537, Testing Loss: 0.0539\n",
      "Epoch [125/250]\n"
     ]
    },
    {
     "name": "stderr",
     "output_type": "stream",
     "text": [
      "                                                           \r"
     ]
    },
    {
     "name": "stdout",
     "output_type": "stream",
     "text": [
      "Training Loss: 0.0537, Testing Loss: 0.0538\n",
      "Epoch [126/250]\n"
     ]
    },
    {
     "name": "stderr",
     "output_type": "stream",
     "text": [
      "                                                           \r"
     ]
    },
    {
     "name": "stdout",
     "output_type": "stream",
     "text": [
      "Training Loss: 0.0536, Testing Loss: 0.0538\n",
      "Epoch [127/250]\n"
     ]
    },
    {
     "name": "stderr",
     "output_type": "stream",
     "text": [
      "                                                           \r"
     ]
    },
    {
     "name": "stdout",
     "output_type": "stream",
     "text": [
      "Training Loss: 0.0535, Testing Loss: 0.0535\n",
      "Epoch [128/250]\n"
     ]
    },
    {
     "name": "stderr",
     "output_type": "stream",
     "text": [
      "                                                           \r"
     ]
    },
    {
     "name": "stdout",
     "output_type": "stream",
     "text": [
      "Training Loss: 0.0534, Testing Loss: 0.0533\n",
      "Epoch [129/250]\n"
     ]
    },
    {
     "name": "stderr",
     "output_type": "stream",
     "text": [
      "                                                           \r"
     ]
    },
    {
     "name": "stdout",
     "output_type": "stream",
     "text": [
      "Training Loss: 0.0534, Testing Loss: 0.0534\n",
      "Epoch [130/250]\n"
     ]
    },
    {
     "name": "stderr",
     "output_type": "stream",
     "text": [
      "                                                           \r"
     ]
    },
    {
     "name": "stdout",
     "output_type": "stream",
     "text": [
      "Training Loss: 0.0535, Testing Loss: 0.0535\n",
      "Epoch [131/250]\n"
     ]
    },
    {
     "name": "stderr",
     "output_type": "stream",
     "text": [
      "                                                           \r"
     ]
    },
    {
     "name": "stdout",
     "output_type": "stream",
     "text": [
      "Training Loss: 0.0532, Testing Loss: 0.0532\n",
      "Epoch [132/250]\n"
     ]
    },
    {
     "name": "stderr",
     "output_type": "stream",
     "text": [
      "                                                           \r"
     ]
    },
    {
     "name": "stdout",
     "output_type": "stream",
     "text": [
      "Training Loss: 0.0532, Testing Loss: 0.0531\n",
      "Epoch [133/250]\n"
     ]
    },
    {
     "name": "stderr",
     "output_type": "stream",
     "text": [
      "                                                           \r"
     ]
    },
    {
     "name": "stdout",
     "output_type": "stream",
     "text": [
      "Training Loss: 0.0529, Testing Loss: 0.0532\n",
      "Epoch [134/250]\n"
     ]
    },
    {
     "name": "stderr",
     "output_type": "stream",
     "text": [
      "                                                           \r"
     ]
    },
    {
     "name": "stdout",
     "output_type": "stream",
     "text": [
      "Training Loss: 0.0530, Testing Loss: 0.0533\n",
      "Epoch [135/250]\n"
     ]
    },
    {
     "name": "stderr",
     "output_type": "stream",
     "text": [
      "                                                           \r"
     ]
    },
    {
     "name": "stdout",
     "output_type": "stream",
     "text": [
      "Training Loss: 0.0530, Testing Loss: 0.0530\n",
      "Epoch [136/250]\n"
     ]
    },
    {
     "name": "stderr",
     "output_type": "stream",
     "text": [
      "                                                           \r"
     ]
    },
    {
     "name": "stdout",
     "output_type": "stream",
     "text": [
      "Training Loss: 0.0529, Testing Loss: 0.0535\n",
      "Epoch [137/250]\n"
     ]
    },
    {
     "name": "stderr",
     "output_type": "stream",
     "text": [
      "                                                           \r"
     ]
    },
    {
     "name": "stdout",
     "output_type": "stream",
     "text": [
      "Training Loss: 0.0526, Testing Loss: 0.0529\n",
      "Epoch [138/250]\n"
     ]
    },
    {
     "name": "stderr",
     "output_type": "stream",
     "text": [
      "                                                           \r"
     ]
    },
    {
     "name": "stdout",
     "output_type": "stream",
     "text": [
      "Training Loss: 0.0528, Testing Loss: 0.0529\n",
      "Epoch [139/250]\n"
     ]
    },
    {
     "name": "stderr",
     "output_type": "stream",
     "text": [
      "                                                           \r"
     ]
    },
    {
     "name": "stdout",
     "output_type": "stream",
     "text": [
      "Training Loss: 0.0528, Testing Loss: 0.0553\n",
      "Epoch [140/250]\n"
     ]
    },
    {
     "name": "stderr",
     "output_type": "stream",
     "text": [
      "                                                           \r"
     ]
    },
    {
     "name": "stdout",
     "output_type": "stream",
     "text": [
      "Training Loss: 0.0529, Testing Loss: 0.0526\n",
      "Epoch [141/250]\n"
     ]
    },
    {
     "name": "stderr",
     "output_type": "stream",
     "text": [
      "                                                           \r"
     ]
    },
    {
     "name": "stdout",
     "output_type": "stream",
     "text": [
      "Training Loss: 0.0525, Testing Loss: 0.0526\n",
      "Epoch [142/250]\n"
     ]
    },
    {
     "name": "stderr",
     "output_type": "stream",
     "text": [
      "                                                           \r"
     ]
    },
    {
     "name": "stdout",
     "output_type": "stream",
     "text": [
      "Training Loss: 0.0527, Testing Loss: 0.0526\n",
      "Epoch [143/250]\n"
     ]
    },
    {
     "name": "stderr",
     "output_type": "stream",
     "text": [
      "                                                           \r"
     ]
    },
    {
     "name": "stdout",
     "output_type": "stream",
     "text": [
      "Training Loss: 0.0524, Testing Loss: 0.0527\n",
      "Epoch [144/250]\n"
     ]
    },
    {
     "name": "stderr",
     "output_type": "stream",
     "text": [
      "                                                           \r"
     ]
    },
    {
     "name": "stdout",
     "output_type": "stream",
     "text": [
      "Training Loss: 0.0530, Testing Loss: 0.0532\n",
      "Epoch [145/250]\n"
     ]
    },
    {
     "name": "stderr",
     "output_type": "stream",
     "text": [
      "                                                           \r"
     ]
    },
    {
     "name": "stdout",
     "output_type": "stream",
     "text": [
      "Training Loss: 0.0527, Testing Loss: 0.0529\n",
      "Epoch [146/250]\n"
     ]
    },
    {
     "name": "stderr",
     "output_type": "stream",
     "text": [
      "                                                           \r"
     ]
    },
    {
     "name": "stdout",
     "output_type": "stream",
     "text": [
      "Training Loss: 0.0527, Testing Loss: 0.0531\n",
      "Epoch [147/250]\n"
     ]
    },
    {
     "name": "stderr",
     "output_type": "stream",
     "text": [
      "                                                           \r"
     ]
    },
    {
     "name": "stdout",
     "output_type": "stream",
     "text": [
      "Training Loss: 0.0526, Testing Loss: 0.0529\n",
      "Epoch [148/250]\n"
     ]
    },
    {
     "name": "stderr",
     "output_type": "stream",
     "text": [
      "                                                           \r"
     ]
    },
    {
     "name": "stdout",
     "output_type": "stream",
     "text": [
      "Training Loss: 0.0526, Testing Loss: 0.0529\n",
      "Epoch [149/250]\n"
     ]
    },
    {
     "name": "stderr",
     "output_type": "stream",
     "text": [
      "                                                           \r"
     ]
    },
    {
     "name": "stdout",
     "output_type": "stream",
     "text": [
      "Training Loss: 0.0525, Testing Loss: 0.0527\n",
      "Epoch [150/250]\n"
     ]
    },
    {
     "name": "stderr",
     "output_type": "stream",
     "text": [
      "                                                           \r"
     ]
    },
    {
     "name": "stdout",
     "output_type": "stream",
     "text": [
      "Training Loss: 0.0524, Testing Loss: 0.0525\n",
      "Epoch [151/250]\n"
     ]
    },
    {
     "name": "stderr",
     "output_type": "stream",
     "text": [
      "                                                           \r"
     ]
    },
    {
     "name": "stdout",
     "output_type": "stream",
     "text": [
      "Training Loss: 0.0521, Testing Loss: 0.0524\n",
      "Epoch [152/250]\n"
     ]
    },
    {
     "name": "stderr",
     "output_type": "stream",
     "text": [
      "                                                           \r"
     ]
    },
    {
     "name": "stdout",
     "output_type": "stream",
     "text": [
      "Training Loss: 0.0521, Testing Loss: 0.0523\n",
      "Epoch [153/250]\n"
     ]
    },
    {
     "name": "stderr",
     "output_type": "stream",
     "text": [
      "                                                           \r"
     ]
    },
    {
     "name": "stdout",
     "output_type": "stream",
     "text": [
      "Training Loss: 0.0521, Testing Loss: 0.0522\n",
      "Epoch [154/250]\n"
     ]
    },
    {
     "name": "stderr",
     "output_type": "stream",
     "text": [
      "                                                           \r"
     ]
    },
    {
     "name": "stdout",
     "output_type": "stream",
     "text": [
      "Training Loss: 0.0522, Testing Loss: 0.0525\n",
      "Epoch [155/250]\n"
     ]
    },
    {
     "name": "stderr",
     "output_type": "stream",
     "text": [
      "                                                           \r"
     ]
    },
    {
     "name": "stdout",
     "output_type": "stream",
     "text": [
      "Training Loss: 0.0521, Testing Loss: 0.0521\n",
      "Epoch [156/250]\n"
     ]
    },
    {
     "name": "stderr",
     "output_type": "stream",
     "text": [
      "                                                           \r"
     ]
    },
    {
     "name": "stdout",
     "output_type": "stream",
     "text": [
      "Training Loss: 0.0520, Testing Loss: 0.0522\n",
      "Epoch [157/250]\n"
     ]
    },
    {
     "name": "stderr",
     "output_type": "stream",
     "text": [
      "                                                           \r"
     ]
    },
    {
     "name": "stdout",
     "output_type": "stream",
     "text": [
      "Training Loss: 0.0521, Testing Loss: 0.0524\n",
      "Epoch [158/250]\n"
     ]
    },
    {
     "name": "stderr",
     "output_type": "stream",
     "text": [
      "                                                           \r"
     ]
    },
    {
     "name": "stdout",
     "output_type": "stream",
     "text": [
      "Training Loss: 0.0520, Testing Loss: 0.0524\n",
      "Epoch [159/250]\n"
     ]
    },
    {
     "name": "stderr",
     "output_type": "stream",
     "text": [
      "                                                           \r"
     ]
    },
    {
     "name": "stdout",
     "output_type": "stream",
     "text": [
      "Training Loss: 0.0522, Testing Loss: 0.0522\n",
      "Epoch [160/250]\n"
     ]
    },
    {
     "name": "stderr",
     "output_type": "stream",
     "text": [
      "                                                           \r"
     ]
    },
    {
     "name": "stdout",
     "output_type": "stream",
     "text": [
      "Training Loss: 0.0521, Testing Loss: 0.0525\n",
      "Epoch [161/250]\n"
     ]
    },
    {
     "name": "stderr",
     "output_type": "stream",
     "text": [
      "                                                           \r"
     ]
    },
    {
     "name": "stdout",
     "output_type": "stream",
     "text": [
      "Training Loss: 0.0521, Testing Loss: 0.0532\n",
      "Epoch [162/250]\n"
     ]
    },
    {
     "name": "stderr",
     "output_type": "stream",
     "text": [
      "                                                           \r"
     ]
    },
    {
     "name": "stdout",
     "output_type": "stream",
     "text": [
      "Training Loss: 0.0520, Testing Loss: 0.0521\n",
      "Epoch [163/250]\n"
     ]
    },
    {
     "name": "stderr",
     "output_type": "stream",
     "text": [
      "                                                           \r"
     ]
    },
    {
     "name": "stdout",
     "output_type": "stream",
     "text": [
      "Training Loss: 0.0517, Testing Loss: 0.0518\n",
      "Epoch [164/250]\n"
     ]
    },
    {
     "name": "stderr",
     "output_type": "stream",
     "text": [
      "                                                           \r"
     ]
    },
    {
     "name": "stdout",
     "output_type": "stream",
     "text": [
      "Training Loss: 0.0513, Testing Loss: 0.0515\n",
      "Epoch [165/250]\n"
     ]
    },
    {
     "name": "stderr",
     "output_type": "stream",
     "text": [
      "                                                           \r"
     ]
    },
    {
     "name": "stdout",
     "output_type": "stream",
     "text": [
      "Training Loss: 0.0511, Testing Loss: 0.0512\n",
      "Epoch [166/250]\n"
     ]
    },
    {
     "name": "stderr",
     "output_type": "stream",
     "text": [
      "                                                           \r"
     ]
    },
    {
     "name": "stdout",
     "output_type": "stream",
     "text": [
      "Training Loss: 0.0508, Testing Loss: 0.0509\n",
      "Epoch [167/250]\n"
     ]
    },
    {
     "name": "stderr",
     "output_type": "stream",
     "text": [
      "                                                           \r"
     ]
    },
    {
     "name": "stdout",
     "output_type": "stream",
     "text": [
      "Training Loss: 0.0505, Testing Loss: 0.0506\n",
      "Epoch [168/250]\n"
     ]
    },
    {
     "name": "stderr",
     "output_type": "stream",
     "text": [
      "                                                           \r"
     ]
    },
    {
     "name": "stdout",
     "output_type": "stream",
     "text": [
      "Training Loss: 0.0504, Testing Loss: 0.0505\n",
      "Epoch [169/250]\n"
     ]
    },
    {
     "name": "stderr",
     "output_type": "stream",
     "text": [
      "                                                           \r"
     ]
    },
    {
     "name": "stdout",
     "output_type": "stream",
     "text": [
      "Training Loss: 0.0505, Testing Loss: 0.0507\n",
      "Epoch [170/250]\n"
     ]
    },
    {
     "name": "stderr",
     "output_type": "stream",
     "text": [
      "                                                           \r"
     ]
    },
    {
     "name": "stdout",
     "output_type": "stream",
     "text": [
      "Training Loss: 0.0503, Testing Loss: 0.0507\n",
      "Epoch [171/250]\n"
     ]
    },
    {
     "name": "stderr",
     "output_type": "stream",
     "text": [
      "                                                           \r"
     ]
    },
    {
     "name": "stdout",
     "output_type": "stream",
     "text": [
      "Training Loss: 0.0502, Testing Loss: 0.0507\n",
      "Epoch [172/250]\n"
     ]
    },
    {
     "name": "stderr",
     "output_type": "stream",
     "text": [
      "                                                           \r"
     ]
    },
    {
     "name": "stdout",
     "output_type": "stream",
     "text": [
      "Training Loss: 0.0501, Testing Loss: 0.0502\n",
      "Epoch [173/250]\n"
     ]
    },
    {
     "name": "stderr",
     "output_type": "stream",
     "text": [
      "                                                           \r"
     ]
    },
    {
     "name": "stdout",
     "output_type": "stream",
     "text": [
      "Training Loss: 0.0499, Testing Loss: 0.0502\n",
      "Epoch [174/250]\n"
     ]
    },
    {
     "name": "stderr",
     "output_type": "stream",
     "text": [
      "                                                           \r"
     ]
    },
    {
     "name": "stdout",
     "output_type": "stream",
     "text": [
      "Training Loss: 0.0498, Testing Loss: 0.0501\n",
      "Epoch [175/250]\n"
     ]
    },
    {
     "name": "stderr",
     "output_type": "stream",
     "text": [
      "                                                           \r"
     ]
    },
    {
     "name": "stdout",
     "output_type": "stream",
     "text": [
      "Training Loss: 0.0497, Testing Loss: 0.0499\n",
      "Epoch [176/250]\n"
     ]
    },
    {
     "name": "stderr",
     "output_type": "stream",
     "text": [
      "                                                           \r"
     ]
    },
    {
     "name": "stdout",
     "output_type": "stream",
     "text": [
      "Training Loss: 0.0498, Testing Loss: 0.0498\n",
      "Epoch [177/250]\n"
     ]
    },
    {
     "name": "stderr",
     "output_type": "stream",
     "text": [
      "                                                           \r"
     ]
    },
    {
     "name": "stdout",
     "output_type": "stream",
     "text": [
      "Training Loss: 0.0497, Testing Loss: 0.0499\n",
      "Epoch [178/250]\n"
     ]
    },
    {
     "name": "stderr",
     "output_type": "stream",
     "text": [
      "                                                           \r"
     ]
    },
    {
     "name": "stdout",
     "output_type": "stream",
     "text": [
      "Training Loss: 0.0497, Testing Loss: 0.0500\n",
      "Epoch [179/250]\n"
     ]
    },
    {
     "name": "stderr",
     "output_type": "stream",
     "text": [
      "                                                           \r"
     ]
    },
    {
     "name": "stdout",
     "output_type": "stream",
     "text": [
      "Training Loss: 0.0496, Testing Loss: 0.0499\n",
      "Epoch [180/250]\n"
     ]
    },
    {
     "name": "stderr",
     "output_type": "stream",
     "text": [
      "                                                           \r"
     ]
    },
    {
     "name": "stdout",
     "output_type": "stream",
     "text": [
      "Training Loss: 0.0496, Testing Loss: 0.0498\n",
      "Epoch [181/250]\n"
     ]
    },
    {
     "name": "stderr",
     "output_type": "stream",
     "text": [
      "                                                           \r"
     ]
    },
    {
     "name": "stdout",
     "output_type": "stream",
     "text": [
      "Training Loss: 0.0496, Testing Loss: 0.0501\n",
      "Epoch [182/250]\n"
     ]
    },
    {
     "name": "stderr",
     "output_type": "stream",
     "text": [
      "                                                           \r"
     ]
    },
    {
     "name": "stdout",
     "output_type": "stream",
     "text": [
      "Training Loss: 0.0496, Testing Loss: 0.0498\n",
      "Epoch [183/250]\n"
     ]
    },
    {
     "name": "stderr",
     "output_type": "stream",
     "text": [
      "                                                           \r"
     ]
    },
    {
     "name": "stdout",
     "output_type": "stream",
     "text": [
      "Training Loss: 0.0497, Testing Loss: 0.0498\n",
      "Epoch [184/250]\n"
     ]
    },
    {
     "name": "stderr",
     "output_type": "stream",
     "text": [
      "                                                           \r"
     ]
    },
    {
     "name": "stdout",
     "output_type": "stream",
     "text": [
      "Training Loss: 0.0496, Testing Loss: 0.0496\n",
      "Epoch [185/250]\n"
     ]
    },
    {
     "name": "stderr",
     "output_type": "stream",
     "text": [
      "                                                           \r"
     ]
    },
    {
     "name": "stdout",
     "output_type": "stream",
     "text": [
      "Training Loss: 0.0496, Testing Loss: 0.0497\n",
      "Epoch [186/250]\n"
     ]
    },
    {
     "name": "stderr",
     "output_type": "stream",
     "text": [
      "                                                           \r"
     ]
    },
    {
     "name": "stdout",
     "output_type": "stream",
     "text": [
      "Training Loss: 0.0496, Testing Loss: 0.0496\n",
      "Epoch [187/250]\n"
     ]
    },
    {
     "name": "stderr",
     "output_type": "stream",
     "text": [
      "                                                           \r"
     ]
    },
    {
     "name": "stdout",
     "output_type": "stream",
     "text": [
      "Training Loss: 0.0496, Testing Loss: 0.0496\n",
      "Epoch [188/250]\n"
     ]
    },
    {
     "name": "stderr",
     "output_type": "stream",
     "text": [
      "                                                           \r"
     ]
    },
    {
     "name": "stdout",
     "output_type": "stream",
     "text": [
      "Training Loss: 0.0494, Testing Loss: 0.0497\n",
      "Epoch [189/250]\n"
     ]
    },
    {
     "name": "stderr",
     "output_type": "stream",
     "text": [
      "                                                           \r"
     ]
    },
    {
     "name": "stdout",
     "output_type": "stream",
     "text": [
      "Training Loss: 0.0493, Testing Loss: 0.0495\n",
      "Epoch [190/250]\n"
     ]
    },
    {
     "name": "stderr",
     "output_type": "stream",
     "text": [
      "                                                           \r"
     ]
    },
    {
     "name": "stdout",
     "output_type": "stream",
     "text": [
      "Training Loss: 0.0492, Testing Loss: 0.0497\n",
      "Epoch [191/250]\n"
     ]
    },
    {
     "name": "stderr",
     "output_type": "stream",
     "text": [
      "                                                           \r"
     ]
    },
    {
     "name": "stdout",
     "output_type": "stream",
     "text": [
      "Training Loss: 0.0491, Testing Loss: 0.0500\n",
      "Epoch [192/250]\n"
     ]
    },
    {
     "name": "stderr",
     "output_type": "stream",
     "text": [
      "                                                           \r"
     ]
    },
    {
     "name": "stdout",
     "output_type": "stream",
     "text": [
      "Training Loss: 0.0492, Testing Loss: 0.0497\n",
      "Epoch [193/250]\n"
     ]
    },
    {
     "name": "stderr",
     "output_type": "stream",
     "text": [
      "                                                           \r"
     ]
    },
    {
     "name": "stdout",
     "output_type": "stream",
     "text": [
      "Training Loss: 0.0489, Testing Loss: 0.0490\n",
      "Epoch [194/250]\n"
     ]
    },
    {
     "name": "stderr",
     "output_type": "stream",
     "text": [
      "                                                           \r"
     ]
    },
    {
     "name": "stdout",
     "output_type": "stream",
     "text": [
      "Training Loss: 0.0490, Testing Loss: 0.0490\n",
      "Epoch [195/250]\n"
     ]
    },
    {
     "name": "stderr",
     "output_type": "stream",
     "text": [
      "                                                           \r"
     ]
    },
    {
     "name": "stdout",
     "output_type": "stream",
     "text": [
      "Training Loss: 0.0489, Testing Loss: 0.0492\n",
      "Epoch [196/250]\n"
     ]
    },
    {
     "name": "stderr",
     "output_type": "stream",
     "text": [
      "                                                           \r"
     ]
    },
    {
     "name": "stdout",
     "output_type": "stream",
     "text": [
      "Training Loss: 0.0488, Testing Loss: 0.0491\n",
      "Epoch [197/250]\n"
     ]
    },
    {
     "name": "stderr",
     "output_type": "stream",
     "text": [
      "                                                           \r"
     ]
    },
    {
     "name": "stdout",
     "output_type": "stream",
     "text": [
      "Training Loss: 0.0489, Testing Loss: 0.0491\n",
      "Epoch [198/250]\n"
     ]
    },
    {
     "name": "stderr",
     "output_type": "stream",
     "text": [
      "                                                           \r"
     ]
    },
    {
     "name": "stdout",
     "output_type": "stream",
     "text": [
      "Training Loss: 0.0490, Testing Loss: 0.0495\n",
      "Epoch [199/250]\n"
     ]
    },
    {
     "name": "stderr",
     "output_type": "stream",
     "text": [
      "                                                           \r"
     ]
    },
    {
     "name": "stdout",
     "output_type": "stream",
     "text": [
      "Training Loss: 0.0492, Testing Loss: 0.0493\n",
      "Epoch [200/250]\n"
     ]
    },
    {
     "name": "stderr",
     "output_type": "stream",
     "text": [
      "                                                           \r"
     ]
    },
    {
     "name": "stdout",
     "output_type": "stream",
     "text": [
      "Training Loss: 0.0489, Testing Loss: 0.0490\n",
      "Epoch [201/250]\n"
     ]
    },
    {
     "name": "stderr",
     "output_type": "stream",
     "text": [
      "                                                           \r"
     ]
    },
    {
     "name": "stdout",
     "output_type": "stream",
     "text": [
      "Training Loss: 0.0488, Testing Loss: 0.0508\n",
      "Epoch [202/250]\n"
     ]
    },
    {
     "name": "stderr",
     "output_type": "stream",
     "text": [
      "                                                           \r"
     ]
    },
    {
     "name": "stdout",
     "output_type": "stream",
     "text": [
      "Training Loss: 0.0489, Testing Loss: 0.0491\n",
      "Epoch [203/250]\n"
     ]
    },
    {
     "name": "stderr",
     "output_type": "stream",
     "text": [
      "                                                           \r"
     ]
    },
    {
     "name": "stdout",
     "output_type": "stream",
     "text": [
      "Training Loss: 0.0486, Testing Loss: 0.0488\n",
      "Epoch [204/250]\n"
     ]
    },
    {
     "name": "stderr",
     "output_type": "stream",
     "text": [
      "                                                           \r"
     ]
    },
    {
     "name": "stdout",
     "output_type": "stream",
     "text": [
      "Training Loss: 0.0491, Testing Loss: 0.0487\n",
      "Epoch [205/250]\n"
     ]
    },
    {
     "name": "stderr",
     "output_type": "stream",
     "text": [
      "                                                           \r"
     ]
    },
    {
     "name": "stdout",
     "output_type": "stream",
     "text": [
      "Training Loss: 0.0485, Testing Loss: 0.0485\n",
      "Epoch [206/250]\n"
     ]
    },
    {
     "name": "stderr",
     "output_type": "stream",
     "text": [
      "                                                           \r"
     ]
    },
    {
     "name": "stdout",
     "output_type": "stream",
     "text": [
      "Training Loss: 0.0484, Testing Loss: 0.0487\n",
      "Epoch [207/250]\n"
     ]
    },
    {
     "name": "stderr",
     "output_type": "stream",
     "text": [
      "                                                           \r"
     ]
    },
    {
     "name": "stdout",
     "output_type": "stream",
     "text": [
      "Training Loss: 0.0486, Testing Loss: 0.0492\n",
      "Epoch [208/250]\n"
     ]
    },
    {
     "name": "stderr",
     "output_type": "stream",
     "text": [
      "                                                           \r"
     ]
    },
    {
     "name": "stdout",
     "output_type": "stream",
     "text": [
      "Training Loss: 0.0490, Testing Loss: 0.0493\n",
      "Epoch [209/250]\n"
     ]
    },
    {
     "name": "stderr",
     "output_type": "stream",
     "text": [
      "                                                           \r"
     ]
    },
    {
     "name": "stdout",
     "output_type": "stream",
     "text": [
      "Training Loss: 0.0488, Testing Loss: 0.0488\n",
      "Epoch [210/250]\n"
     ]
    },
    {
     "name": "stderr",
     "output_type": "stream",
     "text": [
      "                                                           \r"
     ]
    },
    {
     "name": "stdout",
     "output_type": "stream",
     "text": [
      "Training Loss: 0.0486, Testing Loss: 0.0494\n",
      "Epoch [211/250]\n"
     ]
    },
    {
     "name": "stderr",
     "output_type": "stream",
     "text": [
      "                                                           \r"
     ]
    },
    {
     "name": "stdout",
     "output_type": "stream",
     "text": [
      "Training Loss: 0.0487, Testing Loss: 0.0489\n",
      "Epoch [212/250]\n"
     ]
    },
    {
     "name": "stderr",
     "output_type": "stream",
     "text": [
      "                                                           \r"
     ]
    },
    {
     "name": "stdout",
     "output_type": "stream",
     "text": [
      "Training Loss: 0.0486, Testing Loss: 0.0487\n",
      "Epoch [213/250]\n"
     ]
    },
    {
     "name": "stderr",
     "output_type": "stream",
     "text": [
      "                                                           \r"
     ]
    },
    {
     "name": "stdout",
     "output_type": "stream",
     "text": [
      "Training Loss: 0.0484, Testing Loss: 0.0488\n",
      "Epoch [214/250]\n"
     ]
    },
    {
     "name": "stderr",
     "output_type": "stream",
     "text": [
      "                                                           \r"
     ]
    },
    {
     "name": "stdout",
     "output_type": "stream",
     "text": [
      "Training Loss: 0.0487, Testing Loss: 0.0488\n",
      "Epoch [215/250]\n"
     ]
    },
    {
     "name": "stderr",
     "output_type": "stream",
     "text": [
      "                                                           \r"
     ]
    },
    {
     "name": "stdout",
     "output_type": "stream",
     "text": [
      "Training Loss: 0.0486, Testing Loss: 0.0487\n",
      "Epoch [216/250]\n"
     ]
    },
    {
     "name": "stderr",
     "output_type": "stream",
     "text": [
      "                                                           \r"
     ]
    },
    {
     "name": "stdout",
     "output_type": "stream",
     "text": [
      "Training Loss: 0.0486, Testing Loss: 0.0489\n",
      "Epoch [217/250]\n"
     ]
    },
    {
     "name": "stderr",
     "output_type": "stream",
     "text": [
      "                                                           \r"
     ]
    },
    {
     "name": "stdout",
     "output_type": "stream",
     "text": [
      "Training Loss: 0.0487, Testing Loss: 0.0492\n",
      "Epoch [218/250]\n"
     ]
    },
    {
     "name": "stderr",
     "output_type": "stream",
     "text": [
      "                                                           \r"
     ]
    },
    {
     "name": "stdout",
     "output_type": "stream",
     "text": [
      "Training Loss: 0.0486, Testing Loss: 0.0486\n",
      "Epoch [219/250]\n"
     ]
    },
    {
     "name": "stderr",
     "output_type": "stream",
     "text": [
      "                                                           \r"
     ]
    },
    {
     "name": "stdout",
     "output_type": "stream",
     "text": [
      "Training Loss: 0.0486, Testing Loss: 0.0489\n",
      "Epoch [220/250]\n"
     ]
    },
    {
     "name": "stderr",
     "output_type": "stream",
     "text": [
      "                                                           \r"
     ]
    },
    {
     "name": "stdout",
     "output_type": "stream",
     "text": [
      "Training Loss: 0.0485, Testing Loss: 0.0487\n",
      "Epoch [221/250]\n"
     ]
    },
    {
     "name": "stderr",
     "output_type": "stream",
     "text": [
      "                                                           \r"
     ]
    },
    {
     "name": "stdout",
     "output_type": "stream",
     "text": [
      "Training Loss: 0.0485, Testing Loss: 0.0487\n",
      "Epoch [222/250]\n"
     ]
    },
    {
     "name": "stderr",
     "output_type": "stream",
     "text": [
      "                                                           \r"
     ]
    },
    {
     "name": "stdout",
     "output_type": "stream",
     "text": [
      "Training Loss: 0.0484, Testing Loss: 0.0485\n",
      "Epoch [223/250]\n"
     ]
    },
    {
     "name": "stderr",
     "output_type": "stream",
     "text": [
      "                                                           \r"
     ]
    },
    {
     "name": "stdout",
     "output_type": "stream",
     "text": [
      "Training Loss: 0.0484, Testing Loss: 0.0495\n",
      "Epoch [224/250]\n"
     ]
    },
    {
     "name": "stderr",
     "output_type": "stream",
     "text": [
      "                                                           \r"
     ]
    },
    {
     "name": "stdout",
     "output_type": "stream",
     "text": [
      "Training Loss: 0.0485, Testing Loss: 0.0492\n",
      "Epoch [225/250]\n"
     ]
    },
    {
     "name": "stderr",
     "output_type": "stream",
     "text": [
      "                                                           \r"
     ]
    },
    {
     "name": "stdout",
     "output_type": "stream",
     "text": [
      "Training Loss: 0.0485, Testing Loss: 0.0486\n",
      "Epoch [226/250]\n"
     ]
    },
    {
     "name": "stderr",
     "output_type": "stream",
     "text": [
      "                                                           \r"
     ]
    },
    {
     "name": "stdout",
     "output_type": "stream",
     "text": [
      "Training Loss: 0.0486, Testing Loss: 0.0489\n",
      "Epoch [227/250]\n"
     ]
    },
    {
     "name": "stderr",
     "output_type": "stream",
     "text": [
      "                                                           \r"
     ]
    },
    {
     "name": "stdout",
     "output_type": "stream",
     "text": [
      "Training Loss: 0.0487, Testing Loss: 0.0489\n",
      "Epoch [228/250]\n"
     ]
    },
    {
     "name": "stderr",
     "output_type": "stream",
     "text": [
      "                                                           \r"
     ]
    },
    {
     "name": "stdout",
     "output_type": "stream",
     "text": [
      "Training Loss: 0.0486, Testing Loss: 0.0487\n",
      "Epoch [229/250]\n"
     ]
    },
    {
     "name": "stderr",
     "output_type": "stream",
     "text": [
      "                                                           \r"
     ]
    },
    {
     "name": "stdout",
     "output_type": "stream",
     "text": [
      "Training Loss: 0.0484, Testing Loss: 0.0485\n",
      "Epoch [230/250]\n"
     ]
    },
    {
     "name": "stderr",
     "output_type": "stream",
     "text": [
      "                                                           \r"
     ]
    },
    {
     "name": "stdout",
     "output_type": "stream",
     "text": [
      "Training Loss: 0.0484, Testing Loss: 0.0482\n",
      "Epoch [231/250]\n"
     ]
    },
    {
     "name": "stderr",
     "output_type": "stream",
     "text": [
      "                                                           \r"
     ]
    },
    {
     "name": "stdout",
     "output_type": "stream",
     "text": [
      "Training Loss: 0.0481, Testing Loss: 0.0482\n",
      "Epoch [232/250]\n"
     ]
    },
    {
     "name": "stderr",
     "output_type": "stream",
     "text": [
      "                                                           \r"
     ]
    },
    {
     "name": "stdout",
     "output_type": "stream",
     "text": [
      "Training Loss: 0.0481, Testing Loss: 0.0486\n",
      "Epoch [233/250]\n"
     ]
    },
    {
     "name": "stderr",
     "output_type": "stream",
     "text": [
      "                                                           \r"
     ]
    },
    {
     "name": "stdout",
     "output_type": "stream",
     "text": [
      "Training Loss: 0.0481, Testing Loss: 0.0484\n",
      "Epoch [234/250]\n"
     ]
    },
    {
     "name": "stderr",
     "output_type": "stream",
     "text": [
      "                                                           \r"
     ]
    },
    {
     "name": "stdout",
     "output_type": "stream",
     "text": [
      "Training Loss: 0.0481, Testing Loss: 0.0482\n",
      "Epoch [235/250]\n"
     ]
    },
    {
     "name": "stderr",
     "output_type": "stream",
     "text": [
      "                                                           \r"
     ]
    },
    {
     "name": "stdout",
     "output_type": "stream",
     "text": [
      "Training Loss: 0.0479, Testing Loss: 0.0484\n",
      "Epoch [236/250]\n"
     ]
    },
    {
     "name": "stderr",
     "output_type": "stream",
     "text": [
      "                                                           \r"
     ]
    },
    {
     "name": "stdout",
     "output_type": "stream",
     "text": [
      "Training Loss: 0.0480, Testing Loss: 0.0482\n",
      "Epoch [237/250]\n"
     ]
    },
    {
     "name": "stderr",
     "output_type": "stream",
     "text": [
      "                                                           \r"
     ]
    },
    {
     "name": "stdout",
     "output_type": "stream",
     "text": [
      "Training Loss: 0.0480, Testing Loss: 0.0481\n",
      "Epoch [238/250]\n"
     ]
    },
    {
     "name": "stderr",
     "output_type": "stream",
     "text": [
      "                                                           \r"
     ]
    },
    {
     "name": "stdout",
     "output_type": "stream",
     "text": [
      "Training Loss: 0.0477, Testing Loss: 0.0478\n",
      "Epoch [239/250]\n"
     ]
    },
    {
     "name": "stderr",
     "output_type": "stream",
     "text": [
      "                                                           \r"
     ]
    },
    {
     "name": "stdout",
     "output_type": "stream",
     "text": [
      "Training Loss: 0.0477, Testing Loss: 0.0496\n",
      "Epoch [240/250]\n"
     ]
    },
    {
     "name": "stderr",
     "output_type": "stream",
     "text": [
      "                                                           \r"
     ]
    },
    {
     "name": "stdout",
     "output_type": "stream",
     "text": [
      "Training Loss: 0.0477, Testing Loss: 0.0479\n",
      "Epoch [241/250]\n"
     ]
    },
    {
     "name": "stderr",
     "output_type": "stream",
     "text": [
      "                                                           \r"
     ]
    },
    {
     "name": "stdout",
     "output_type": "stream",
     "text": [
      "Training Loss: 0.0477, Testing Loss: 0.0481\n",
      "Epoch [242/250]\n"
     ]
    },
    {
     "name": "stderr",
     "output_type": "stream",
     "text": [
      "                                                           \r"
     ]
    },
    {
     "name": "stdout",
     "output_type": "stream",
     "text": [
      "Training Loss: 0.0477, Testing Loss: 0.0478\n",
      "Epoch [243/250]\n"
     ]
    },
    {
     "name": "stderr",
     "output_type": "stream",
     "text": [
      "                                                           \r"
     ]
    },
    {
     "name": "stdout",
     "output_type": "stream",
     "text": [
      "Training Loss: 0.0476, Testing Loss: 0.0478\n",
      "Epoch [244/250]\n"
     ]
    },
    {
     "name": "stderr",
     "output_type": "stream",
     "text": [
      "                                                           \r"
     ]
    },
    {
     "name": "stdout",
     "output_type": "stream",
     "text": [
      "Training Loss: 0.0477, Testing Loss: 0.0477\n",
      "Epoch [245/250]\n"
     ]
    },
    {
     "name": "stderr",
     "output_type": "stream",
     "text": [
      "                                                           \r"
     ]
    },
    {
     "name": "stdout",
     "output_type": "stream",
     "text": [
      "Training Loss: 0.0476, Testing Loss: 0.0476\n",
      "Epoch [246/250]\n"
     ]
    },
    {
     "name": "stderr",
     "output_type": "stream",
     "text": [
      "                                                           \r"
     ]
    },
    {
     "name": "stdout",
     "output_type": "stream",
     "text": [
      "Training Loss: 0.0475, Testing Loss: 0.0478\n",
      "Epoch [247/250]\n"
     ]
    },
    {
     "name": "stderr",
     "output_type": "stream",
     "text": [
      "                                                           \r"
     ]
    },
    {
     "name": "stdout",
     "output_type": "stream",
     "text": [
      "Training Loss: 0.0475, Testing Loss: 0.0476\n",
      "Epoch [248/250]\n"
     ]
    },
    {
     "name": "stderr",
     "output_type": "stream",
     "text": [
      "                                                           \r"
     ]
    },
    {
     "name": "stdout",
     "output_type": "stream",
     "text": [
      "Training Loss: 0.0474, Testing Loss: 0.0475\n",
      "Epoch [249/250]\n"
     ]
    },
    {
     "name": "stderr",
     "output_type": "stream",
     "text": [
      "                                                           \r"
     ]
    },
    {
     "name": "stdout",
     "output_type": "stream",
     "text": [
      "Training Loss: 0.0473, Testing Loss: 0.0475\n",
      "Epoch [250/250]\n"
     ]
    },
    {
     "name": "stderr",
     "output_type": "stream",
     "text": [
      "                                                           \r"
     ]
    },
    {
     "name": "stdout",
     "output_type": "stream",
     "text": [
      "Training Loss: 0.0472, Testing Loss: 0.0473\n"
     ]
    },
    {
     "data": {
      "image/png": "[encoded data removed]",
      "text/plain": [
       "<Figure size 1000x500 with 1 Axes>"
      ]
     },
     "metadata": {},
     "output_type": "display_data"
    }
   ],
   "source": [
    "import torch\n",
    "import torch.nn as nn\n",
    "import torch.optim as optim\n",
    "from torch.utils.data import DataLoader, Dataset, random_split\n",
    "import matplotlib.pyplot as plt\n",
    "from tqdm import tqdm\n",
    "\n",
    "# Define the Sudoku dataset class\n",
    "class SudokuDataset(Dataset):\n",
    "    def __init__(self, puzzles, solutions):\n",
    "        self.puzzles = puzzles\n",
    "        self.solutions = solutions\n",
    "\n",
    "    def __len__(self):\n",
    "        return len(self.puzzles)\n",
    "\n",
    "    def __getitem__(self, idx):\n",
    "        puzzle = self.puzzles[idx]\n",
    "        solution = self.solutions[idx]\n",
    "        return puzzle, solution\n",
    "\n",
    "# Load the dataset from the .pt file\n",
    "dataset_path = 'SudokuData/sudoku_dataset.pt'\n",
    "sudoku_data = torch.load(dataset_path)\n",
    "\n",
    "# Extract puzzles and solutions from the dataset\n",
    "puzzles = sudoku_data['puzzles']\n",
    "solutions = sudoku_data['solutions']\n",
    "\n",
    "# Create the dataset and split into training and testing sets (80% training, 20% testing)\n",
    "dataset = SudokuDataset(puzzles, solutions)\n",
    "train_size = int(0.8 * len(dataset))\n",
    "test_size = len(dataset) - train_size\n",
    "train_dataset, test_dataset = random_split(dataset, [train_size, test_size])\n",
    "\n",
    "train_loader = DataLoader(train_dataset, batch_size=1000, shuffle=True)\n",
    "test_loader = DataLoader(test_dataset, batch_size=1000, shuffle=False)\n",
    "\n",
    "# Define a simple fully connected neural network\n",
    "class SimpleSudokuNet(nn.Module):\n",
    "    def __init__(self):\n",
    "        super(SimpleSudokuNet, self).__init__()\n",
    "        # Input is 81 (9x9), output is 81 (solved 9x9)\n",
    "        self.fc1 = nn.Linear(81, 128)  # Fully connected layer with 128 units\n",
    "        self.fc2 = nn.Linear(128, 128)  # Hidden layer with 64 units\n",
    "        self.fc3 = nn.Linear(128, 256)\n",
    "        self.fc4 = nn.Linear(256, 512)\n",
    "        self.fc5 = nn.Linear(512, 1024)\n",
    "        self.fc6 = nn.Linear(1024, 1024)\n",
    "        self.fc7 = nn.Linear(1024, 512)\n",
    "        self.fc8 = nn.Linear(512, 256)\n",
    "        self.fc9 = nn.Linear(256, 128)\n",
    "        self.fc10 = nn.Linear(128, 81)   # Output layer with 81 units (9x9)\n",
    "        self.relu = nn.ReLU()          # Activation function\n",
    "\n",
    "    def forward(self, x):\n",
    "        x = x.view(-1, 81)  # Flatten the 9x9 puzzle into 81 elements\n",
    "        x = self.relu(self.fc1(x))  # First layer with ReLU\n",
    "        x = self.relu(self.fc2(x))  # Second layer with ReLU\n",
    "        x = self.relu(self.fc3(x))             # Output layer (no activation for regression)\n",
    "        x = self.relu(self.fc4(x))  \n",
    "        x = self.relu(self.fc5(x)) \n",
    "        x = self.relu(self.fc6(x)) \n",
    "        x = self.relu(self.fc7(x)) \n",
    "        x = self.relu(self.fc8(x))\n",
    "        x = self.relu(self.fc9(x))  \n",
    "        x = self.fc10(x)\n",
    "        return x.view(-1, 9, 9)     # Reshape output to 9x9 grid\n",
    "\n",
    "# Check if CUDA is available, and use it if it is\n",
    "device = torch.device('cuda' if torch.cuda.is_available() else 'cpu')\n",
    "print(f\"Using device: {device}\")\n",
    "\n",
    "# Instantiate the model, move it to the GPU if available\n",
    "model = SimpleSudokuNet().to(device)\n",
    "criterion = nn.MSELoss()  # Mean Squared Error Loss for regression\n",
    "optimizer = optim.Adam(model.parameters(), lr=0.001)\n",
    "\n",
    "# Lists to track the loss for plotting\n",
    "train_losses = []\n",
    "test_losses = []\n",
    "\n",
    "# Training and Testing loop with loading bar and loss visualization\n",
    "num_epochs = 250\n",
    "for epoch in range(num_epochs):\n",
    "    print(f'Epoch [{epoch+1}/{num_epochs}]')\n",
    "\n",
    "    # Training Phase\n",
    "    model.train()  # Set the model to training mode\n",
    "    train_loss = 0.0\n",
    "    for batch_puzzles, batch_solutions in tqdm(train_loader, desc=\"Training\", leave=False):\n",
    "        # Move data to the device (GPU if available)\n",
    "        batch_puzzles = batch_puzzles.view(-1, 81).float().to(device) / 9\n",
    "        batch_solutions = batch_solutions.view(-1, 81).float().to(device) / 9\n",
    "        \n",
    "        # Forward pass through the model\n",
    "        outputs = model(batch_puzzles)\n",
    "        loss = criterion(outputs, batch_solutions.view(-1, 9, 9))\n",
    "        \n",
    "        # Backward pass and optimization\n",
    "        optimizer.zero_grad()\n",
    "        loss.backward()\n",
    "        optimizer.step()\n",
    "\n",
    "        train_loss += loss.item() * batch_puzzles.size(0)  # Accumulate loss\n",
    "\n",
    "    # Average train loss for the epoch\n",
    "    train_loss /= len(train_loader.dataset)\n",
    "    train_losses.append(train_loss)\n",
    "\n",
    "    # Testing Phase\n",
    "    model.eval()  # Set the model to evaluation mode\n",
    "    test_loss = 0.0\n",
    "    with torch.no_grad():  # No need to track gradients during testing\n",
    "        for batch_puzzles, batch_solutions in tqdm(test_loader, desc=\"Testing\", leave=False):\n",
    "            batch_puzzles = batch_puzzles.view(-1, 81).float().to(device) / 9\n",
    "            batch_solutions = batch_solutions.view(-1, 81).float().to(device) / 9\n",
    "\n",
    "            # Forward pass\n",
    "            outputs = model(batch_puzzles)\n",
    "            loss = criterion(outputs, batch_solutions.view(-1, 9, 9))\n",
    "\n",
    "            test_loss += loss.item() * batch_puzzles.size(0)  # Accumulate test loss\n",
    "\n",
    "    # Average test loss for the epoch\n",
    "    test_loss /= len(test_loader.dataset)\n",
    "    test_losses.append(test_loss)\n",
    "\n",
    "    # Print losses for the epoch\n",
    "    print(f'Training Loss: {train_loss:.4f}, Testing Loss: {test_loss:.4f}')\n",
    "\n",
    "# Plot the loss curves for training and testing\n",
    "plt.figure(figsize=(10,5))\n",
    "plt.plot(train_losses, label='Training Loss', color='blue')\n",
    "plt.plot(test_losses, label='Testing Loss', color='red')\n",
    "plt.xlabel('Epochs')\n",
    "plt.ylabel('Loss')\n",
    "plt.title('Training and Testing Loss Over Time')\n",
    "plt.legend()\n",
    "plt.grid(True)\n",
    "plt.show()\n"
   ]
  },
  {
   "cell_type": "markdown",
   "metadata": {},
   "source": [
    "The increase of complexity of normal linear network bring me to maximall accuracy of 40% so it is not what i am trying to achive here \n",
    "\n"
   ]
  },
  {
   "cell_type": "code",
   "execution_count": 5,
   "metadata": {},
   "outputs": [
    {
     "name": "stdout",
     "output_type": "stream",
     "text": [
      "Test Accuracy on 10000 samples: 43.47%\n"
     ]
    }
   ],
   "source": [
    "import torch\n",
    "import torch.nn as nn\n",
    "from torch.utils.data import DataLoader\n",
    "\n",
    "# Function to test the model on n samples from the test dataset, utilizing GPU if available\n",
    "def test_model(model, test_loader, n, device):\n",
    "    model.eval()  # Set model to evaluation mode\n",
    "    model.to(device)  # Move the model to the device (GPU or CPU)\n",
    "    \n",
    "    total_correct = 0\n",
    "    total_cells = 0\n",
    "\n",
    "    with torch.no_grad():  # No need to compute gradients during testing\n",
    "        for i, (puzzles, solutions) in enumerate(test_loader):\n",
    "            if i * puzzles.size(0) >= n:\n",
    "                break  # Stop when we've tested n samples\n",
    "\n",
    "            # Move puzzles and solutions to the device (GPU or CPU)\n",
    "            puzzles = puzzles.view(-1, 81).float().to(device) / 9  # Normalized between 0 and 1\n",
    "            solutions = solutions.view(-1, 81).float().to(device)  # Original solutions\n",
    "\n",
    "            # Forward pass\n",
    "            outputs = model(puzzles)  # Model prediction\n",
    "            outputs = outputs.view(-1, 81)  # Flatten output to (batch_size, 81)\n",
    "\n",
    "            # De-normalize and round predictions\n",
    "            predicted = torch.round(outputs * 9).clamp(0, 9)  # Round and clip between 0-9\n",
    "            true_values = solutions.view(-1, 81)  # Flatten true solutions\n",
    "\n",
    "            # Calculate number of correct guesses (element-wise comparison)\n",
    "            correct = (predicted == true_values).sum().item()  # Count correct guesses\n",
    "            total_correct += correct\n",
    "            total_cells += predicted.numel()  # Total number of cells processed\n",
    "\n",
    "    # Calculate accuracy as a percentage of correct guesses\n",
    "    accuracy = (total_correct / total_cells) * 100\n",
    "    print(f\"Test Accuracy on {n} samples: {accuracy:.2f}%\")\n",
    "    return accuracy\n",
    "\n",
    "# Example usage of the test_model function\n",
    "# Set the number of samples to test (n)\n",
    "n_samples_to_test = 10000  # Adjust this as needed\n",
    "\n",
    "# Check if a GPU is available and set the device accordingly\n",
    "device = torch.device(\"cuda\" if torch.cuda.is_available() else \"cpu\")\n",
    "\n",
    "# Load the dataset (replace with actual DataLoader object)\n",
    "test_loader = DataLoader(test_dataset, batch_size=10000, shuffle=False)\n",
    "\n",
    "# Assuming your model is already trained, now test it\n",
    "test_accuracy = test_model(model, test_loader, n_samples_to_test, device)\n"
   ]
  },
  {
   "cell_type": "markdown",
   "metadata": {},
   "source": [
    "Even with increasing the complexity of the model the best accuracy is about 40% , and the cnn would work way better on data type like this "
   ]
  },
  {
   "cell_type": "code",
   "execution_count": 15,
   "metadata": {},
   "outputs": [
    {
     "name": "stdout",
     "output_type": "stream",
     "text": [
      "Using device: cuda\n",
      "Epoch [1/3]\n"
     ]
    },
    {
     "name": "stderr",
     "output_type": "stream",
     "text": [
      "                                                           \r"
     ]
    },
    {
     "name": "stdout",
     "output_type": "stream",
     "text": [
      "Training Loss: 0.0351, Testing Loss: 0.0218\n",
      "Epoch [2/3]\n"
     ]
    },
    {
     "name": "stderr",
     "output_type": "stream",
     "text": [
      "                                                           \r"
     ]
    },
    {
     "name": "stdout",
     "output_type": "stream",
     "text": [
      "Training Loss: 0.0211, Testing Loss: 0.0207\n",
      "Epoch [3/3]\n"
     ]
    },
    {
     "name": "stderr",
     "output_type": "stream",
     "text": [
      "                                                           \r"
     ]
    },
    {
     "name": "stdout",
     "output_type": "stream",
     "text": [
      "Training Loss: 0.0206, Testing Loss: 0.0205\n"
     ]
    },
    {
     "data": {
      "image/png": "[encoded data removed]",
      "text/plain": [
       "<Figure size 1000x500 with 1 Axes>"
      ]
     },
     "metadata": {},
     "output_type": "display_data"
    }
   ],
   "source": [
    "import torch\n",
    "import torch.nn as nn\n",
    "import torch.optim as optim\n",
    "from torch.utils.data import DataLoader, Dataset, random_split\n",
    "import matplotlib.pyplot as plt\n",
    "from tqdm import tqdm\n",
    "\n",
    "# Define the Sudoku dataset class\n",
    "class SudokuDataset(Dataset):\n",
    "    def __init__(self, puzzles, solutions):\n",
    "        self.puzzles = puzzles\n",
    "        self.solutions = solutions\n",
    "\n",
    "    def __len__(self):\n",
    "        return len(self.puzzles)\n",
    "\n",
    "    def __getitem__(self, idx):\n",
    "        puzzle = self.puzzles[idx]\n",
    "        solution = self.solutions[idx]\n",
    "        return puzzle, solution\n",
    "\n",
    "# Load the dataset from the .pt file\n",
    "dataset_path = 'SudokuData/sudoku_dataset.pt'\n",
    "sudoku_data = torch.load(dataset_path)\n",
    "\n",
    "# Extract puzzles and solutions from the dataset\n",
    "puzzles = sudoku_data['puzzles']\n",
    "solutions = sudoku_data['solutions']\n",
    "\n",
    "# Create the dataset and split into training and testing sets (80% training, 20% testing)\n",
    "dataset = SudokuDataset(puzzles, solutions)\n",
    "train_size = int(0.8 * len(dataset))\n",
    "test_size = len(dataset) - train_size\n",
    "train_dataset, test_dataset = random_split(dataset, [train_size, test_size])\n",
    "\n",
    "\n",
    "batch_size = 1000\n",
    "\n",
    "train_loader = DataLoader(train_dataset, batch_size=batch_size, shuffle=True)\n",
    "test_loader = DataLoader(test_dataset, batch_size=batch_size, shuffle=True)\n",
    "\n",
    "# Define a Convolutional Neural Network for solving Sudoku\n",
    "class SudokuCNN(nn.Module):\n",
    "    def __init__(self):\n",
    "        super(SudokuCNN, self).__init__()\n",
    "        # Input: (batch_size, 1, 9, 9), 1 channel for the 9x9 Sudoku puzzle\n",
    "        \n",
    "        # Convolutional layers\n",
    "        n = 1\n",
    "        self.conv1 = nn.Conv2d(1, 64*n, kernel_size=3, padding=1)  # Output: (batch_size, 32, 9, 9)\n",
    "        self.conv2 = nn.Conv2d(64*n, 128*n, kernel_size=3, padding=1)  # Output: (batch_size, 64, 9, 9)\n",
    "        self.conv3 = nn.Conv2d(128*n, 256*n, kernel_size=3, padding=1)  # Output: (batch_size, 128, 9, 9)\n",
    "        self.conv4 = nn.Conv2d(256*n,512*n , kernel_size=3 ,padding=1)\n",
    "       \n",
    "        #self.dropout = nn.Dropout2d(0.08)\n",
    "        \n",
    "        # Fully connected layer to map to final 9x9 output\n",
    "        self.fc1 = nn.Linear(512*n * 9 * 9, 81)  # Output: 81 (9x9 grid)\n",
    "        \n",
    "        self.relu = nn.ReLU()  # Activation function\n",
    "\n",
    "    def forward(self, x):\n",
    "        # Input: x of shape (batch_size, 1, 9, 9)\n",
    "        x = self.relu(self.conv1(x))  # First convolution + ReLU\n",
    "        x = self.relu(self.conv2(x))  # Second convolution + ReLU\n",
    "        x = self.relu(self.conv3(x))  # Third convolution + ReLU\n",
    "        x = self.relu(self.conv4(x))\n",
    "       \n",
    "        \n",
    "        # Flatten the tensor before passing it to the fully connected layer\n",
    "        x = x.view(x.size(0), -1)  # Flatten the output to (batch_size, 128 * 9 * 9)\n",
    "        \n",
    "        # Fully connected layer to predict the solved Sudoku\n",
    "        x = self.fc1(x)  # Output shape: (batch_size, 81)\n",
    "        \n",
    "        # Reshape back to (batch_size, 9, 9) for the final grid\n",
    "        return x.view(-1, 9, 9)\n",
    "\n",
    "# Check if CUDA is available, and use it if it is\n",
    "device = torch.device('cuda' if torch.cuda.is_available() else 'cpu')\n",
    "print(f\"Using device: {device}\")\n",
    "\n",
    "# Instantiate the model, move it to the GPU if available\n",
    "model = SudokuCNN().to(device)\n",
    "criterion = nn.MSELoss()  # Mean Squared Error Loss for regression\n",
    "optimizer = optim.Adam(model.parameters(), lr=0.0008)\n",
    "\n",
    "# Lists to track the loss for plotting\n",
    "train_losses = []\n",
    "test_losses = []\n",
    "\n",
    "# Training and Testing loop with loading bar and loss visualization\n",
    "num_epochs = 3\n",
    "for epoch in range(num_epochs):\n",
    "    print(f'Epoch [{epoch+1}/{num_epochs}]')\n",
    "\n",
    "    # Training Phase\n",
    "    model.train()  # Set the model to training mode\n",
    "    train_loss = 0.0\n",
    "    for batch_puzzles, batch_solutions in tqdm(train_loader, desc=\"Training\", leave=False):\n",
    "        # Move data to the device (GPU if available)\n",
    "        batch_puzzles = batch_puzzles.view(-1, 1, 9, 9).float().to(device) / 9  # Reshape to (batch_size, 1, 9, 9)\n",
    "        batch_solutions = batch_solutions.view(-1, 81).float().to(device) / 9\n",
    "        \n",
    "        # Forward pass through the model\n",
    "        outputs = model(batch_puzzles)\n",
    "        loss = criterion(outputs, batch_solutions.view(-1, 9, 9))\n",
    "        \n",
    "        # Backward pass and optimization\n",
    "        optimizer.zero_grad()\n",
    "        loss.backward()\n",
    "        optimizer.step()\n",
    "\n",
    "        train_loss += loss.item() * batch_puzzles.size(0)  # Accumulate loss\n",
    "\n",
    "    # Average train loss for the epoch\n",
    "    train_loss /= len(train_loader.dataset)\n",
    "    train_losses.append(train_loss)\n",
    "\n",
    "    # Testing Phase\n",
    "    model.eval()  # Set the model to evaluation mode\n",
    "    test_loss = 0.0\n",
    "    with torch.no_grad():  # No need to track gradients during testing\n",
    "        for batch_puzzles, batch_solutions in tqdm(test_loader, desc=\"Testing\", leave=False):\n",
    "            batch_puzzles = batch_puzzles.view(-1, 1, 9, 9).float().to(device) / 9  # Reshape to (batch_size, 1, 9, 9)\n",
    "            batch_solutions = batch_solutions.view(-1, 81).float().to(device) / 9\n",
    "\n",
    "            # Forward pass\n",
    "            outputs = model(batch_puzzles)\n",
    "            loss = criterion(outputs, batch_solutions.view(-1, 9, 9))\n",
    "\n",
    "            test_loss += loss.item() * batch_puzzles.size(0)  # Accumulate test loss\n",
    "\n",
    "    # Average test loss for the epoch\n",
    "    test_loss /= len(test_loader.dataset)\n",
    "    test_losses.append(test_loss)\n",
    "\n",
    "    # Print losses for the epoch\n",
    "    print(f'Training Loss: {train_loss:.4f}, Testing Loss: {test_loss:.4f}')\n",
    "\n",
    "# Plot the loss curves for training and testing\n",
    "plt.figure(figsize=(10,5))\n",
    "plt.plot(train_losses, label='Training Loss', color='blue')\n",
    "plt.plot(test_losses, label='Testing Loss', color='red')\n",
    "plt.xlabel('Epochs')\n",
    "plt.ylabel('Loss')\n",
    "plt.title('Training and Testing Loss Over Time')\n",
    "plt.legend()\n",
    "plt.grid(True)\n",
    "plt.show()\n"
   ]
  },
  {
   "cell_type": "code",
   "execution_count": 16,
   "metadata": {},
   "outputs": [
    {
     "name": "stdout",
     "output_type": "stream",
     "text": [
      "Test Accuracy on 10000 samples: 72.71%\n"
     ]
    }
   ],
   "source": [
    "import torch\n",
    "import torch.nn as nn\n",
    "from torch.utils.data import DataLoader\n",
    "\n",
    "# Function to test the model on n samples from the test dataset, utilizing GPU if available\n",
    "def test_model(model, test_loader, n, device):\n",
    "    model.eval()  # Set model to evaluation mode\n",
    "    model.to(device)  # Move the model to the device (GPU or CPU)\n",
    "    \n",
    "    total_correct = 0\n",
    "    total_cells = 0\n",
    "\n",
    "    with torch.no_grad():  # No need to compute gradients during testing\n",
    "        for i, (puzzles, solutions) in enumerate(test_loader):\n",
    "            if i * puzzles.size(0) >= n:\n",
    "                break  # Stop when we've tested n samples\n",
    "\n",
    "            # Move puzzles and solutions to the device (GPU or CPU)\n",
    "            puzzles = puzzles.view(-1, 1, 9, 9).float().to(device) / 9  # Normalized between 0 and 1\n",
    "            solutions = solutions.view(-1, 9, 9).float().to(device)  # Original solutions reshaped\n",
    "\n",
    "            # Forward pass\n",
    "            outputs = model(puzzles)  # Model prediction\n",
    "\n",
    "            # De-normalize and round predictions\n",
    "            predicted = torch.round(outputs * 9).clamp(0, 9)  # Round and clip between 0-9\n",
    "            true_values = solutions.view(-1, 9, 9)  # Reshape true solutions back to (batch_size, 9, 9)\n",
    "\n",
    "            # Calculate number of correct guesses (element-wise comparison)\n",
    "            correct = (predicted == true_values).sum().item()  # Count correct guesses\n",
    "            total_correct += correct\n",
    "            total_cells += predicted.numel()  # Total number of cells processed\n",
    "\n",
    "    # Calculate accuracy as a percentage of correct guesses\n",
    "    accuracy = (total_correct / total_cells) * 100\n",
    "    print(f\"Test Accuracy on {n} samples: {accuracy:.2f}%\")\n",
    "    return accuracy\n",
    "\n",
    "# Example usage of the test_model function\n",
    "# Set the number of samples to test (n)\n",
    "n_samples_to_test = 10000  # Adjust this as needed\n",
    "\n",
    "# Check if a GPU is available and set the device accordingly\n",
    "device = torch.device(\"cuda\" if torch.cuda.is_available() else \"cpu\")\n",
    "\n",
    "# Load the test dataset (ensure test_dataset is already defined and properly formatted)\n",
    "test_loader = DataLoader(test_dataset, batch_size=10000, shuffle=True)\n",
    "\n",
    "# Assuming your model is already trained, now test it\n",
    "test_accuracy = test_model(model, test_loader, n_samples_to_test, device)\n",
    "\n"
   ]
  },
  {
   "cell_type": "code",
   "execution_count": 17,
   "metadata": {},
   "outputs": [],
   "source": [
    "torch.save(model.state_dict(), 'SudokuCNN1.pth')"
   ]
  }
 ],
 "metadata": {
  "kernelspec": {
   "display_name": "Python 3",
   "language": "python",
   "name": "python3"
  },
  "language_info": {
   "codemirror_mode": {
    "name": "ipython",
    "version": 3
   },
   "file_extension": ".py",
   "mimetype": "text/x-python",
   "name": "python",
   "nbconvert_exporter": "python",
   "pygments_lexer": "ipython3",
   "version": "3.10.8"
  }
 },
 "nbformat": 4,
 "nbformat_minor": 2
}
