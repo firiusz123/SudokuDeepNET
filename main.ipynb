{
 "cells": [
  {
   "cell_type": "code",
   "execution_count": 1,
   "metadata": {},
   "outputs": [],
   "source": [
    "import datasets"
   ]
  },
  {
   "cell_type": "code",
   "execution_count": 2,
   "metadata": {},
   "outputs": [
    {
     "name": "stdout",
     "output_type": "stream",
     "text": [
      "\u001b[1;31mType:\u001b[0m        module\n",
      "\u001b[1;31mString form:\u001b[0m <module 'datasets' from 'C:\\\\Users\\\\11\\\\AppData\\\\Roaming\\\\Python\\\\Python310\\\\site-packages\\\\datasets\\\\__init__.py'>\n",
      "\u001b[1;31mFile:\u001b[0m        c:\\users\\11\\appdata\\roaming\\python\\python310\\site-packages\\datasets\\__init__.py\n",
      "\u001b[1;31mSource:\u001b[0m     \n",
      "\u001b[1;31m# Copyright 2020 The HuggingFace Datasets Authors and the TensorFlow Datasets Authors.\u001b[0m\u001b[1;33m\n",
      "\u001b[0m\u001b[1;31m#\u001b[0m\u001b[1;33m\n",
      "\u001b[0m\u001b[1;31m# Licensed under the Apache License, Version 2.0 (the \"License\");\u001b[0m\u001b[1;33m\n",
      "\u001b[0m\u001b[1;31m# you may not use this file except in compliance with the License.\u001b[0m\u001b[1;33m\n",
      "\u001b[0m\u001b[1;31m# You may obtain a copy of the License at\u001b[0m\u001b[1;33m\n",
      "\u001b[0m\u001b[1;31m#\u001b[0m\u001b[1;33m\n",
      "\u001b[0m\u001b[1;31m#     http://www.apache.org/licenses/LICENSE-2.0\u001b[0m\u001b[1;33m\n",
      "\u001b[0m\u001b[1;31m#\u001b[0m\u001b[1;33m\n",
      "\u001b[0m\u001b[1;31m# Unless required by applicable law or agreed to in writing, software\u001b[0m\u001b[1;33m\n",
      "\u001b[0m\u001b[1;31m# distributed under the License is distributed on an \"AS IS\" BASIS,\u001b[0m\u001b[1;33m\n",
      "\u001b[0m\u001b[1;31m# WITHOUT WARRANTIES OR CONDITIONS OF ANY KIND, either express or implied.\u001b[0m\u001b[1;33m\n",
      "\u001b[0m\u001b[1;31m# See the License for the specific language governing permissions and\u001b[0m\u001b[1;33m\n",
      "\u001b[0m\u001b[1;31m# limitations under the License.\u001b[0m\u001b[1;33m\n",
      "\u001b[0m\u001b[1;33m\n",
      "\u001b[0m\u001b[0m__version__\u001b[0m \u001b[1;33m=\u001b[0m \u001b[1;34m\"3.0.0\"\u001b[0m\u001b[1;33m\n",
      "\u001b[0m\u001b[1;33m\n",
      "\u001b[0m\u001b[1;32mfrom\u001b[0m \u001b[1;33m.\u001b[0m\u001b[0marrow_dataset\u001b[0m \u001b[1;32mimport\u001b[0m \u001b[0mDataset\u001b[0m\u001b[1;33m\n",
      "\u001b[0m\u001b[1;32mfrom\u001b[0m \u001b[1;33m.\u001b[0m\u001b[0marrow_reader\u001b[0m \u001b[1;32mimport\u001b[0m \u001b[0mReadInstruction\u001b[0m\u001b[1;33m\n",
      "\u001b[0m\u001b[1;32mfrom\u001b[0m \u001b[1;33m.\u001b[0m\u001b[0mbuilder\u001b[0m \u001b[1;32mimport\u001b[0m \u001b[0mArrowBasedBuilder\u001b[0m\u001b[1;33m,\u001b[0m \u001b[0mBuilderConfig\u001b[0m\u001b[1;33m,\u001b[0m \u001b[0mDatasetBuilder\u001b[0m\u001b[1;33m,\u001b[0m \u001b[0mGeneratorBasedBuilder\u001b[0m\u001b[1;33m\n",
      "\u001b[0m\u001b[1;32mfrom\u001b[0m \u001b[1;33m.\u001b[0m\u001b[0mcombine\u001b[0m \u001b[1;32mimport\u001b[0m \u001b[0mconcatenate_datasets\u001b[0m\u001b[1;33m,\u001b[0m \u001b[0minterleave_datasets\u001b[0m\u001b[1;33m\n",
      "\u001b[0m\u001b[1;32mfrom\u001b[0m \u001b[1;33m.\u001b[0m\u001b[0mdataset_dict\u001b[0m \u001b[1;32mimport\u001b[0m \u001b[0mDatasetDict\u001b[0m\u001b[1;33m,\u001b[0m \u001b[0mIterableDatasetDict\u001b[0m\u001b[1;33m\n",
      "\u001b[0m\u001b[1;32mfrom\u001b[0m \u001b[1;33m.\u001b[0m\u001b[0mdownload\u001b[0m \u001b[1;32mimport\u001b[0m \u001b[1;33m*\u001b[0m\u001b[1;33m\n",
      "\u001b[0m\u001b[1;32mfrom\u001b[0m \u001b[1;33m.\u001b[0m\u001b[0mfeatures\u001b[0m \u001b[1;32mimport\u001b[0m \u001b[1;33m*\u001b[0m\u001b[1;33m\n",
      "\u001b[0m\u001b[1;32mfrom\u001b[0m \u001b[1;33m.\u001b[0m\u001b[0mfingerprint\u001b[0m \u001b[1;32mimport\u001b[0m \u001b[0mdisable_caching\u001b[0m\u001b[1;33m,\u001b[0m \u001b[0menable_caching\u001b[0m\u001b[1;33m,\u001b[0m \u001b[0mis_caching_enabled\u001b[0m\u001b[1;33m\n",
      "\u001b[0m\u001b[1;32mfrom\u001b[0m \u001b[1;33m.\u001b[0m\u001b[0minfo\u001b[0m \u001b[1;32mimport\u001b[0m \u001b[0mDatasetInfo\u001b[0m\u001b[1;33m\n",
      "\u001b[0m\u001b[1;32mfrom\u001b[0m \u001b[1;33m.\u001b[0m\u001b[0minspect\u001b[0m \u001b[1;32mimport\u001b[0m \u001b[1;33m(\u001b[0m\u001b[1;33m\n",
      "\u001b[0m    \u001b[0mget_dataset_config_info\u001b[0m\u001b[1;33m,\u001b[0m\u001b[1;33m\n",
      "\u001b[0m    \u001b[0mget_dataset_config_names\u001b[0m\u001b[1;33m,\u001b[0m\u001b[1;33m\n",
      "\u001b[0m    \u001b[0mget_dataset_default_config_name\u001b[0m\u001b[1;33m,\u001b[0m\u001b[1;33m\n",
      "\u001b[0m    \u001b[0mget_dataset_infos\u001b[0m\u001b[1;33m,\u001b[0m\u001b[1;33m\n",
      "\u001b[0m    \u001b[0mget_dataset_split_names\u001b[0m\u001b[1;33m,\u001b[0m\u001b[1;33m\n",
      "\u001b[0m\u001b[1;33m)\u001b[0m\u001b[1;33m\n",
      "\u001b[0m\u001b[1;32mfrom\u001b[0m \u001b[1;33m.\u001b[0m\u001b[0miterable_dataset\u001b[0m \u001b[1;32mimport\u001b[0m \u001b[0mIterableDataset\u001b[0m\u001b[1;33m\n",
      "\u001b[0m\u001b[1;32mfrom\u001b[0m \u001b[1;33m.\u001b[0m\u001b[0mload\u001b[0m \u001b[1;32mimport\u001b[0m \u001b[0mload_dataset\u001b[0m\u001b[1;33m,\u001b[0m \u001b[0mload_dataset_builder\u001b[0m\u001b[1;33m,\u001b[0m \u001b[0mload_from_disk\u001b[0m\u001b[1;33m\n",
      "\u001b[0m\u001b[1;32mfrom\u001b[0m \u001b[1;33m.\u001b[0m\u001b[0msplits\u001b[0m \u001b[1;32mimport\u001b[0m \u001b[1;33m(\u001b[0m\u001b[1;33m\n",
      "\u001b[0m    \u001b[0mNamedSplit\u001b[0m\u001b[1;33m,\u001b[0m\u001b[1;33m\n",
      "\u001b[0m    \u001b[0mNamedSplitAll\u001b[0m\u001b[1;33m,\u001b[0m\u001b[1;33m\n",
      "\u001b[0m    \u001b[0mSplit\u001b[0m\u001b[1;33m,\u001b[0m\u001b[1;33m\n",
      "\u001b[0m    \u001b[0mSplitBase\u001b[0m\u001b[1;33m,\u001b[0m\u001b[1;33m\n",
      "\u001b[0m    \u001b[0mSplitDict\u001b[0m\u001b[1;33m,\u001b[0m\u001b[1;33m\n",
      "\u001b[0m    \u001b[0mSplitGenerator\u001b[0m\u001b[1;33m,\u001b[0m\u001b[1;33m\n",
      "\u001b[0m    \u001b[0mSplitInfo\u001b[0m\u001b[1;33m,\u001b[0m\u001b[1;33m\n",
      "\u001b[0m    \u001b[0mSubSplitInfo\u001b[0m\u001b[1;33m,\u001b[0m\u001b[1;33m\n",
      "\u001b[0m    \u001b[0mpercent\u001b[0m\u001b[1;33m,\u001b[0m\u001b[1;33m\n",
      "\u001b[0m\u001b[1;33m)\u001b[0m\u001b[1;33m\n",
      "\u001b[0m\u001b[1;32mfrom\u001b[0m \u001b[1;33m.\u001b[0m\u001b[0mutils\u001b[0m \u001b[1;32mimport\u001b[0m \u001b[1;33m*\u001b[0m\u001b[1;33m\n",
      "\u001b[0m\u001b[1;32mfrom\u001b[0m \u001b[1;33m.\u001b[0m\u001b[0mutils\u001b[0m \u001b[1;32mimport\u001b[0m \u001b[0mlogging\u001b[0m\u001b[1;33m\u001b[0m\u001b[1;33m\u001b[0m\u001b[0m"
     ]
    }
   ],
   "source": [
    "??datasets"
   ]
  }
 ],
 "metadata": {
  "kernelspec": {
   "display_name": "Python 3",
   "language": "python",
   "name": "python3"
  },
  "language_info": {
   "codemirror_mode": {
    "name": "ipython",
    "version": 3
   },
   "file_extension": ".py",
   "mimetype": "text/x-python",
   "name": "python",
   "nbconvert_exporter": "python",
   "pygments_lexer": "ipython3",
   "version": "3.10.8"
  }
 },
 "nbformat": 4,
 "nbformat_minor": 2
}
